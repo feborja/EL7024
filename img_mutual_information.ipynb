{
  "nbformat": 4,
  "nbformat_minor": 0,
  "metadata": {
    "colab": {
      "provenance": []
    },
    "kernelspec": {
      "name": "python3",
      "display_name": "Python 3"
    },
    "language_info": {
      "name": "python"
    }
  },
  "cells": [
    {
      "cell_type": "markdown",
      "source": [
        "## Mutual Information on VGG\n",
        "\n",
        "Código implementado para realizar las estimaciones de información mutua en la base de datos CIFAR10 utilizando la red VGG entrenada"
      ],
      "metadata": {
        "id": "-HuOUCnvntT0"
      }
    },
    {
      "cell_type": "code",
      "execution_count": null,
      "metadata": {
        "id": "2WnC-U-IRG76"
      },
      "outputs": [],
      "source": [
        "import torch\n",
        "from torch import nn\n",
        "from torch.utils.data import DataLoader\n",
        "import torchvision\n",
        "from torchvision import transforms\n",
        "import matplotlib.pyplot as plt\n",
        "import numpy as np\n",
        "import os\n",
        "\n",
        "from PIL import Image\n",
        "\n",
        "import torch.nn.functional as F\n",
        "from tqdm import tqdm"
      ]
    },
    {
      "cell_type": "code",
      "source": [
        "import time\n",
        "from sklearn.decomposition import PCA\n",
        "from sklearn.feature_selection import mutual_info_regression as mutual_inf\n",
        "from sklearn.feature_selection import mutual_info_classif as mutual_int"
      ],
      "metadata": {
        "id": "pUXkQfSFUiey"
      },
      "execution_count": null,
      "outputs": []
    },
    {
      "cell_type": "code",
      "source": [
        "from google.colab import drive\n",
        "drive.mount('/gdrive')"
      ],
      "metadata": {
        "colab": {
          "base_uri": "https://localhost:8080/"
        },
        "id": "QvCYN0ZDSho5",
        "outputId": "98e5f93f-4760-4d47-82c1-c121415c9017"
      },
      "execution_count": null,
      "outputs": [
        {
          "output_type": "stream",
          "name": "stdout",
          "text": [
            "Mounted at /gdrive\n"
          ]
        }
      ]
    },
    {
      "cell_type": "code",
      "source": [
        "class EncoderVGG16(nn.Module):\n",
        "    def __init__(self,\n",
        "                 n_layers = 5,\n",
        "                 h_dims = [512,256,128,10]):\n",
        "\n",
        "        super(EncoderVGG16,self).__init__()\n",
        "        self.n_layers = n_layers\n",
        "        self.h_dims = h_dims\n",
        "        self.layers = [5,10,17,24,31]\n",
        "        self.full_vgg16 = torchvision.models.vgg16()\n",
        "        self.vgg = self.full_vgg16.features[:self.layers[self.n_layers-1]]\n",
        "\n",
        "        self.classifier = self.full_vgg16.classifier\n",
        "\n",
        "\n",
        "        self.classifier[0] = nn.Linear(self.h_dims[0], self.h_dims[1])\n",
        "        self.classifier[3] = nn.Linear(self.h_dims[1], self.h_dims[2])\n",
        "        self.classifier[6] = nn.Linear(self.h_dims[2], self.h_dims[3])\n",
        "\n",
        "\n",
        "    def encode(self,x, layer = 5):\n",
        "        return self.vgg[:self.layers[layer-1]](x)\n",
        "\n",
        "    def forward(self,x):\n",
        "        latent = self.encode(x)\n",
        "        latent = torch.flatten(latent,start_dim = 1)\n",
        "        output = self.classifier(latent)\n",
        "\n",
        "        return output"
      ],
      "metadata": {
        "id": "i6OC1HRlSLEp"
      },
      "execution_count": null,
      "outputs": []
    },
    {
      "cell_type": "code",
      "source": [
        "if not os.path.exists(\"data\"):\n",
        "    os.makedirs(\"data\")\n",
        "    print(\"Data directory created :D\")\n",
        "\n",
        "if not os.path.exists(\"data/train\"):\n",
        "    os.makedirs(\"data/train\")\n",
        "    print(\"Data train directory created :D\")\n",
        "\n",
        "if not os.path.exists(\"data/val\"):\n",
        "    os.makedirs(\"data/val\")\n",
        "    print(\"Data val directory created :D\")"
      ],
      "metadata": {
        "colab": {
          "base_uri": "https://localhost:8080/"
        },
        "id": "fEazPVKGSm8l",
        "outputId": "17a1e938-e3f7-475c-c9d3-2dd188f79647"
      },
      "execution_count": null,
      "outputs": [
        {
          "output_type": "stream",
          "name": "stdout",
          "text": [
            "Data directory created :D\n",
            "Data train directory created :D\n",
            "Data val directory created :D\n"
          ]
        }
      ]
    },
    {
      "cell_type": "code",
      "source": [
        "transform = transforms.Compose([\n",
        "     transforms.ToTensor(),\n",
        "    #  transforms.Lambda(gaussian_pixels),\n",
        "    # transforms.Normalize(mean=[0.49139968, 0.48215827 ,0.44653124],std=[0.24703233, 0.24348505, 0.26158768]),\n",
        "     ])\n",
        "\n",
        "tensor = transforms.ToTensor()"
      ],
      "metadata": {
        "id": "IhunhuKkSomS"
      },
      "execution_count": null,
      "outputs": []
    },
    {
      "cell_type": "code",
      "source": [
        "train_dataset = torchvision.datasets.CIFAR10(root = \"data/train/\",train=True, transform= transform,download=True)\n",
        "val_dataset = torchvision.datasets.CIFAR10(root = \"data/val/\",train = False, transform= transform, download=True)"
      ],
      "metadata": {
        "colab": {
          "base_uri": "https://localhost:8080/"
        },
        "id": "HAL3qi2ySp_m",
        "outputId": "b2894054-b485-4366-c34e-054dfb2955e4"
      },
      "execution_count": null,
      "outputs": [
        {
          "output_type": "stream",
          "name": "stdout",
          "text": [
            "Downloading https://www.cs.toronto.edu/~kriz/cifar-10-python.tar.gz to data/train/cifar-10-python.tar.gz\n"
          ]
        },
        {
          "output_type": "stream",
          "name": "stderr",
          "text": [
            "100%|██████████| 170498071/170498071 [00:02<00:00, 76973903.71it/s]\n"
          ]
        },
        {
          "output_type": "stream",
          "name": "stdout",
          "text": [
            "Extracting data/train/cifar-10-python.tar.gz to data/train/\n",
            "Downloading https://www.cs.toronto.edu/~kriz/cifar-10-python.tar.gz to data/val/cifar-10-python.tar.gz\n"
          ]
        },
        {
          "output_type": "stream",
          "name": "stderr",
          "text": [
            "100%|██████████| 170498071/170498071 [00:02<00:00, 72989684.59it/s]\n"
          ]
        },
        {
          "output_type": "stream",
          "name": "stdout",
          "text": [
            "Extracting data/val/cifar-10-python.tar.gz to data/val/\n"
          ]
        }
      ]
    },
    {
      "cell_type": "code",
      "source": [
        "trainloader = DataLoader(train_dataset, batch_size=1000,shuffle=False,)\n",
        "valloader = DataLoader(val_dataset,batch_size= 1000,shuffle= False)"
      ],
      "metadata": {
        "id": "QpbVHOFaSsgv"
      },
      "execution_count": null,
      "outputs": []
    },
    {
      "cell_type": "code",
      "source": [
        "for batch in trainloader:\n",
        "    data = batch\n",
        "    break"
      ],
      "metadata": {
        "id": "AW_4YaciT40u"
      },
      "execution_count": null,
      "outputs": []
    },
    {
      "cell_type": "code",
      "source": [
        "from concurrent.futures import ThreadPoolExecutor\n",
        "\n",
        "N_comps = 100\n",
        "def geti2l(x, layer):\n",
        "    layer = layer.t()\n",
        "    n = len(layer)\n",
        "    values = np.zeros(N_comps) #len(x[0])\n",
        "    for i in range(N_comps):\n",
        "        ewe = mutual_inf(x, layer[i])\n",
        "        values[i] = np.mean(ewe)\n",
        "    return values\n",
        "\n",
        "\n",
        "iters = [10, 20, 30, 40, 50, 70, 80, 100]\n",
        "model = EncoderVGG16()\n",
        "outs = []\n",
        "l2o = []\n",
        "\n",
        "\n",
        "for i in range(len(iters)):\n",
        "    # para evaluar distintos entrenamientos basta cambiar los parametros\n",
        "    # que se le cargan al modelo\n",
        "    state = torch.load(f\"/gdrive/MyDrive/VGG/linear_params/eachVGGParams_Linear_{iters[i]}.pt\",\n",
        "                       map_location=torch.device('cpu'))\n",
        "    model.load_state_dict(state)\n",
        "    x, y = data\n",
        "\n",
        "    start_time = time.time()\n",
        "    # aqui se modifica la capa que se analiza del modelo\n",
        "    out = model.encode(x, 5).detach()\n",
        "    out = out.flatten(1)\n",
        "    outs.append(out)\n",
        "    print(\"Encoding: %s s\" % (time.time() - start_time))\n",
        "\n",
        "    start_time = time.time()\n",
        "    pca2 = PCA(n_components = 400)\n",
        "    awa = np.array(pca2.fit_transform(out))\n",
        "    layer2out = np.array(mutual_int(awa, y))\n",
        "    l2o.append(np.mean(layer2out))\n",
        "    print(\"l2o: %s s\" % (time.time() - start_time))\n",
        "\n",
        "xd = x.flatten(start_dim= 1)\n",
        "pca1 = PCA(n_components = 500)\n",
        "x1 = torch.from_numpy(np.array(pca1.fit_transform(xd)))\n",
        "\n",
        "params_list = [[x1, x1, x1, x1, x1, x1, x1, x1],\n",
        "               [outs[0], outs[1], outs[2], outs[3], outs[4], outs[5], outs[6], outs[7]]]\n",
        "\n",
        "num_threads = 8\n",
        "start_time = time.time()\n",
        "with ThreadPoolExecutor(max_workers=num_threads) as executor:\n",
        "    i2l = list(executor.map(geti2l, params_list[0], params_list[1]))\n",
        "print(i2l)\n",
        "\n",
        "print(\"i2l: %s s\" % (time.time() - start_time))\n"
      ],
      "metadata": {
        "colab": {
          "base_uri": "https://localhost:8080/"
        },
        "id": "Gv1MStHBVL3T",
        "outputId": "16fcad34-7f9f-48a3-e128-41315e193a9b"
      },
      "execution_count": null,
      "outputs": [
        {
          "output_type": "stream",
          "name": "stdout",
          "text": [
            "Encoding: 22.113174200057983 s\n",
            "l2o: 7.29128098487854 s\n",
            "Encoding: 16.698189973831177 s\n",
            "l2o: 5.509047746658325 s\n",
            "Encoding: 18.13411545753479 s\n",
            "l2o: 6.500515937805176 s\n",
            "Encoding: 22.8663809299469 s\n",
            "l2o: 5.308148145675659 s\n",
            "Encoding: 29.081934452056885 s\n",
            "l2o: 5.156931638717651 s\n",
            "Encoding: 30.635228157043457 s\n",
            "l2o: 5.173245429992676 s\n",
            "Encoding: 32.97815990447998 s\n",
            "l2o: 6.058652400970459 s\n",
            "Encoding: 40.69048714637756 s\n",
            "l2o: 5.273570775985718 s\n",
            "[array([0.00790838, 0.        , 0.00995495, 0.        , 0.00820615,\n",
            "       0.        , 0.        , 0.00882607, 0.0074083 , 0.00953132,\n",
            "       0.00717274, 0.        , 0.01090172, 0.        , 0.00666157,\n",
            "       0.00592489, 0.00869998, 0.0103926 , 0.00945025, 0.00790104,\n",
            "       0.00842401, 0.01145728, 0.01170619, 0.        , 0.00882958,\n",
            "       0.        , 0.00726206, 0.        , 0.00952132, 0.        ,\n",
            "       0.01107674, 0.00796633, 0.        , 0.00830766, 0.0089236 ,\n",
            "       0.00899904, 0.00796467, 0.00835074, 0.00338156, 0.        ,\n",
            "       0.00718069, 0.00758888, 0.00682053, 0.        , 0.00899476,\n",
            "       0.0085949 , 0.00670353, 0.01118672, 0.00950017, 0.00787964,\n",
            "       0.01156425, 0.0074471 , 0.00794802, 0.00758235, 0.00495274,\n",
            "       0.        , 0.00881312, 0.01012911, 0.        , 0.00888243,\n",
            "       0.00959644, 0.        , 0.00747098, 0.01064369, 0.01066785,\n",
            "       0.        , 0.0096377 , 0.00762194, 0.00779122, 0.01109122,\n",
            "       0.        , 0.00891177, 0.00924385, 0.        , 0.00829022,\n",
            "       0.00982672, 0.01070585, 0.01005574, 0.        , 0.        ,\n",
            "       0.00955448, 0.00854024, 0.01199029, 0.        , 0.01013674,\n",
            "       0.00840319, 0.00543811, 0.00804626, 0.00925521, 0.        ,\n",
            "       0.0113074 , 0.01147368, 0.00979563, 0.        , 0.01360573,\n",
            "       0.00808574, 0.00873323, 0.00952031, 0.00971873, 0.01094143]), array([0.00781393, 0.        , 0.00947492, 0.        , 0.01156547,\n",
            "       0.        , 0.        , 0.00774061, 0.00921649, 0.01106932,\n",
            "       0.00769635, 0.        , 0.00990067, 0.        , 0.00748504,\n",
            "       0.00791146, 0.00913594, 0.01121096, 0.01037577, 0.00717593,\n",
            "       0.00611239, 0.01112098, 0.01081424, 0.        , 0.00707746,\n",
            "       0.        , 0.00725191, 0.        , 0.00921286, 0.        ,\n",
            "       0.00972536, 0.01208222, 0.        , 0.00749174, 0.00985438,\n",
            "       0.00944639, 0.00877337, 0.00813855, 0.00747965, 0.        ,\n",
            "       0.00919364, 0.00831086, 0.00693822, 0.        , 0.00907684,\n",
            "       0.00869914, 0.00784267, 0.01265799, 0.00964282, 0.00813977,\n",
            "       0.01101806, 0.00767582, 0.00782065, 0.00807432, 0.00983701,\n",
            "       0.        , 0.01108854, 0.00995986, 0.        , 0.0084524 ,\n",
            "       0.00908537, 0.        , 0.01118615, 0.00888328, 0.0098751 ,\n",
            "       0.        , 0.00854022, 0.00703828, 0.00786552, 0.01208765,\n",
            "       0.        , 0.00939563, 0.00844083, 0.        , 0.00834575,\n",
            "       0.00874947, 0.00997752, 0.00875609, 0.        , 0.        ,\n",
            "       0.00942585, 0.00881163, 0.0129747 , 0.        , 0.00862723,\n",
            "       0.01177801, 0.00925385, 0.00830319, 0.00766777, 0.        ,\n",
            "       0.01141696, 0.00898342, 0.00824096, 0.        , 0.01265739,\n",
            "       0.00703375, 0.01077037, 0.00904281, 0.00818325, 0.01080311]), array([0.00899636, 0.        , 0.00908157, 0.        , 0.0106671 ,\n",
            "       0.        , 0.        , 0.00721871, 0.01060876, 0.01061263,\n",
            "       0.00767584, 0.        , 0.01065343, 0.        , 0.00487684,\n",
            "       0.00859195, 0.01018478, 0.00764274, 0.00909838, 0.00691839,\n",
            "       0.00638821, 0.01039228, 0.0104155 , 0.        , 0.00915932,\n",
            "       0.        , 0.00869838, 0.        , 0.00807621, 0.        ,\n",
            "       0.00922399, 0.01151478, 0.        , 0.00780367, 0.01178469,\n",
            "       0.00786456, 0.00890268, 0.00747146, 0.00633589, 0.        ,\n",
            "       0.00856106, 0.00800465, 0.00677551, 0.        , 0.0088344 ,\n",
            "       0.00836093, 0.00926031, 0.01235806, 0.00888025, 0.00823746,\n",
            "       0.01128306, 0.00721761, 0.00756134, 0.00820329, 0.00926899,\n",
            "       0.        , 0.00938195, 0.00873699, 0.        , 0.00825686,\n",
            "       0.00862539, 0.        , 0.01059814, 0.00904396, 0.00819633,\n",
            "       0.        , 0.00713415, 0.0089825 , 0.00707897, 0.01045279,\n",
            "       0.        , 0.00884718, 0.00739437, 0.00217892, 0.00917269,\n",
            "       0.00835   , 0.00960083, 0.00899829, 0.        , 0.        ,\n",
            "       0.00926956, 0.00754202, 0.01121067, 0.        , 0.00894139,\n",
            "       0.01069994, 0.00937655, 0.00762982, 0.00731515, 0.        ,\n",
            "       0.01021281, 0.00956429, 0.00727445, 0.        , 0.01252036,\n",
            "       0.00685067, 0.01177973, 0.00755036, 0.00926381, 0.00806932]), array([0.00982783, 0.        , 0.00770579, 0.        , 0.01069883,\n",
            "       0.        , 0.        , 0.00722182, 0.01032711, 0.00996479,\n",
            "       0.00727555, 0.        , 0.00977215, 0.        , 0.00590595,\n",
            "       0.00772526, 0.00967462, 0.0090479 , 0.00589118, 0.00742814,\n",
            "       0.00628465, 0.008869  , 0.00864433, 0.        , 0.0077732 ,\n",
            "       0.        , 0.00842778, 0.        , 0.00755551, 0.        ,\n",
            "       0.01075167, 0.00941205, 0.        , 0.00805926, 0.01079451,\n",
            "       0.0080719 , 0.00844389, 0.00763632, 0.00917347, 0.        ,\n",
            "       0.00901595, 0.0075694 , 0.00766601, 0.        , 0.00875913,\n",
            "       0.00762921, 0.00769993, 0.01011883, 0.00774083, 0.00839371,\n",
            "       0.01065082, 0.00729959, 0.00712314, 0.00814726, 0.00811895,\n",
            "       0.        , 0.01045406, 0.0093668 , 0.        , 0.00864122,\n",
            "       0.00849284, 0.        , 0.00876557, 0.00797287, 0.00734954,\n",
            "       0.        , 0.0071909 , 0.0089747 , 0.00667296, 0.01012614,\n",
            "       0.        , 0.00887998, 0.00714197, 0.00289985, 0.00951261,\n",
            "       0.00674518, 0.01036528, 0.00882871, 0.        , 0.        ,\n",
            "       0.00755808, 0.00708701, 0.01027476, 0.        , 0.00813915,\n",
            "       0.00917554, 0.00926621, 0.00752153, 0.00746545, 0.        ,\n",
            "       0.01144051, 0.0083457 , 0.00724891, 0.        , 0.01148913,\n",
            "       0.00829189, 0.01034188, 0.00761895, 0.00944155, 0.01036665]), array([0.00894022, 0.        , 0.00755913, 0.        , 0.00885347,\n",
            "       0.00310702, 0.        , 0.00598197, 0.0085161 , 0.01056566,\n",
            "       0.00754699, 0.        , 0.00943234, 0.        , 0.00641535,\n",
            "       0.00747006, 0.00820715, 0.00783801, 0.00686842, 0.00607661,\n",
            "       0.00696884, 0.00926652, 0.00823667, 0.        , 0.00801047,\n",
            "       0.        , 0.00788348, 0.        , 0.00601077, 0.        ,\n",
            "       0.00834416, 0.00912621, 0.        , 0.00825263, 0.01014583,\n",
            "       0.0075819 , 0.00861911, 0.00670136, 0.00726107, 0.        ,\n",
            "       0.00847427, 0.0068601 , 0.00791484, 0.        , 0.0087143 ,\n",
            "       0.0081117 , 0.00679483, 0.01066416, 0.00891836, 0.00826359,\n",
            "       0.00843972, 0.00691025, 0.00763729, 0.00880751, 0.00843164,\n",
            "       0.00357927, 0.01031829, 0.00894528, 0.        , 0.00871943,\n",
            "       0.00809639, 0.        , 0.00870367, 0.00834511, 0.0073713 ,\n",
            "       0.        , 0.00764356, 0.00768657, 0.00753632, 0.01034406,\n",
            "       0.        , 0.00715729, 0.00679171, 0.00295223, 0.00792853,\n",
            "       0.00736177, 0.00950172, 0.00914922, 0.        , 0.        ,\n",
            "       0.00611986, 0.00703331, 0.01016793, 0.        , 0.00815216,\n",
            "       0.00987825, 0.00860579, 0.00738918, 0.00778982, 0.        ,\n",
            "       0.01046014, 0.00897229, 0.00520809, 0.        , 0.01258839,\n",
            "       0.0076421 , 0.0097902 , 0.00749127, 0.01028151, 0.01022856]), array([0.00877908, 0.        , 0.00668138, 0.        , 0.00911699,\n",
            "       0.        , 0.        , 0.0061157 , 0.00989916, 0.00916141,\n",
            "       0.00900292, 0.        , 0.0091432 , 0.        , 0.00624376,\n",
            "       0.00860927, 0.00867547, 0.00788403, 0.00700371, 0.00652343,\n",
            "       0.00823882, 0.00912895, 0.00903373, 0.        , 0.00878599,\n",
            "       0.        , 0.01095023, 0.        , 0.00630522, 0.        ,\n",
            "       0.00837966, 0.00884371, 0.        , 0.00769138, 0.0106402 ,\n",
            "       0.00900509, 0.00842565, 0.00792862, 0.00827003, 0.        ,\n",
            "       0.00978244, 0.0087857 , 0.00721438, 0.        , 0.00791578,\n",
            "       0.00787687, 0.00778991, 0.00967288, 0.00683605, 0.0079855 ,\n",
            "       0.00860515, 0.00713067, 0.00686023, 0.00766581, 0.00800856,\n",
            "       0.00388168, 0.01062498, 0.00802663, 0.        , 0.00827136,\n",
            "       0.00861047, 0.00429744, 0.01024846, 0.00687721, 0.00731699,\n",
            "       0.        , 0.00704959, 0.0066663 , 0.00766413, 0.00887044,\n",
            "       0.        , 0.00796519, 0.00712056, 0.00292246, 0.0079613 ,\n",
            "       0.00664769, 0.00984525, 0.00737446, 0.        , 0.        ,\n",
            "       0.00715778, 0.00622374, 0.01177144, 0.        , 0.00776361,\n",
            "       0.01084266, 0.00896202, 0.00821589, 0.00849719, 0.        ,\n",
            "       0.00991953, 0.00889408, 0.00609279, 0.        , 0.01016665,\n",
            "       0.00779527, 0.00880862, 0.00810935, 0.00949553, 0.0097102 ]), array([0.00784834, 0.        , 0.00771984, 0.        , 0.00915688,\n",
            "       0.        , 0.        , 0.00682154, 0.00865366, 0.01027455,\n",
            "       0.00861421, 0.        , 0.00913048, 0.        , 0.00877181,\n",
            "       0.00899747, 0.00756006, 0.0088718 , 0.00978831, 0.00653642,\n",
            "       0.00660054, 0.00824267, 0.00906333, 0.        , 0.00898415,\n",
            "       0.        , 0.00956854, 0.        , 0.00705674, 0.        ,\n",
            "       0.00806001, 0.0090192 , 0.        , 0.00652445, 0.01056459,\n",
            "       0.00966036, 0.00952901, 0.00712159, 0.00957322, 0.        ,\n",
            "       0.00953614, 0.00892183, 0.00684865, 0.        , 0.00797109,\n",
            "       0.00718858, 0.00719274, 0.00938993, 0.00712656, 0.00865613,\n",
            "       0.00822979, 0.00795429, 0.00775241, 0.00858986, 0.00830311,\n",
            "       0.00340054, 0.01143295, 0.00941037, 0.        , 0.0078468 ,\n",
            "       0.007471  , 0.00446249, 0.00980815, 0.00640829, 0.00789417,\n",
            "       0.        , 0.00690909, 0.00697409, 0.00685472, 0.00888855,\n",
            "       0.        , 0.00761421, 0.00618243, 0.00338462, 0.00799795,\n",
            "       0.00714219, 0.00985387, 0.00983683, 0.        , 0.        ,\n",
            "       0.00659026, 0.00750894, 0.01105354, 0.        , 0.00644965,\n",
            "       0.01064041, 0.00777957, 0.00790339, 0.00780471, 0.        ,\n",
            "       0.01160088, 0.0086736 , 0.00674462, 0.        , 0.01162059,\n",
            "       0.0067946 , 0.00969456, 0.00758185, 0.00947151, 0.00954643]), array([0.00920918, 0.        , 0.00674601, 0.        , 0.00986441,\n",
            "       0.        , 0.        , 0.00621683, 0.00912239, 0.01063757,\n",
            "       0.00786281, 0.        , 0.00794536, 0.        , 0.00641029,\n",
            "       0.00953757, 0.00860973, 0.00653933, 0.00706217, 0.00708732,\n",
            "       0.00679161, 0.00987417, 0.01109619, 0.        , 0.0081303 ,\n",
            "       0.        , 0.00808615, 0.        , 0.00522447, 0.        ,\n",
            "       0.00927467, 0.0083353 , 0.        , 0.00843892, 0.01116828,\n",
            "       0.00958936, 0.0094848 , 0.00704503, 0.00841249, 0.00029884,\n",
            "       0.00867798, 0.00903581, 0.00646576, 0.        , 0.00716554,\n",
            "       0.00619167, 0.00806584, 0.00891661, 0.00786911, 0.00855573,\n",
            "       0.0082524 , 0.00665022, 0.00712621, 0.00727556, 0.00789019,\n",
            "       0.00349069, 0.01052141, 0.00758705, 0.        , 0.00823472,\n",
            "       0.00813929, 0.        , 0.0090286 , 0.00758823, 0.00708608,\n",
            "       0.        , 0.00704199, 0.00902773, 0.00728565, 0.00726359,\n",
            "       0.        , 0.00847379, 0.00752408, 0.00321687, 0.00814935,\n",
            "       0.0064605 , 0.01041993, 0.00849874, 0.        , 0.        ,\n",
            "       0.00664719, 0.00691883, 0.01156806, 0.        , 0.00662837,\n",
            "       0.00989046, 0.00868679, 0.00847213, 0.00827465, 0.        ,\n",
            "       0.00806997, 0.00855068, 0.00684233, 0.        , 0.0096146 ,\n",
            "       0.00654016, 0.00999912, 0.00676709, 0.00874749, 0.00922322])]\n",
            "i2l: 2456.6893980503082 s\n"
          ]
        }
      ]
    },
    {
      "cell_type": "code",
      "source": [
        "np.save('vgg_l5_lineal.npy', [np.mean(i2l, axis = 1), l2o])"
      ],
      "metadata": {
        "id": "h4TCUkA-SCi-"
      },
      "execution_count": null,
      "outputs": []
    },
    {
      "cell_type": "code",
      "source": [
        "from google.colab import files\n",
        "\n",
        "files.download('vgg_l5_lineal.npy')"
      ],
      "metadata": {
        "id": "jm6jDQcr_NOF",
        "colab": {
          "base_uri": "https://localhost:8080/",
          "height": 17
        },
        "outputId": "b264ac59-5e1d-47ed-a690-9471c8196072"
      },
      "execution_count": null,
      "outputs": [
        {
          "output_type": "display_data",
          "data": {
            "text/plain": [
              "<IPython.core.display.Javascript object>"
            ],
            "application/javascript": [
              "\n",
              "    async function download(id, filename, size) {\n",
              "      if (!google.colab.kernel.accessAllowed) {\n",
              "        return;\n",
              "      }\n",
              "      const div = document.createElement('div');\n",
              "      const label = document.createElement('label');\n",
              "      label.textContent = `Downloading \"${filename}\": `;\n",
              "      div.appendChild(label);\n",
              "      const progress = document.createElement('progress');\n",
              "      progress.max = size;\n",
              "      div.appendChild(progress);\n",
              "      document.body.appendChild(div);\n",
              "\n",
              "      const buffers = [];\n",
              "      let downloaded = 0;\n",
              "\n",
              "      const channel = await google.colab.kernel.comms.open(id);\n",
              "      // Send a message to notify the kernel that we're ready.\n",
              "      channel.send({})\n",
              "\n",
              "      for await (const message of channel.messages) {\n",
              "        // Send a message to notify the kernel that we're ready.\n",
              "        channel.send({})\n",
              "        if (message.buffers) {\n",
              "          for (const buffer of message.buffers) {\n",
              "            buffers.push(buffer);\n",
              "            downloaded += buffer.byteLength;\n",
              "            progress.value = downloaded;\n",
              "          }\n",
              "        }\n",
              "      }\n",
              "      const blob = new Blob(buffers, {type: 'application/binary'});\n",
              "      const a = document.createElement('a');\n",
              "      a.href = window.URL.createObjectURL(blob);\n",
              "      a.download = filename;\n",
              "      div.appendChild(a);\n",
              "      a.click();\n",
              "      div.remove();\n",
              "    }\n",
              "  "
            ]
          },
          "metadata": {}
        },
        {
          "output_type": "display_data",
          "data": {
            "text/plain": [
              "<IPython.core.display.Javascript object>"
            ],
            "application/javascript": [
              "download(\"download_aae747fa-9ae0-4a86-a8c6-b4815907585d\", \"vgg_l5_lineal.npy\", 256)"
            ]
          },
          "metadata": {}
        }
      ]
    },
    {
      "cell_type": "code",
      "source": [
        "EMIS_X = np.mean(i2l, axis = 1)\n",
        "EMIS_Y = l2o\n",
        "\n",
        "plt.scatter(EMIS_X, EMIS_Y, c = iters)\n",
        "plt.plot(EMIS_X, EMIS_Y, '-o', alpha = 0.3)\n",
        "plt.xlabel(r'$I(X,T)$')\n",
        "plt.ylabel(r'$I(Y,T)$')\n",
        "plt.title(f'Information plane layer 5')\n",
        "plt.grid(alpha=0.3)\n",
        "plt.colorbar()\n",
        "plt.tight_layout()\n",
        "plt.show()"
      ],
      "metadata": {
        "id": "wRms4JSVsLxa",
        "colab": {
          "base_uri": "https://localhost:8080/",
          "height": 487
        },
        "outputId": "a15de4e3-988b-4b66-d7bb-666517021f6a"
      },
      "execution_count": null,
      "outputs": [
        {
          "output_type": "display_data",
          "data": {
            "text/plain": [
              "<Figure size 640x480 with 2 Axes>"
            ],
            "image/png": "[encoded data removed]"
          },
          "metadata": {}
        }
      ]
    }
  ]
}