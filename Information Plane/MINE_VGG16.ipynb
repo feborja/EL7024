{
  "cells": [
    {
      "cell_type": "code",
      "execution_count": 1,
      "metadata": {
        "id": "eONGxwfyEVXa"
      },
      "outputs": [],
      "source": [
        "import torch\n",
        "from torch import nn\n",
        "from torch.utils.data import DataLoader\n",
        "import torchvision\n",
        "from torchvision import transforms\n",
        "import matplotlib.pyplot as plt\n",
        "import numpy as np\n",
        "import os\n",
        "\n",
        "from PIL import Image\n",
        "\n",
        "import torch.nn.functional as F\n",
        "from tqdm import tqdm"
      ]
    },
    {
      "cell_type": "code",
      "execution_count": 2,
      "metadata": {
        "id": "uL7MBxyfE-4J"
      },
      "outputs": [],
      "source": [
        "class EncoderVGG16(nn.Module):\n",
        "    def __init__(self,\n",
        "                 n_layers = 5,\n",
        "                 h_dims = [512,256,128,10]):\n",
        "\n",
        "        super(EncoderVGG16,self).__init__()\n",
        "        self.n_layers = n_layers\n",
        "        self.h_dims = h_dims\n",
        "        self.layers = [5,10,17,24,31]\n",
        "        self.full_vgg16 = torchvision.models.vgg16()\n",
        "        self.vgg = self.full_vgg16.features[:self.layers[self.n_layers-1]]\n",
        "\n",
        "        self.classifier = self.full_vgg16.classifier\n",
        "\n",
        "\n",
        "        self.classifier[0] = nn.Linear(self.h_dims[0], self.h_dims[1])\n",
        "        self.classifier[3] = nn.Linear(self.h_dims[1], self.h_dims[2])\n",
        "        self.classifier[6] = nn.Linear(self.h_dims[2], self.h_dims[3])\n",
        "\n",
        "\n",
        "    def encode(self,x, layer = 5):\n",
        "        return self.vgg[:self.layers[layer-1]](x)\n",
        "\n",
        "    def forward(self,x):\n",
        "        latent = self.encode(x)\n",
        "        latent = torch.flatten(latent,start_dim = 1)\n",
        "        output = self.classifier(latent)\n",
        "\n",
        "        return output"
      ]
    },
    {
      "cell_type": "code",
      "execution_count": 4,
      "metadata": {
        "colab": {
          "base_uri": "https://localhost:8080/"
        },
        "id": "g5TMjPSU3wki",
        "outputId": "d51a74d5-8345-4414-f514-127c153b9564"
      },
      "outputs": [
        {
          "name": "stdout",
          "output_type": "stream",
          "text": [
            "Mounted at /content/gdrive\n"
          ]
        }
      ],
      "source": [
        "from google.colab import drive\n",
        "drive.mount('/content/gdrive')"
      ]
    },
    {
      "cell_type": "code",
      "execution_count": 10,
      "metadata": {
        "colab": {
          "base_uri": "https://localhost:8080/"
        },
        "id": "gN9ZgzxzFFmU",
        "outputId": "8aba18a5-ada6-44f0-aa57-878dbf089ae7"
      },
      "outputs": [
        {
          "data": {
            "text/plain": [
              "<All keys matched successfully>"
            ]
          },
          "execution_count": 10,
          "metadata": {},
          "output_type": "execute_result"
        }
      ],
      "source": [
        "model = EncoderVGG16()\n",
        "# Aqui se modifica cuales parametros utiliza\n",
        "model.load_state_dict(torch.load(\"eachVGGParams_Clean_10.pt\"))"
      ]
    },
    {
      "cell_type": "code",
      "execution_count": 4,
      "metadata": {
        "colab": {
          "base_uri": "https://localhost:8080/"
        },
        "id": "XMziNIa-Ff9v",
        "outputId": "865fff6e-eb70-4b6c-e10e-4023c6350780"
      },
      "outputs": [
        {
          "name": "stdout",
          "output_type": "stream",
          "text": [
            "Data directory created :D\n",
            "Data train directory created :D\n",
            "Data val directory created :D\n"
          ]
        }
      ],
      "source": [
        "if not os.path.exists(\"data\"):\n",
        "    os.makedirs(\"data\")\n",
        "    print(\"Data directory created :D\")\n",
        "\n",
        "if not os.path.exists(\"data/train\"):\n",
        "    os.makedirs(\"data/train\")\n",
        "    print(\"Data train directory created :D\")\n",
        "\n",
        "if not os.path.exists(\"data/val\"):\n",
        "    os.makedirs(\"data/val\")\n",
        "    print(\"Data val directory created :D\")"
      ]
    },
    {
      "cell_type": "code",
      "execution_count": 5,
      "metadata": {
        "id": "hnmYoZe8F-GF"
      },
      "outputs": [],
      "source": [
        "transform = transforms.Compose([\n",
        "     transforms.ToTensor(),\n",
        "    #  transforms.Lambda(gaussian_pixels),\n",
        "     transforms.Normalize(mean=[0.49139968, 0.48215827 ,0.44653124],std=[0.24703233, 0.24348505, 0.26158768]),\n",
        "     ])"
      ]
    },
    {
      "cell_type": "code",
      "execution_count": 6,
      "metadata": {
        "colab": {
          "base_uri": "https://localhost:8080/"
        },
        "id": "-Fp8T_y6GCD_",
        "outputId": "1dce0394-7278-4f65-e483-d2a8e61848d4"
      },
      "outputs": [
        {
          "name": "stdout",
          "output_type": "stream",
          "text": [
            "Downloading https://www.cs.toronto.edu/~kriz/cifar-10-python.tar.gz to data/train/cifar-10-python.tar.gz\n"
          ]
        },
        {
          "name": "stderr",
          "output_type": "stream",
          "text": [
            "100%|██████████| 170498071/170498071 [00:03<00:00, 49840064.19it/s]\n"
          ]
        },
        {
          "name": "stdout",
          "output_type": "stream",
          "text": [
            "Extracting data/train/cifar-10-python.tar.gz to data/train/\n",
            "Downloading https://www.cs.toronto.edu/~kriz/cifar-10-python.tar.gz to data/val/cifar-10-python.tar.gz\n"
          ]
        },
        {
          "name": "stderr",
          "output_type": "stream",
          "text": [
            "100%|██████████| 170498071/170498071 [00:02<00:00, 84677644.15it/s]\n"
          ]
        },
        {
          "name": "stdout",
          "output_type": "stream",
          "text": [
            "Extracting data/val/cifar-10-python.tar.gz to data/val/\n"
          ]
        }
      ],
      "source": [
        "train_dataset = torchvision.datasets.CIFAR10(root = \"data/train/\",train=True, transform= transform,download=True)\n",
        "val_dataset = torchvision.datasets.CIFAR10(root = \"data/val/\",train = False, transform= transform, download=True)"
      ]
    },
    {
      "cell_type": "code",
      "execution_count": 7,
      "metadata": {
        "id": "c7rOTXXYhglZ"
      },
      "outputs": [],
      "source": [
        "trainloader = DataLoader(train_dataset, batch_size=1000,shuffle=True,)\n",
        "valloader = DataLoader(val_dataset,batch_size= 1000,shuffle= False)"
      ]
    },
    {
      "cell_type": "code",
      "execution_count": 8,
      "metadata": {
        "id": "RTQf-XgOov4I"
      },
      "outputs": [],
      "source": [
        "class EMI_Net(nn.Module):\n",
        "    def __init__(self, x_shape=1, T_shape=1, H=20):\n",
        "        super(EMI_Net, self).__init__()\n",
        "        self.fc1 = nn.Linear(x_shape, H)\n",
        "        self.fc2 = nn.Linear(T_shape, H)\n",
        "        self.fc3 = nn.Linear(H, 1)\n",
        "\n",
        "    def forward(self, x, T):\n",
        "        h1 = F.relu(self.fc1(x)+self.fc2(T))\n",
        "        h2 = self.fc3(h1)\n",
        "        return h2\n",
        "\n",
        "\n",
        "def estimateMI(model, train_loader, H=10, l=1, n_epoch=15):\n",
        "\n",
        "  latent_shape = [16384,8192,4096,2048,512]\n",
        "\n",
        "  model_MINE_X = EMI_Net(x_shape=3072,T_shape=latent_shape[l-1], H=H) # cambiar tamaños\n",
        "  model_MINE_Y = EMI_Net(x_shape=10,T_shape=latent_shape[l-1], H=H) # cambiar tamaños\n",
        "\n",
        "  optimizer_X = torch.optim.Adam(model_MINE_X.parameters(), lr=0.01)\n",
        "  optimizer_Y = torch.optim.Adam(model_MINE_Y.parameters(), lr=0.01)\n",
        "\n",
        "  X_emi = []\n",
        "  Y_emi = []\n",
        "\n",
        "  for epoch in tqdm(range(n_epoch)):\n",
        "      for i, data in enumerate(train_loader):\n",
        "\n",
        "          optimizer_X.zero_grad()\n",
        "          optimizer_Y.zero_grad()\n",
        "\n",
        "          # Data\n",
        "          inputs, labels = data\n",
        "          x_sample = torch.flatten(inputs, start_dim=1)\n",
        "          T_sample = model.encode(inputs, layer = l)\n",
        "          T_sample = torch.flatten(T_sample, start_dim=1)\n",
        "          T_shuffle = T_sample[torch.randperm(T_sample.size()[0])]\n",
        "\n",
        "          Y_sample = np.zeros((len(labels),10), dtype='float32')\n",
        "          for k, idx in enumerate(labels):\n",
        "            Y_sample[k,idx] = 1\n",
        "          Y_sample = torch.from_numpy(Y_sample)\n",
        "\n",
        "          # I(X,T)\n",
        "          pred_xy = model_MINE_X(x_sample, T_sample)\n",
        "          pred_x_y = model_MINE_X(x_sample, T_shuffle)\n",
        "          ret = torch.mean(pred_xy) - torch.log(torch.mean(torch.exp(pred_x_y)))\n",
        "          loss_X = - ret  # maximize\n",
        "          model_MINE_X.zero_grad()\n",
        "          loss_X.backward()\n",
        "          optimizer_X.step()\n",
        "\n",
        "          # Data\n",
        "          T_sample = model.encode(inputs, layer = l)\n",
        "          T_sample = torch.flatten(T_sample, start_dim=1)\n",
        "          T_shuffle = T_sample[torch.randperm(T_sample.size()[0])]\n",
        "\n",
        "          # I(Y,T)\n",
        "          pred_xy = model_MINE_Y(Y_sample, T_sample)\n",
        "          pred_x_y = model_MINE_Y(Y_sample, T_shuffle)\n",
        "          ret = torch.mean(pred_xy) - torch.log(torch.mean(torch.exp(pred_x_y)))\n",
        "          loss_Y = - ret  # maximize\n",
        "          model_MINE_Y.zero_grad()\n",
        "          loss_Y.backward()\n",
        "          optimizer_Y.step()\n",
        "\n",
        "      # save on each epoch\n",
        "      X_emi.append(-loss_X.data.item())\n",
        "      Y_emi.append(-loss_Y.data.item())\n",
        "\n",
        "      print(f'Epoch {epoch}: I(X,T) = {-loss_X.data.item()}, I(Y,T) = {-loss_Y.data.item()}')\n",
        "  return np.array(X_emi), np.array(Y_emi)"
      ]
    },
    {
      "cell_type": "code",
      "execution_count": null,
      "metadata": {
        "id": "Yyc7Pc831P9p"
      },
      "outputs": [],
      "source": [
        "from google.colab import files\n",
        "\n",
        "for l in [1,3,5]: # capas analizadas\n",
        "  print(f'Analizando capa {l}')\n",
        "  I_XT, I_YT = estimateMI(model, trainloader, H=10, l=l, n_epoch=10)\n",
        "  filename = 'clean_epoch_10_layer_'+str(l)+'.npy'\n",
        "  np.save('I_XT_'+filename, I_XT)\n",
        "  np.save('I_YT_'+filename, I_YT)\n",
        "  files.download('I_XT_'+filename)\n",
        "  files.download('I_YT_'+filename)"
      ]
    }
  ],
  "metadata": {
    "accelerator": "GPU",
    "colab": {
      "gpuType": "T4",
      "provenance": []
    },
    "kernelspec": {
      "display_name": "Python 3",
      "name": "python3"
    },
    "language_info": {
      "name": "python"
    }
  },
  "nbformat": 4,
  "nbformat_minor": 0
}
