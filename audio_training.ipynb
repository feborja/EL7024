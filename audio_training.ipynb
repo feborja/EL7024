{
 "cells": [
  {
   "cell_type": "markdown",
   "metadata": {},
   "source": [
    "# Entrenamiento de audio con corrupciones\n",
    "Hecho por:\n",
    "* Ammi Beltrán\n",
    "* Fernanda Borja\n",
    "* Luciano Vidal"
   ]
  },
  {
   "cell_type": "markdown",
   "metadata": {},
   "source": [
    "**Dirección del dataset**"
   ]
  },
  {
   "cell_type": "code",
   "execution_count": 1,
   "metadata": {},
   "outputs": [],
   "source": [
    "DATA = \"C:\\\\audio_dataset\\\\UrbanSound8K\""
   ]
  },
  {
   "cell_type": "markdown",
   "metadata": {},
   "source": [
    "## Librerías"
   ]
  },
  {
   "cell_type": "code",
   "execution_count": 2,
   "metadata": {},
   "outputs": [],
   "source": [
    "# Misc\n",
    "import os\n",
    "import numpy as np\n",
    "import pandas as pd\n",
    "from pathlib import Path\n",
    "import matplotlib.pyplot as plt\n",
    "# Locals\n",
    "import audio.audio_corrupts as corrupt\n",
    "import audio.audio_model as audiotrain\n",
    "import audio.audio_data as dataudio\n",
    "# Torch\n",
    "import torch\n",
    "import torchaudio\n",
    "from torch import nn\n",
    "from torch.utils.data import DataLoader"
   ]
  },
  {
   "cell_type": "markdown",
   "metadata": {},
   "source": [
    "## Dataset"
   ]
  },
  {
   "cell_type": "code",
   "execution_count": 3,
   "metadata": {},
   "outputs": [
    {
     "data": {
      "text/html": [
       "<div>\n",
       "<style scoped>\n",
       "    .dataframe tbody tr th:only-of-type {\n",
       "        vertical-align: middle;\n",
       "    }\n",
       "\n",
       "    .dataframe tbody tr th {\n",
       "        vertical-align: top;\n",
       "    }\n",
       "\n",
       "    .dataframe thead th {\n",
       "        text-align: right;\n",
       "    }\n",
       "</style>\n",
       "<table border=\"1\" class=\"dataframe\">\n",
       "  <thead>\n",
       "    <tr style=\"text-align: right;\">\n",
       "      <th></th>\n",
       "      <th>relative_path</th>\n",
       "      <th>classID</th>\n",
       "      <th>corrupt</th>\n",
       "    </tr>\n",
       "  </thead>\n",
       "  <tbody>\n",
       "    <tr>\n",
       "      <th>0</th>\n",
       "      <td>\\audio\\fold5\\100032-3-0-0.wav</td>\n",
       "      <td>3</td>\n",
       "      <td>0.548814</td>\n",
       "    </tr>\n",
       "    <tr>\n",
       "      <th>1</th>\n",
       "      <td>\\audio\\fold5\\100263-2-0-117.wav</td>\n",
       "      <td>2</td>\n",
       "      <td>0.715189</td>\n",
       "    </tr>\n",
       "    <tr>\n",
       "      <th>2</th>\n",
       "      <td>\\audio\\fold5\\100263-2-0-121.wav</td>\n",
       "      <td>2</td>\n",
       "      <td>0.602763</td>\n",
       "    </tr>\n",
       "    <tr>\n",
       "      <th>3</th>\n",
       "      <td>\\audio\\fold5\\100263-2-0-126.wav</td>\n",
       "      <td>2</td>\n",
       "      <td>0.544883</td>\n",
       "    </tr>\n",
       "    <tr>\n",
       "      <th>4</th>\n",
       "      <td>\\audio\\fold5\\100263-2-0-137.wav</td>\n",
       "      <td>2</td>\n",
       "      <td>0.423655</td>\n",
       "    </tr>\n",
       "  </tbody>\n",
       "</table>\n",
       "</div>"
      ],
      "text/plain": [
       "                     relative_path  classID   corrupt\n",
       "0    \\audio\\fold5\\100032-3-0-0.wav        3  0.548814\n",
       "1  \\audio\\fold5\\100263-2-0-117.wav        2  0.715189\n",
       "2  \\audio\\fold5\\100263-2-0-121.wav        2  0.602763\n",
       "3  \\audio\\fold5\\100263-2-0-126.wav        2  0.544883\n",
       "4  \\audio\\fold5\\100263-2-0-137.wav        2  0.423655"
      ]
     },
     "execution_count": 3,
     "metadata": {},
     "output_type": "execute_result"
    }
   ],
   "source": [
    "np.random.seed(0)\n",
    "file = os.path.join(DATA, \"metadata\", \"UrbanSound8K.csv\")\n",
    "df = pd.read_csv(file)\n",
    "df['relative_path'] = '\\\\audio' + '\\\\fold' + df['fold'].astype(str) + '\\\\' + df['slice_file_name'].astype(str)\n",
    "df['corrupt'] = np.random.rand(len(df))\n",
    "df = df[['relative_path', 'classID', 'corrupt']]\n",
    "df.head()"
   ]
  },
  {
   "cell_type": "code",
   "execution_count": 4,
   "metadata": {},
   "outputs": [
    {
     "name": "stdout",
     "output_type": "stream",
     "text": [
      "                     relative_path  classID   corrupt\n",
      "0     \\audio\\fold5\\17578-5-0-2.wav        5  0.646628\n",
      "1  \\audio\\fold1\\193698-2-0-114.wav        2  0.479139\n",
      "2     \\audio\\fold6\\66623-4-0-2.wav        4  0.367986\n",
      "3      \\audio\\fold1\\9031-3-2-0.wav        3  0.048076\n",
      "4    \\audio\\fold7\\168846-5-1-4.wav        5  0.095380\n"
     ]
    }
   ],
   "source": [
    "# from torch.utils.data import random_split\n",
    "from sklearn.model_selection import train_test_split\n",
    "num_items = len(df)\n",
    "num_train = round(num_items * 0.8)\n",
    "num_val = num_items - num_train\n",
    "train, val = train_test_split(df, test_size=0.2,random_state=420)\n",
    "train, val = train.reset_index(drop = True), val.reset_index(drop = True) \n",
    "# generator1 = torch.Generator().manual_seed(420)\n",
    "# train, val = random_split(df, [num_train, num_val], generator=generator1)\n",
    "print(val.head())\n",
    "train_ds = dataudio.SoundDS(train, DATA, transform = True)\n",
    "val_ds = dataudio.SoundDS(val, DATA, transform = False)\n",
    "# print(len(train_ds))\n",
    "# print(val_ds[1])\n",
    "#\n",
    "train_dl = torch.utils.data.DataLoader(train_ds, batch_size=250, shuffle=True)\n",
    "val_dl = torch.utils.data.DataLoader(val_ds, batch_size=250, shuffle=False)"
   ]
  },
  {
   "cell_type": "code",
   "execution_count": 5,
   "metadata": {},
   "outputs": [
    {
     "name": "stdout",
     "output_type": "stream",
     "text": [
      "Epoch nro 1/100\n",
      "Iter: 1/28, Loss:2.2935309410095215\n",
      "Iter: 2/28, Loss:2.256622552871704\n",
      "Iter: 3/28, Loss:2.2348461151123047\n",
      "Iter: 4/28, Loss:2.1919450759887695\n",
      "Iter: 5/28, Loss:2.141547918319702\n",
      "Iter: 6/28, Loss:2.1219770908355713\n",
      "Iter: 7/28, Loss:2.091522455215454\n",
      "Iter: 8/28, Loss:2.068723440170288\n",
      "Iter: 9/28, Loss:2.00533127784729\n",
      "Iter: 10/28, Loss:2.0045390129089355\n",
      "Iter: 11/28, Loss:2.0010411739349365\n",
      "Iter: 12/28, Loss:1.9922263622283936\n",
      "Iter: 13/28, Loss:1.931702971458435\n",
      "Iter: 14/28, Loss:1.89935302734375\n",
      "Iter: 15/28, Loss:1.8591936826705933\n",
      "Iter: 16/28, Loss:1.8746051788330078\n",
      "Iter: 17/28, Loss:1.8798503875732422\n",
      "Iter: 18/28, Loss:1.8874129056930542\n",
      "Iter: 19/28, Loss:1.8391063213348389\n",
      "Iter: 20/28, Loss:1.7988874912261963\n",
      "Iter: 21/28, Loss:1.7871270179748535\n",
      "Iter: 22/28, Loss:1.783657431602478\n",
      "Iter: 23/28, Loss:1.7680844068527222\n",
      "Iter: 24/28, Loss:1.7282087802886963\n",
      "Iter: 25/28, Loss:1.825332760810852\n",
      "Iter: 26/28, Loss:1.869458794593811\n",
      "Iter: 27/28, Loss:1.6730270385742188\n",
      "Iter: 28/28, Loss:1.7544056177139282\n",
      "Epoch 1/100: Train loss = 1.948688268661499, Val loss = 1.714795470237732, Train acc = 0.33214030064423766, Val acc = 0.44533485975958786\n",
      "Better params found in epoch = 1, saved params\n",
      "Epoch nro 2/100\n",
      "Iter: 1/28, Loss:1.772117257118225\n",
      "Iter: 2/28, Loss:1.7939226627349854\n",
      "Iter: 3/28, Loss:1.6324061155319214\n",
      "Iter: 4/28, Loss:1.703839898109436\n",
      "Iter: 5/28, Loss:1.7060539722442627\n",
      "Iter: 6/28, Loss:1.688072919845581\n",
      "Iter: 7/28, Loss:1.7202328443527222\n",
      "Iter: 8/28, Loss:1.7269231081008911\n",
      "Iter: 9/28, Loss:1.654654622077942\n",
      "Iter: 10/28, Loss:1.673554539680481\n",
      "Iter: 11/28, Loss:1.6141066551208496\n",
      "Iter: 12/28, Loss:1.6341419219970703\n",
      "Iter: 13/28, Loss:1.5878225564956665\n",
      "Iter: 14/28, Loss:1.6513686180114746\n",
      "Iter: 15/28, Loss:1.6333420276641846\n",
      "Iter: 16/28, Loss:1.5771435499191284\n",
      "Iter: 17/28, Loss:1.5613443851470947\n",
      "Iter: 18/28, Loss:1.6302953958511353\n",
      "Iter: 19/28, Loss:1.6202870607376099\n",
      "Iter: 20/28, Loss:1.5440969467163086\n",
      "Iter: 21/28, Loss:1.4409648180007935\n",
      "Iter: 22/28, Loss:1.4829350709915161\n",
      "Iter: 23/28, Loss:1.4871294498443604\n",
      "Iter: 24/28, Loss:1.55748450756073\n",
      "Iter: 25/28, Loss:1.537842869758606\n",
      "Iter: 26/28, Loss:1.6044756174087524\n",
      "Iter: 27/28, Loss:1.4813084602355957\n",
      "Iter: 28/28, Loss:1.529305100440979\n",
      "Epoch 2/100: Train loss = 1.615970492362976, Val loss = 1.4889482259750366, Train acc = 0.47945597709377236, Val acc = 0.522610188895249\n",
      "Better params found in epoch = 2, saved params\n",
      "Epoch nro 3/100\n",
      "Iter: 1/28, Loss:1.441498875617981\n",
      "Iter: 2/28, Loss:1.48781156539917\n",
      "Iter: 3/28, Loss:1.445358157157898\n",
      "Iter: 4/28, Loss:1.5691579580307007\n",
      "Iter: 5/28, Loss:1.524308681488037\n",
      "Iter: 6/28, Loss:1.4216666221618652\n",
      "Iter: 7/28, Loss:1.4257222414016724\n",
      "Iter: 8/28, Loss:1.472833275794983\n",
      "Iter: 9/28, Loss:1.490072250366211\n",
      "Iter: 10/28, Loss:1.4762142896652222\n",
      "Iter: 11/28, Loss:1.4774750471115112\n",
      "Iter: 12/28, Loss:1.4209692478179932\n",
      "Iter: 13/28, Loss:1.4585634469985962\n",
      "Iter: 14/28, Loss:1.4129680395126343\n",
      "Iter: 15/28, Loss:1.4571295976638794\n",
      "Iter: 16/28, Loss:1.4694305658340454\n",
      "Iter: 17/28, Loss:1.421591877937317\n",
      "Iter: 18/28, Loss:1.3862284421920776\n",
      "Iter: 19/28, Loss:1.378456950187683\n",
      "Iter: 20/28, Loss:1.409562587738037\n",
      "Iter: 21/28, Loss:1.4498449563980103\n",
      "Iter: 22/28, Loss:1.3352872133255005\n",
      "Iter: 23/28, Loss:1.431754231452942\n",
      "Iter: 24/28, Loss:1.3598086833953857\n",
      "Iter: 25/28, Loss:1.2983309030532837\n",
      "Iter: 26/28, Loss:1.3278809785842896\n",
      "Iter: 27/28, Loss:1.3612146377563477\n",
      "Iter: 28/28, Loss:1.3946057558059692\n"
     ]
    }
   ],
   "source": [
    "model = audiotrain.AudioModel()\n",
    "criterion = nn.CrossEntropyLoss()\n",
    "optimizer = torch.optim.Adam(model.parameters(), lr = 0.001)\n",
    "train = audiotrain.train(model, 100, train_dl, val_dl, criterion, optimizer, state = None, name = \"clean\", dir = \"train_params\\\\clean\", device = \"cuda\")"
   ]
  }
 ],
 "metadata": {
  "kernelspec": {
   "display_name": "neuron",
   "language": "python",
   "name": "python3"
  },
  "language_info": {
   "codemirror_mode": {
    "name": "ipython",
    "version": 3
   },
   "file_extension": ".py",
   "mimetype": "text/x-python",
   "name": "python",
   "nbconvert_exporter": "python",
   "pygments_lexer": "ipython3",
   "version": "3.11.4"
  }
 },
 "nbformat": 4,
 "nbformat_minor": 2
}
