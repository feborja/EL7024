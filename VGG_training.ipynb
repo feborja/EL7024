{
  "cells": [
    {
      "cell_type": "markdown",
      "metadata": {
        "id": "tIpxwbcpdAA6"
      },
      "source": [
        "# Librerias"
      ]
    },
    {
      "cell_type": "markdown",
      "metadata": {},
      "source": [
        "**Para replicar los gráficos solo hace falta importar las librerías y bajar hasta el final en donde se encuetra la sección de plots**\n"
      ]
    },
    {
      "cell_type": "code",
      "execution_count": 1,
      "metadata": {
        "id": "8PiIyxuKdAA8"
      },
      "outputs": [],
      "source": [
        "import torch\n",
        "from torch import nn\n",
        "from torch.utils.data import DataLoader\n",
        "import torchvision\n",
        "from torchvision import transforms\n",
        "\n",
        "import matplotlib.pyplot as plt\n",
        "import numpy as np\n",
        "import os\n",
        "#\n",
        "from PIL import Image\n",
        "\n",
        "import time\n",
        "from sklearn.decomposition import PCA\n",
        "# from pathlib import Path\n",
        "import matplotlib.pyplot as plt\n",
        "from sklearn.feature_selection import mutual_info_regression as mutual_inf\n",
        "from sklearn.feature_selection import mutual_info_classif as mutual_int\n",
        "import glob"
      ]
    },
    {
      "cell_type": "code",
      "execution_count": null,
      "metadata": {
        "colab": {
          "base_uri": "https://localhost:8080/"
        },
        "id": "bv4dyfXafotX",
        "outputId": "af14f2f8-f006-4eb3-cb2f-6ed07b740f56"
      },
      "outputs": [],
      "source": [
        "# from google.colab import drive\n",
        "# drive.mount('/content/gdrive')"
      ]
    },
    {
      "cell_type": "code",
      "execution_count": null,
      "metadata": {
        "id": "kpXEtPHhVeLD"
      },
      "outputs": [],
      "source": [
        "# SAVE_PATH = \"\" #Local\n",
        "# SAVE_PATH = \"/content/gdrive/MyDrive/VGG\""
      ]
    },
    {
      "cell_type": "code",
      "execution_count": 88,
      "metadata": {},
      "outputs": [],
      "source": [
        "# files = glob.glob(\"C:\\\\Users\\\\TheSy\\\\Downloads\\\\MLP\" + \"/**\")"
      ]
    },
    {
      "cell_type": "code",
      "execution_count": 89,
      "metadata": {},
      "outputs": [],
      "source": [
        "# files.sort()"
      ]
    },
    {
      "cell_type": "code",
      "execution_count": 2,
      "metadata": {},
      "outputs": [],
      "source": [
        "# files =['C:\\\\Users\\\\TheSy\\\\Downloads\\\\MLP\\\\eachMLPParams_Clean_10.pt',\n",
        "#         'C:\\\\Users\\\\TheSy\\\\Downloads\\\\MLP\\\\eachMLPParams_Clean_50.pt',\n",
        "#         'C:\\\\Users\\\\TheSy\\\\Downloads\\\\MLP\\\\eachMLPParams_Clean_100.pt',\n",
        "#         'C:\\\\Users\\\\TheSy\\\\Downloads\\\\MLP\\\\eachMLPParams_Clean_150.pt',\n",
        "#         'C:\\\\Users\\\\TheSy\\\\Downloads\\\\MLP\\\\eachMLPParams_Clean_200.pt',\n",
        "#         'C:\\\\Users\\\\TheSy\\\\Downloads\\\\MLP\\\\eachMLPParams_Clean_250.pt',\n",
        "#         'C:\\\\Users\\\\TheSy\\\\Downloads\\\\MLP\\\\eachMLPParams_Clean_300.pt',\n",
        "#         'C:\\\\Users\\\\TheSy\\\\Downloads\\\\MLP\\\\eachMLPParams_Clean_350.pt',\n",
        "#         'C:\\\\Users\\\\TheSy\\\\Downloads\\\\MLP\\\\eachMLPParams_Clean_400.pt',\n",
        "# ]"
      ]
    },
    {
      "cell_type": "markdown",
      "metadata": {
        "id": "CSWUWq4kdAA9"
      },
      "source": [
        "# Modelo"
      ]
    },
    {
      "cell_type": "code",
      "execution_count": 53,
      "metadata": {
        "id": "2hbFfXzXdAA9"
      },
      "outputs": [],
      "source": [
        "class EncoderVGG16(nn.Module):\n",
        "    def __init__(self,\n",
        "                 n_layers = 5,\n",
        "                 h_dims = [512,256,128,10]):\n",
        "\n",
        "        super(EncoderVGG16,self).__init__()\n",
        "        self.n_layers = n_layers\n",
        "        self.h_dims = h_dims\n",
        "        self.layers = [5,10,17,24,31]\n",
        "        self.full_vgg16 = torchvision.models.vgg16()\n",
        "        self.vgg = self.full_vgg16.features[:self.layers[self.n_layers-1]]\n",
        "\n",
        "        self.classifier = self.full_vgg16.classifier\n",
        "\n",
        "\n",
        "        self.classifier[0] = nn.Linear(self.h_dims[0], self.h_dims[1])\n",
        "        self.classifier[3] = nn.Linear(self.h_dims[1], self.h_dims[2])\n",
        "        self.classifier[6] = nn.Linear(self.h_dims[2], self.h_dims[3])\n",
        "\n",
        "\n",
        "    def encode(self,x, layer = 5):\n",
        "        return self.vgg[:self.layers[layer-1]](x)\n",
        "\n",
        "    def forward(self,x):\n",
        "        latent = self.encode(x)\n",
        "        latent = torch.flatten(latent,start_dim = 1)\n",
        "        output = self.classifier(latent)\n",
        "\n",
        "        return output"
      ]
    },
    {
      "cell_type": "code",
      "execution_count": 3,
      "metadata": {},
      "outputs": [],
      "source": [
        "def init_weights(model):\n",
        "    if isinstance(model, nn.Conv2d):\n",
        "        nn.init.kaiming_normal_(model.weight, a = 0.1)\n",
        "        model.bias.data.zero_()\n",
        "\n",
        "class MLP512(nn.Module):\n",
        "    def __init__(self, input_size = 22016, hidden_size = 512, output_size = 10):\n",
        "        super(MLP512, self).__init__()\n",
        "    # def layers\n",
        "        self.layer1 = nn.Sequential(\n",
        "            nn.Linear(in_features = input_size, out_features = hidden_size),\n",
        "            nn.ReLU(),\n",
        "        )\n",
        "        self.layer2 = nn.Sequential(\n",
        "            nn.Linear(in_features = hidden_size, out_features = hidden_size),\n",
        "            nn.ReLU(),\n",
        "        )\n",
        "        self.layer3 = nn.Sequential(\n",
        "            nn.Linear(in_features = hidden_size, out_features = output_size),\n",
        "        )\n",
        "\n",
        "        self.layers = [self.layer1, self.layer2, self.layer3]\n",
        "        # Init weights\n",
        "        for layer in self.layers:\n",
        "            layer.apply(init_weights)\n",
        "\n",
        "    def encode(self, x, depth = 3):\n",
        "        out = x.flatten(start_dim = 1)\n",
        "        for i in range(depth):\n",
        "            out = self.layers[i](out)\n",
        "        return out\n",
        "\n",
        "    def forward(self, x):\n",
        "        # Pass through all layers\n",
        "        out = x.flatten(start_dim = 1)\n",
        "        for i in range(len(self.layers)):\n",
        "            out = self.layers[i](out)\n",
        "        return out "
      ]
    },
    {
      "cell_type": "code",
      "execution_count": 4,
      "metadata": {
        "id": "KKHJMvqXdAA-"
      },
      "outputs": [],
      "source": [
        "# model = EncoderVGG16()\n",
        "# model = MLP512(3*32*32)\n",
        "# model.vgg, model.classifier"
      ]
    },
    {
      "cell_type": "code",
      "execution_count": null,
      "metadata": {
        "colab": {
          "base_uri": "https://localhost:8080/"
        },
        "id": "ojHV9pK0y06x",
        "outputId": "c7c7e177-eff0-4617-f524-8592ec829746"
      },
      "outputs": [],
      "source": [
        "# model.load_state_dict(torch.load(\"/content/gdrive/MyDrive/VGG/clean_params/bestVGGParamsClean.pt\"))"
      ]
    },
    {
      "cell_type": "markdown",
      "metadata": {
        "id": "043fLq42dAA-"
      },
      "source": [
        "# Dataset"
      ]
    },
    {
      "cell_type": "code",
      "execution_count": null,
      "metadata": {
        "colab": {
          "base_uri": "https://localhost:8080/"
        },
        "id": "OVMGfi5adAA_",
        "outputId": "0b7546c1-a81f-464a-a4a1-ff4ace4ab537"
      },
      "outputs": [],
      "source": [
        "if not os.path.exists(\"data\"):\n",
        "    os.makedirs(\"data\")\n",
        "    print(\"Data directory created :D\")\n",
        "\n",
        "if not os.path.exists(\"data/train\"):\n",
        "    os.makedirs(\"data/train\")\n",
        "    print(\"Data train directory created :D\")\n",
        "\n",
        "if not os.path.exists(\"data/val\"):\n",
        "    os.makedirs(\"data/val\")\n",
        "    print(\"Data val directory created :D\")\n"
      ]
    },
    {
      "cell_type": "code",
      "execution_count": null,
      "metadata": {
        "colab": {
          "base_uri": "https://localhost:8080/"
        },
        "id": "iPBZ-0MjVv4o",
        "outputId": "57e01e28-443c-401c-fa0d-169ce845d203"
      },
      "outputs": [],
      "source": [
        "# train_type = \"linear_params\"\n",
        "# final_save = os.path.join(SAVE_PATH,train_type)\n",
        "# if not os.path.exists(final_save):\n",
        "#     os.makedirs(final_save)\n",
        "#     print(\"Data directory created :D\")\n"
      ]
    },
    {
      "cell_type": "code",
      "execution_count": null,
      "metadata": {
        "id": "0d9qEGk0dAA_"
      },
      "outputs": [],
      "source": [
        "# from img_corrupts import *"
      ]
    },
    {
      "cell_type": "code",
      "execution_count": 5,
      "metadata": {
        "id": "hUA4WbP0dAA_"
      },
      "outputs": [],
      "source": [
        "transform = transforms.Compose([\n",
        "     transforms.ToTensor(),\n",
        "    #  transforms.Lambda(pixel_permute),\n",
        "    #  transforms.Normalize(mean=[0.49139968, 0.48215827 ,0.44653124],std=[0.24703233, 0.24348505, 0.26158768]),\n",
        "     ])\n",
        "tensor = transforms.ToTensor()"
      ]
    },
    {
      "cell_type": "code",
      "execution_count": 6,
      "metadata": {
        "colab": {
          "base_uri": "https://localhost:8080/"
        },
        "id": "X2OYtsczdAA_",
        "outputId": "1fb8fbde-68bb-4104-b2bd-89d8566c8655"
      },
      "outputs": [
        {
          "name": "stdout",
          "output_type": "stream",
          "text": [
            "Files already downloaded and verified\n",
            "Files already downloaded and verified\n"
          ]
        }
      ],
      "source": [
        "# train_dataset = torchvision.datasets.CIFAR10(root = \"data/train/\",train=True, transform= None, download=True)\n",
        "# val_dataset = torchvision.datasets.CIFAR10(root = \"data/val/\",train = False, transform= None, download=True)\n",
        "train_dataset = torchvision.datasets.CIFAR10(root = \"data/train/\",train=True, transform= transform,download=True)\n",
        "val_dataset = torchvision.datasets.CIFAR10(root = \"data/val/\",train = False, transform= tensor, download=True)"
      ]
    },
    {
      "cell_type": "code",
      "execution_count": null,
      "metadata": {
        "id": "6edTRYTmwNd9"
      },
      "outputs": [],
      "source": [
        "# random_labels(train_dataset, 0.4)\n",
        "# torch.manual_seed(0)\n",
        "# lineal_imgs(train_dataset, 0.6)"
      ]
    },
    {
      "cell_type": "code",
      "execution_count": null,
      "metadata": {
        "id": "bCRFVf5zdAA_"
      },
      "outputs": [],
      "source": [
        "# train_image_zero, train_target_zero =train_dataset[0]\n",
        "# transforms.ToPILImage()(train_image_zero)"
      ]
    },
    {
      "cell_type": "code",
      "execution_count": null,
      "metadata": {
        "colab": {
          "base_uri": "https://localhost:8080/"
        },
        "id": "fD7DUTrHwnlK",
        "outputId": "c42e498c-7d29-4fe2-d6c4-cbef0cf8f443"
      },
      "outputs": [],
      "source": [
        "# train_target_zero"
      ]
    },
    {
      "cell_type": "code",
      "execution_count": null,
      "metadata": {
        "colab": {
          "base_uri": "https://localhost:8080/",
          "height": 406
        },
        "id": "Torga1bP2Z8Z",
        "outputId": "29c0d0f8-1b80-4550-a07c-c907bdcd2ec9"
      },
      "outputs": [],
      "source": [
        "# plt.imshow(np.transpose(train_image_zero, (0, 1, 2)))\n",
        "# plt.axis(\"off\")\n",
        "# plt.show()"
      ]
    },
    {
      "cell_type": "code",
      "execution_count": null,
      "metadata": {
        "colab": {
          "base_uri": "https://localhost:8080/"
        },
        "id": "VIBQmfY7dABA",
        "outputId": "a4978d39-db79-4bb0-ce5c-d7fe0537c8d8"
      },
      "outputs": [],
      "source": [
        "train_dataset"
      ]
    },
    {
      "cell_type": "code",
      "execution_count": null,
      "metadata": {
        "colab": {
          "base_uri": "https://localhost:8080/"
        },
        "id": "wVLaZW79dABA",
        "outputId": "38ce10ae-84ec-4d63-b702-23da52469ccb"
      },
      "outputs": [],
      "source": [
        "val_dataset"
      ]
    },
    {
      "cell_type": "markdown",
      "metadata": {
        "id": "eFj7q6PNdABA"
      },
      "source": [
        "# DataLoaders y criterios de optimización"
      ]
    },
    {
      "cell_type": "code",
      "execution_count": 7,
      "metadata": {
        "id": "vxW9uS91dABA"
      },
      "outputs": [],
      "source": [
        "trainloader = DataLoader(train_dataset, batch_size=1000,shuffle=False,)\n",
        "valloader = DataLoader(val_dataset,batch_size= 1000,shuffle= False)"
      ]
    },
    {
      "cell_type": "code",
      "execution_count": 8,
      "metadata": {
        "id": "rwJWD57aa8iy"
      },
      "outputs": [],
      "source": [
        "# def get_mean_std(trainLoader):\n",
        "#     imgs = None\n",
        "#     for batch in trainLoader:\n",
        "#         image_batch = batch[0]\n",
        "#         if imgs is None:\n",
        "#             imgs = image_batch.cpu()\n",
        "#         else:\n",
        "#             imgs = torch.cat([imgs, image_batch.cpu()], dim=0)\n",
        "#     imgs = imgs.numpy()\n",
        "\n",
        "#     # calculate mean over each channel (r,g,b)\n",
        "#     mean_r = imgs[:,0,:,:].mean()\n",
        "#     mean_g = imgs[:,1,:,:].mean()\n",
        "#     mean_b = imgs[:,2,:,:].mean()\n",
        "#     print(mean_r,mean_g,mean_b)\n",
        "\n",
        "#     # calculate std over each channel (r,g,b)\n",
        "#     std_r = imgs[:,0,:,:].std()\n",
        "#     std_g = imgs[:,1,:,:].std()\n",
        "#     std_b = imgs[:,2,:,:].std()\n",
        "#     print(std_r,std_g,std_b)"
      ]
    },
    {
      "cell_type": "code",
      "execution_count": null,
      "metadata": {
        "colab": {
          "base_uri": "https://localhost:8080/"
        },
        "id": "fZt3Q9STa9W5",
        "outputId": "65cc7c09-7834-4e63-9d53-aac289b2e655"
      },
      "outputs": [],
      "source": [
        "# get_mean_std(trainloader)"
      ]
    },
    {
      "cell_type": "code",
      "execution_count": null,
      "metadata": {
        "id": "BQIy7eXudABA"
      },
      "outputs": [],
      "source": [
        "# criterion = nn.CrossEntropyLoss()\n",
        "# optimizer = torch.optim.Adam(model.parameters(),lr = 0.0005, weight_decay= 1e-6)"
      ]
    },
    {
      "cell_type": "markdown",
      "metadata": {
        "id": "UYhnl38kdABB"
      },
      "source": [
        "# Entrenamiento"
      ]
    },
    {
      "cell_type": "code",
      "execution_count": null,
      "metadata": {
        "id": "zLLlb6gKdABB"
      },
      "outputs": [],
      "source": [
        "def train_epoch(model, train_loader, criterion, optimizer, cuda):\n",
        "\n",
        "    total = 0\n",
        "    correct = 0\n",
        "    train_loss = 0\n",
        "\n",
        "    model.train()\n",
        "    for i, data in enumerate(train_loader):\n",
        "        if i % 25 == 0:\n",
        "            print(f\"Batch {i}/{len(train_loader)}\")\n",
        "\n",
        "        inputs, labels = data\n",
        "\n",
        "        if cuda:\n",
        "            inputs = inputs.cuda()\n",
        "            labels = labels.cuda()\n",
        "\n",
        "        optimizer.zero_grad()\n",
        "\n",
        "        outputs = model(inputs)\n",
        "        # print(outputs)\n",
        "        loss = criterion(outputs, labels)\n",
        "        loss.backward()\n",
        "        optimizer.step()\n",
        "\n",
        "        _, predicted = torch.max(outputs.data, 1)\n",
        "\n",
        "        total += labels.size(0)\n",
        "        correct += (predicted == labels).sum().item()\n",
        "        train_loss += loss.item()\n",
        "\n",
        "    accuracy = correct/total\n",
        "    train_loss = train_loss / len(train_loader)\n",
        "    return train_loss, accuracy\n",
        "\n",
        "def validate(model, val_loader, criterion, cuda):\n",
        "\n",
        "    correct = 0\n",
        "    val_loss = 0\n",
        "    total = 0\n",
        "\n",
        "    model.eval()\n",
        "    with torch.no_grad():\n",
        "        for data in val_loader:\n",
        "\n",
        "            inputs, labels = data\n",
        "\n",
        "            if cuda:\n",
        "                inputs = inputs.cuda()\n",
        "                labels = labels.cuda()\n",
        "\n",
        "            outputs = model(inputs)\n",
        "\n",
        "            loss = criterion(outputs,labels)\n",
        "\n",
        "            total += labels.size(0)\n",
        "            _, predicted = torch.max(outputs.data, 1)\n",
        "            correct += (predicted == labels).sum().item()\n",
        "            val_loss += loss.item()\n",
        "\n",
        "    val_loss = val_loss / len(val_loader)\n",
        "    accuracy = correct/total\n",
        "    return val_loss, accuracy"
      ]
    },
    {
      "cell_type": "code",
      "execution_count": null,
      "metadata": {
        "id": "mehZZSmhdABB"
      },
      "outputs": [],
      "source": [
        "# def training(model,\n",
        "#              epochs,\n",
        "#              train_loader,\n",
        "#              val_loader,\n",
        "#              criterion,\n",
        "#              optimizer,\n",
        "#              each = 50,\n",
        "#              state = None,\n",
        "#              name = \"\",\n",
        "#              cuda = True):\n",
        "\n",
        "#     # If trained before\n",
        "#     if state == None:\n",
        "#         state = {\n",
        "#             \"epoch\" : 0,\n",
        "#             \"loss\" : [[], []], # [train, val]\n",
        "#             \"acc\" : [[], []], # [train, val]\n",
        "#             \"params\" : None,\n",
        "#             \"bestloss\" : np.inf\n",
        "#         }\n",
        "\n",
        "#     # If previously trained\n",
        "#     else:\n",
        "#         state = torch.load(state)\n",
        "#         model.load_state_dict(state[\"params\"])\n",
        "\n",
        "#     best_loss = state[\"bestloss\"]\n",
        "#     state_epochs = state[\"epoch\"]\n",
        "\n",
        "#     if cuda:\n",
        "#         model = model.cuda()\n",
        "\n",
        "#     for epoch in range(state_epochs, state_epochs + epochs):\n",
        "#         print(f\"Epoch nro {epoch + 1}/{epochs}\")\n",
        "\n",
        "#         # Train\n",
        "#         # torch.manual_seed(0)\n",
        "#         train_loss, train_acc = train_epoch(model, train_loader, criterion, optimizer, cuda)\n",
        "#         # Val\n",
        "#         val_loss, val_acc = validate(model, val_loader,criterion, cuda)\n",
        "\n",
        "#         print(f\"Train loss = {train_loss}, Val loss = {val_loss}\")\n",
        "#         print(f\"Train acc = {train_acc}, Val acc = {val_acc}\")\n",
        "#         # print(f\"Val acc = {val_acc}\")\n",
        "\n",
        "#         if (best_loss > val_loss):\n",
        "#             best_loss = val_loss\n",
        "#             print(f\"Better params found in epoch = {epoch + 1}, saved params\")\n",
        "#             torch.save(model.state_dict(), os.path.join(final_save,f'bestVGGParams{name}.pt'))\n",
        "\n",
        "\n",
        "#         # Save periodically for each\n",
        "#         if ((epoch + 1)%each == 0):\n",
        "#             print(f\"Se ha guardado la época múltiplo de {each}\")\n",
        "#             torch.save(model.state_dict(), os.path.join(final_save,f'eachVGGParams_{name}_{epoch + 1}.pt'))\n",
        "\n",
        "#         # Update state\n",
        "#         state[\"loss\"][0].append(train_loss)\n",
        "#         state[\"loss\"][1].append(val_loss)\n",
        "#         state[\"acc\"][0].append(train_acc)\n",
        "#         state[\"acc\"][1].append(val_acc)\n",
        "#         state[\"epoch\"] = epoch + 1\n",
        "#         state[\"params\"] = model.state_dict()\n",
        "#         state[\"bestloss\"] = best_loss\n",
        "\n",
        "#         # Save per epoch just in case\n",
        "#         torch.save(state, os.path.join(final_save,f\"VGG{name}_state.pt\"))\n",
        "#     return state[\"loss\"]"
      ]
    },
    {
      "cell_type": "code",
      "execution_count": null,
      "metadata": {
        "id": "cjXQ77YaX67U"
      },
      "outputs": [],
      "source": [
        "# state_dir = \"/content/gdrive/MyDrive/VGG/gauss04_params/VGGGauss04_state.pt\"\n",
        "# state_dir = \"/content/gdrive/MyDrive/VGG/SEEDgauss04_params/VGGsGauss04_state.pt\"\n",
        "# state_dir = \"/content/gdrive/MyDrive/VGG/rand04_params/VGGRand04_state.pt\"\n",
        "# state_dir = \"/content/gdrive/MyDrive/VGG/fixedperm_params/VGGFPixelPerm_state.pt\"\n",
        "# state_dir = \"/content/gdrive/MyDrive/VGG/linear_params/VGGLinear_state.pt\""
      ]
    },
    {
      "cell_type": "code",
      "execution_count": null,
      "metadata": {
        "colab": {
          "base_uri": "https://localhost:8080/"
        },
        "id": "--KVk1lidABB",
        "outputId": "e1b9cd59-ca9e-4f04-96d6-7e81c7593f12"
      },
      "outputs": [],
      "source": [
        "# train_state = training(model = model,\n",
        "#                      epochs = 100,\n",
        "#                      train_loader = trainloader,\n",
        "#                      val_loader = valloader,\n",
        "#                      criterion = criterion,\n",
        "#                      optimizer = optimizer,\n",
        "#                      each = 10,\n",
        "#                      state = None,#None, #If trained state_dir\n",
        "#                      name = \"Linear\",\n",
        "#                      cuda = True,)"
      ]
    },
    {
      "cell_type": "markdown",
      "metadata": {},
      "source": [
        "# Plots curvas entrenamiento\n"
      ]
    },
    {
      "cell_type": "markdown",
      "metadata": {},
      "source": [
        "**Para replicar comentar la lista de direcciones a drive y descomentar la de abajo añadiendo la dirección de los parámetros del drive**"
      ]
    },
    {
      "cell_type": "code",
      "execution_count": null,
      "metadata": {
        "colab": {
          "base_uri": "https://localhost:8080/",
          "height": 656
        },
        "id": "ipprIx83j-11",
        "outputId": "40ce8232-b52d-4dbd-c389-bb8099724d54"
      },
      "outputs": [],
      "source": [
        "# state_dirs = [\"/content/gdrive/MyDrive/VGG/clean_params/VGGClean_state.pt\",\n",
        "#               \"/content/gdrive/MyDrive/VGG/rand04_params/VGGRand04_state.pt\",\n",
        "#               # \"/content/gdrive/MyDrive/VGG/gauss04_params/VGGGauss04_state.pt\",\n",
        "#               \"/content/gdrive/MyDrive/VGG/SEEDgauss04_params/VGGsGauss04_state.pt\",\n",
        "#               \"/content/gdrive/MyDrive/VGG/fixedperm_params/VGGFPixelPerm_state.pt\",\n",
        "#               \"/content/gdrive/MyDrive/VGG/linear_params/VGGLinear_state.pt\",\n",
        "#               ]\n",
        "\n",
        "# # state_dirs = [\".\\\\VGGClean_state.pt\",\n",
        "# #               \".\\\\VGGRand04_state.pt\",\n",
        "# #               # \".\\\\VGGGauss04_state.pt\",\n",
        "# #               \".\\\\VGGsGauss04_state.pt\",\n",
        "# #               \".\\\\VGGFPixelPerm_state.pt\",\n",
        "# #               \".\\\\VGGLinear_state.pt\",\n",
        "# #               ]\n",
        "\n",
        "# n_curves = len(state_dirs)\n",
        "\n",
        "# states = []\n",
        "# for i in range(n_curves):\n",
        "#     states.append(torch.load(state_dirs[i]))\n",
        "\n",
        "# labels =[\"Clean\",\n",
        "#          \"Random label\",\n",
        "#          \"Gaussian Pixels\",\n",
        "#         #  \"Fixed Gaussian Pixels\",\n",
        "#          \"Pixel Permute\",\n",
        "#          \"Linear combination\"]\n",
        "\n",
        "# fig, (train_loss,train_acc) = plt.subplots(ncols = 2, figsize = (8,3), layout = \"constrained\")\n",
        "# fig.suptitle(\"Training results (train)\")\n",
        "\n",
        "# for i, state in enumerate(states):\n",
        "#     n_epochs = np.arange(1,len(state[\"loss\"][0]) + 1,1)\n",
        "#     train_loss.plot(n_epochs , state[\"loss\"][0], label = labels[i])\n",
        "#     train_acc.plot(n_epochs , state[\"acc\"][0], label = labels[i])\n",
        "\n",
        "# train_loss.set_xlabel(\"Epochs\")\n",
        "# train_loss.set_ylabel(\"Loss\")\n",
        "# train_loss.set_title(\"Loss evolution\")\n",
        "\n",
        "# train_acc.set_xlabel(\"Epochs\")\n",
        "# train_acc.set_ylabel(\"Acc\")\n",
        "# train_acc.set_title(\"Accuracy evolution\")\n",
        "\n",
        "# plt.legend(fontsize = \"x-small\")\n",
        "# plt.savefig(\"img_train.pdf\")\n",
        "# plt.plot()\n",
        "\n",
        "# fig, (val_loss,val_acc) = plt.subplots(ncols = 2, figsize = (8,3), layout = \"constrained\")\n",
        "# fig.suptitle(\"Training results (validation)\")\n",
        "\n",
        "# for i, state in enumerate(states):\n",
        "#     n_epochs = np.arange(1,len(state[\"loss\"][0]) + 1 ,1)\n",
        "#     val_loss.plot(n_epochs , state[\"loss\"][1], label = labels[i])\n",
        "#     val_acc.plot(n_epochs , state[\"acc\"][1], label = labels[i])\n",
        "\n",
        "# val_loss.set_xlabel(\"Epochs\")\n",
        "# val_loss.set_ylabel(\"Loss\")\n",
        "# val_loss.set_title(\"Loss evolution\")\n",
        "\n",
        "# val_acc.set_xlabel(\"Epochs\")\n",
        "# val_acc.set_ylabel(\"Acc\")\n",
        "# val_acc.set_title(\"Accuracy evolution\")\n",
        "\n",
        "# plt.legend(fontsize = \"x-small\")\n",
        "# plt.savefig(\"img_val.pdf\")\n",
        "# plt.plot()\n",
        "\n"
      ]
    },
    {
      "cell_type": "code",
      "execution_count": null,
      "metadata": {
        "colab": {
          "base_uri": "https://localhost:8080/"
        },
        "id": "vQT9f1l00-1O",
        "outputId": "28f66e65-6dfe-4d29-e965-c9acef555bd4"
      },
      "outputs": [],
      "source": [
        "# for i, state in enumerate(states):\n",
        "#     print(labels[i])\n",
        "#     # pos = np.argmin(state[\"loss\"][1])\n",
        "#     t = state[\"acc\"][0][-1] * 100\n",
        "#     v = state[\"acc\"][1][-1]* 100\n",
        "#     print(f\"Train acc {t}\")\n",
        "#     print(f\"Val acc {v}\")\n",
        "\n"
      ]
    },
    {
      "cell_type": "markdown",
      "metadata": {},
      "source": [
        "# IM\n"
      ]
    },
    {
      "cell_type": "code",
      "execution_count": 9,
      "metadata": {},
      "outputs": [],
      "source": [
        "for batch in trainloader:\n",
        "    data = batch\n",
        "    break"
      ]
    },
    {
      "cell_type": "code",
      "execution_count": 34,
      "metadata": {},
      "outputs": [],
      "source": [
        "import umap"
      ]
    },
    {
      "cell_type": "code",
      "execution_count": 47,
      "metadata": {},
      "outputs": [
        {
          "name": "stdout",
          "output_type": "stream",
          "text": [
            "torch.Size([1000, 3, 32, 32])\n",
            "Encoding: 0.026612520217895508 s\n",
            "torch.Size([1000, 512])\n",
            "l2o: 0.8727889060974121 s\n",
            "torch.Size([1000, 3, 32, 32])\n",
            "Encoding: 0.1618046760559082 s\n",
            "torch.Size([1000, 512])\n",
            "l2o: 1.1043164730072021 s\n",
            "torch.Size([1000, 3, 32, 32])\n",
            "Encoding: 0.24552345275878906 s\n",
            "torch.Size([1000, 512])\n",
            "l2o: 0.8549473285675049 s\n",
            "torch.Size([1000, 3, 32, 32])\n",
            "Encoding: 0.4518458843231201 s\n",
            "torch.Size([1000, 512])\n",
            "l2o: 0.8676838874816895 s\n",
            "torch.Size([1000, 3, 32, 32])\n",
            "Encoding: 0.7385156154632568 s\n",
            "torch.Size([1000, 512])\n",
            "l2o: 0.8147373199462891 s\n",
            "torch.Size([1000, 3, 32, 32])\n",
            "Encoding: 1.0042803287506104 s\n",
            "torch.Size([1000, 512])\n",
            "l2o: 0.8003873825073242 s\n",
            "torch.Size([1000, 3, 32, 32])\n",
            "Encoding: 1.039229154586792 s\n",
            "torch.Size([1000, 512])\n",
            "l2o: 0.8465588092803955 s\n",
            "torch.Size([1000, 3, 32, 32])\n",
            "Encoding: 0.5718550682067871 s\n",
            "torch.Size([1000, 512])\n",
            "l2o: 0.820012092590332 s\n",
            "torch.Size([1000, 3, 32, 32])\n",
            "Encoding: 0.5484492778778076 s\n",
            "torch.Size([1000, 512])\n",
            "l2o: 0.8237433433532715 s\n"
          ]
        }
      ],
      "source": [
        "N_comps = 100\n",
        "def geti2l(x, layer):\n",
        "    layer = layer.t()\n",
        "    n = len(layer)\n",
        "    values = np.zeros(N_comps) #len(x[0])\n",
        "    # print(values.shape)\n",
        "    for i in range(N_comps):\n",
        "        ewe = mutual_inf(x, layer[i])\n",
        "        # print(ewe.shape)\n",
        "        values[i] = np.mean(ewe)\n",
        "    return values\n",
        "from concurrent.futures import ThreadPoolExecutor\n",
        "\n",
        "iters = [10,50,100,150,200,250,300,350,400]\n",
        "# model = EncoderVGG16()\n",
        "model = EncoderVGG16()\n",
        "outs = []\n",
        "l2o = []\n",
        "for i in range(len(iters)):  \n",
        "    state = torch.load(f\"C:\\\\Users\\\\TheSy\\\\Downloads\\\\test\\\\eachVGGParams_Clean_{iters[i]}.pt\")\n",
        "    model.load_state_dict(state)\n",
        "    x, y = data\n",
        "    xd = x.flatten(start_dim= 1)\n",
        "    \n",
        "    pca1 = PCA(n_components = 500)\n",
        "    x1 = torch.from_numpy(np.array(pca1.fit_transform(xd)))\n",
        "    #\n",
        "    start_time = time.time()\n",
        "    out = model.encode(x, 1).detach()\n",
        "\n",
        "    out = out.flatten(1)\n",
        "    outs.append(out)\n",
        "    print(\"Encoding: %s s\" % (time.time() - start_time))\n",
        "    # print(x1.size())\n",
        "    # print(out.size())\n",
        "    start_time = time.time()\n",
        "    #\n",
        "    pca2 = PCA(n_components = 100)\n",
        "    awa = np.array(pca2.fit_transform(out))\n",
        "    #\n",
        "    layer2out = np.array(mutual_int(awa, y))\n",
        "    l2o.append(np.mean(layer2out))\n",
        "    print(\"l2o: %s s\" % (time.time() - start_time))\n",
        "# print(layer2out)\n",
        "\n",
        "# params_list = [[x, x, x],\n",
        "#                 [outs[0], outs[1], outs[2]]]#\n",
        "params_list = [[x1, x1, x1, x1, x1, x1,x1,x1,x1],\n",
        "                [outs[0], outs[1], outs[2], outs[3], outs[4], outs[5],outs[6],outs[7],outs[8]]]\n",
        "\n",
        "num_threads = 3\n",
        "start_time = time.time()\n",
        "with ThreadPoolExecutor(max_workers=num_threads) as executor:\n",
        "    i2l = list(executor.map(geti2l, params_list[0], params_list[1]))\n",
        "print(i2l)\n",
        "# in2layer = geti2l(x, out)\n",
        "print(\"i2l: %s s\" % (time.time() - start_time))\n",
        "# print(in2layer)"
      ]
    },
    {
      "cell_type": "code",
      "execution_count": 48,
      "metadata": {},
      "outputs": [
        {
          "data": {
            "text/plain": [
              "[<matplotlib.lines.Line2D at 0x1f5a5bccf40>]"
            ]
          },
          "execution_count": 48,
          "metadata": {},
          "output_type": "execute_result"
        },
        {
          "data": {
            "image/png": "[encoded data removed]",
            "text/plain": [
              "<Figure size 640x480 with 1 Axes>"
            ]
          },
          "metadata": {},
          "output_type": "display_data"
        }
      ],
      "source": [
        "plt.plot(np.array(l2o))#,c = [1, 2, 3, 4, 5, 6, 7, 8, 9])"
      ]
    },
    {
      "cell_type": "code",
      "execution_count": 29,
      "metadata": {},
      "outputs": [
        {
          "data": {
            "text/plain": [
              "<matplotlib.colorbar.Colorbar at 0x1f5a0933250>"
            ]
          },
          "execution_count": 29,
          "metadata": {},
          "output_type": "execute_result"
        },
        {
          "data": {
            "image/png": "[encoded data removed]",
            "text/plain": [
              "<Figure size 640x480 with 2 Axes>"
            ]
          },
          "metadata": {},
          "output_type": "display_data"
        }
      ],
      "source": [
        "# plt.scatter(x = np.mean(i2l, axis = 1), y = np.array(l2o), c = [1, 2, 3,])\n",
        "plt.scatter(x = np.mean(i2l, axis = 1), y = np.array(l2o), c = [1, 2, 3, 4, 5, 6, 7, 8, 9])\n",
        "plt.plot(np.mean(i2l, axis = 1), np.array(l2o), '-o', alpha = 0.4)\n",
        "plt.xlabel(\"i2l\")\n",
        "plt.ylabel(\"l2o\")\n",
        "# plt.title()\n",
        "plt.colorbar()"
      ]
    }
  ],
  "metadata": {
    "accelerator": "GPU",
    "colab": {
      "gpuType": "T4",
      "provenance": []
    },
    "kernelspec": {
      "display_name": "Python 3",
      "name": "python3"
    },
    "language_info": {
      "codemirror_mode": {
        "name": "ipython",
        "version": 3
      },
      "file_extension": ".py",
      "mimetype": "text/x-python",
      "name": "python",
      "nbconvert_exporter": "python",
      "pygments_lexer": "ipython3",
      "version": "3.10.11"
    }
  },
  "nbformat": 4,
  "nbformat_minor": 0
}
