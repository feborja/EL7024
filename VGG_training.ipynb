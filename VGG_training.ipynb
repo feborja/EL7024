{
  "cells": [
    {
      "cell_type": "markdown",
      "metadata": {
        "id": "tIpxwbcpdAA6"
      },
      "source": [
        "# Librerias"
      ]
    },
    {
      "cell_type": "code",
      "execution_count": null,
      "metadata": {
        "id": "8PiIyxuKdAA8"
      },
      "outputs": [],
      "source": [
        "import torch\n",
        "from torch import nn\n",
        "from torch.utils.data import DataLoader\n",
        "import torchvision\n",
        "from torchvision import transforms\n",
        "\n",
        "# import matplotlib.pyplot as plt\n",
        "import numpy as np\n",
        "import os\n",
        "#\n",
        "from PIL import Image"
      ]
    },
    {
      "cell_type": "code",
      "source": [
        "from google.colab import drive\n",
        "drive.mount('/content/gdrive')"
      ],
      "metadata": {
        "colab": {
          "base_uri": "https://localhost:8080/"
        },
        "id": "bv4dyfXafotX",
        "outputId": "0677215b-c037-43a5-a78d-69945c22da96"
      },
      "execution_count": null,
      "outputs": [
        {
          "output_type": "stream",
          "name": "stdout",
          "text": [
            "Mounted at /content/gdrive\n"
          ]
        }
      ]
    },
    {
      "cell_type": "code",
      "source": [
        "# SAVE_PATH = \"\" #Local\n",
        "SAVE_PATH = \"/content/gdrive/MyDrive/VGG\""
      ],
      "metadata": {
        "id": "kpXEtPHhVeLD"
      },
      "execution_count": null,
      "outputs": []
    },
    {
      "cell_type": "code",
      "source": [],
      "metadata": {
        "id": "byjMropLU87w"
      },
      "execution_count": null,
      "outputs": []
    },
    {
      "cell_type": "code",
      "execution_count": null,
      "metadata": {
        "id": "WdAZX-QhdAA9"
      },
      "outputs": [],
      "source": [
        "# device = torch.device(\"cuda\" if torch.cuda.is_available() else \"cpu\")"
      ]
    },
    {
      "cell_type": "markdown",
      "metadata": {
        "id": "CSWUWq4kdAA9"
      },
      "source": [
        "# Modelo"
      ]
    },
    {
      "cell_type": "code",
      "execution_count": null,
      "metadata": {
        "id": "2hbFfXzXdAA9"
      },
      "outputs": [],
      "source": [
        "class EncoderVGG16(nn.Module):\n",
        "    def __init__(self,\n",
        "                 n_layers = 5,\n",
        "                 h_dims = [512,256,128,10]):\n",
        "        super(EncoderVGG16,self).__init__()\n",
        "        self.n_layers = n_layers\n",
        "        self.h_dims = h_dims\n",
        "        self.layers = [4,9,16,23,31]\n",
        "        self.full_vgg16 = torchvision.models.vgg16()\n",
        "        self.vgg = self.full_vgg16.features[:self.layers[self.n_layers-1]]\n",
        "        # self.vgg = torchvision.models.vgg16().features[:self.layers[self.n_layers-1]]\n",
        "\n",
        "        self.classifier = self.full_vgg16.classifier\n",
        "\n",
        "        # self.fully = nn.Sequential(nn.Linear(self.h_dims[0], self.h_dims[1]),\n",
        "        #                            nn.ReLU(),\n",
        "        #                            nn.Linear(self.h_dims[1], self.h_dims[2]),\n",
        "        #                            nn.ReLU(),\n",
        "        #                            nn.Linear(self.h_dims[2], self.h_dims[3])\n",
        "        # )\n",
        "\n",
        "        self.classifier[0] = nn.Linear(self.h_dims[0], self.h_dims[1])\n",
        "        self.classifier[3] = nn.Linear(self.h_dims[1], self.h_dims[2])\n",
        "        self.classifier[6] = nn.Linear(self.h_dims[2], self.h_dims[3])\n",
        "\n",
        "    def encode(self,x):\n",
        "        return self.vgg(x)\n",
        "\n",
        "    def forward(self,x):\n",
        "        latent = self.encode(x)\n",
        "        latent = torch.flatten(latent,start_dim = 1)\n",
        "        output = self.classifier(latent)\n",
        "        # output = self.fully(latent)\n",
        "        return output"
      ]
    },
    {
      "cell_type": "code",
      "execution_count": null,
      "metadata": {
        "id": "KKHJMvqXdAA-"
      },
      "outputs": [],
      "source": [
        "model = EncoderVGG16()\n",
        "# model.vgg, model.classifier"
      ]
    },
    {
      "cell_type": "code",
      "execution_count": null,
      "metadata": {
        "colab": {
          "base_uri": "https://localhost:8080/"
        },
        "id": "j5PJHDCmdAA-",
        "outputId": "592da4ef-11e2-4235-869a-e258f55d7c66"
      },
      "outputs": [
        {
          "output_type": "execute_result",
          "data": {
            "text/plain": [
              "EncoderVGG16(\n",
              "  (full_vgg16): VGG(\n",
              "    (features): Sequential(\n",
              "      (0): Conv2d(3, 64, kernel_size=(3, 3), stride=(1, 1), padding=(1, 1))\n",
              "      (1): ReLU(inplace=True)\n",
              "      (2): Conv2d(64, 64, kernel_size=(3, 3), stride=(1, 1), padding=(1, 1))\n",
              "      (3): ReLU(inplace=True)\n",
              "      (4): MaxPool2d(kernel_size=2, stride=2, padding=0, dilation=1, ceil_mode=False)\n",
              "      (5): Conv2d(64, 128, kernel_size=(3, 3), stride=(1, 1), padding=(1, 1))\n",
              "      (6): ReLU(inplace=True)\n",
              "      (7): Conv2d(128, 128, kernel_size=(3, 3), stride=(1, 1), padding=(1, 1))\n",
              "      (8): ReLU(inplace=True)\n",
              "      (9): MaxPool2d(kernel_size=2, stride=2, padding=0, dilation=1, ceil_mode=False)\n",
              "      (10): Conv2d(128, 256, kernel_size=(3, 3), stride=(1, 1), padding=(1, 1))\n",
              "      (11): ReLU(inplace=True)\n",
              "      (12): Conv2d(256, 256, kernel_size=(3, 3), stride=(1, 1), padding=(1, 1))\n",
              "      (13): ReLU(inplace=True)\n",
              "      (14): Conv2d(256, 256, kernel_size=(3, 3), stride=(1, 1), padding=(1, 1))\n",
              "      (15): ReLU(inplace=True)\n",
              "      (16): MaxPool2d(kernel_size=2, stride=2, padding=0, dilation=1, ceil_mode=False)\n",
              "      (17): Conv2d(256, 512, kernel_size=(3, 3), stride=(1, 1), padding=(1, 1))\n",
              "      (18): ReLU(inplace=True)\n",
              "      (19): Conv2d(512, 512, kernel_size=(3, 3), stride=(1, 1), padding=(1, 1))\n",
              "      (20): ReLU(inplace=True)\n",
              "      (21): Conv2d(512, 512, kernel_size=(3, 3), stride=(1, 1), padding=(1, 1))\n",
              "      (22): ReLU(inplace=True)\n",
              "      (23): MaxPool2d(kernel_size=2, stride=2, padding=0, dilation=1, ceil_mode=False)\n",
              "      (24): Conv2d(512, 512, kernel_size=(3, 3), stride=(1, 1), padding=(1, 1))\n",
              "      (25): ReLU(inplace=True)\n",
              "      (26): Conv2d(512, 512, kernel_size=(3, 3), stride=(1, 1), padding=(1, 1))\n",
              "      (27): ReLU(inplace=True)\n",
              "      (28): Conv2d(512, 512, kernel_size=(3, 3), stride=(1, 1), padding=(1, 1))\n",
              "      (29): ReLU(inplace=True)\n",
              "      (30): MaxPool2d(kernel_size=2, stride=2, padding=0, dilation=1, ceil_mode=False)\n",
              "    )\n",
              "    (avgpool): AdaptiveAvgPool2d(output_size=(7, 7))\n",
              "    (classifier): Sequential(\n",
              "      (0): Linear(in_features=512, out_features=256, bias=True)\n",
              "      (1): ReLU(inplace=True)\n",
              "      (2): Dropout(p=0.5, inplace=False)\n",
              "      (3): Linear(in_features=256, out_features=128, bias=True)\n",
              "      (4): ReLU(inplace=True)\n",
              "      (5): Dropout(p=0.5, inplace=False)\n",
              "      (6): Linear(in_features=128, out_features=10, bias=True)\n",
              "    )\n",
              "  )\n",
              "  (vgg): Sequential(\n",
              "    (0): Conv2d(3, 64, kernel_size=(3, 3), stride=(1, 1), padding=(1, 1))\n",
              "    (1): ReLU(inplace=True)\n",
              "    (2): Conv2d(64, 64, kernel_size=(3, 3), stride=(1, 1), padding=(1, 1))\n",
              "    (3): ReLU(inplace=True)\n",
              "    (4): MaxPool2d(kernel_size=2, stride=2, padding=0, dilation=1, ceil_mode=False)\n",
              "    (5): Conv2d(64, 128, kernel_size=(3, 3), stride=(1, 1), padding=(1, 1))\n",
              "    (6): ReLU(inplace=True)\n",
              "    (7): Conv2d(128, 128, kernel_size=(3, 3), stride=(1, 1), padding=(1, 1))\n",
              "    (8): ReLU(inplace=True)\n",
              "    (9): MaxPool2d(kernel_size=2, stride=2, padding=0, dilation=1, ceil_mode=False)\n",
              "    (10): Conv2d(128, 256, kernel_size=(3, 3), stride=(1, 1), padding=(1, 1))\n",
              "    (11): ReLU(inplace=True)\n",
              "    (12): Conv2d(256, 256, kernel_size=(3, 3), stride=(1, 1), padding=(1, 1))\n",
              "    (13): ReLU(inplace=True)\n",
              "    (14): Conv2d(256, 256, kernel_size=(3, 3), stride=(1, 1), padding=(1, 1))\n",
              "    (15): ReLU(inplace=True)\n",
              "    (16): MaxPool2d(kernel_size=2, stride=2, padding=0, dilation=1, ceil_mode=False)\n",
              "    (17): Conv2d(256, 512, kernel_size=(3, 3), stride=(1, 1), padding=(1, 1))\n",
              "    (18): ReLU(inplace=True)\n",
              "    (19): Conv2d(512, 512, kernel_size=(3, 3), stride=(1, 1), padding=(1, 1))\n",
              "    (20): ReLU(inplace=True)\n",
              "    (21): Conv2d(512, 512, kernel_size=(3, 3), stride=(1, 1), padding=(1, 1))\n",
              "    (22): ReLU(inplace=True)\n",
              "    (23): MaxPool2d(kernel_size=2, stride=2, padding=0, dilation=1, ceil_mode=False)\n",
              "    (24): Conv2d(512, 512, kernel_size=(3, 3), stride=(1, 1), padding=(1, 1))\n",
              "    (25): ReLU(inplace=True)\n",
              "    (26): Conv2d(512, 512, kernel_size=(3, 3), stride=(1, 1), padding=(1, 1))\n",
              "    (27): ReLU(inplace=True)\n",
              "    (28): Conv2d(512, 512, kernel_size=(3, 3), stride=(1, 1), padding=(1, 1))\n",
              "    (29): ReLU(inplace=True)\n",
              "    (30): MaxPool2d(kernel_size=2, stride=2, padding=0, dilation=1, ceil_mode=False)\n",
              "  )\n",
              "  (classifier): Sequential(\n",
              "    (0): Linear(in_features=512, out_features=256, bias=True)\n",
              "    (1): ReLU(inplace=True)\n",
              "    (2): Dropout(p=0.5, inplace=False)\n",
              "    (3): Linear(in_features=256, out_features=128, bias=True)\n",
              "    (4): ReLU(inplace=True)\n",
              "    (5): Dropout(p=0.5, inplace=False)\n",
              "    (6): Linear(in_features=128, out_features=10, bias=True)\n",
              "  )\n",
              ")"
            ]
          },
          "metadata": {},
          "execution_count": 6
        }
      ],
      "source": [
        "model"
      ]
    },
    {
      "cell_type": "markdown",
      "metadata": {
        "id": "043fLq42dAA-"
      },
      "source": [
        "# Dataset"
      ]
    },
    {
      "cell_type": "code",
      "execution_count": null,
      "metadata": {
        "id": "OVMGfi5adAA_",
        "colab": {
          "base_uri": "https://localhost:8080/"
        },
        "outputId": "fefdaf70-681a-4355-b539-a90e43841709"
      },
      "outputs": [
        {
          "output_type": "stream",
          "name": "stdout",
          "text": [
            "Data directory created :D\n",
            "Data train directory created :D\n",
            "Data val directory created :D\n"
          ]
        }
      ],
      "source": [
        "if not os.path.exists(\"data\"):\n",
        "    os.makedirs(\"data\")\n",
        "    print(\"Data directory created :D\")\n",
        "\n",
        "if not os.path.exists(\"data/train\"):\n",
        "    os.makedirs(\"data/train\")\n",
        "    print(\"Data train directory created :D\")\n",
        "\n",
        "if not os.path.exists(\"data/val\"):\n",
        "    os.makedirs(\"data/val\")\n",
        "    print(\"Data val directory created :D\")\n"
      ]
    },
    {
      "cell_type": "code",
      "source": [
        "train_type = \"clean_params\"\n",
        "final_save = os.path.join(SAVE_PATH,train_type)\n",
        "if not os.path.exists(final_save):\n",
        "    os.makedirs(final_save)\n",
        "    print(\"Data directory created :D\")\n"
      ],
      "metadata": {
        "colab": {
          "base_uri": "https://localhost:8080/"
        },
        "id": "iPBZ-0MjVv4o",
        "outputId": "380a49da-8139-4281-e5be-6e64d449dc57"
      },
      "execution_count": null,
      "outputs": [
        {
          "output_type": "stream",
          "name": "stdout",
          "text": [
            "Data directory created :D\n"
          ]
        }
      ]
    },
    {
      "cell_type": "code",
      "execution_count": null,
      "metadata": {
        "id": "0d9qEGk0dAA_"
      },
      "outputs": [],
      "source": [
        "# from corrupter import *"
      ]
    },
    {
      "cell_type": "code",
      "execution_count": null,
      "metadata": {
        "id": "hUA4WbP0dAA_"
      },
      "outputs": [],
      "source": [
        "transform = transforms.Compose([\n",
        "     # transforms.Resize(size=(224, 224)),\n",
        "     transforms.ToTensor(),\n",
        "     transforms.Normalize((0.5, 0.5, 0.5), (0.5, 0.5, 0.5)),\n",
        "    #  transforms.Lambda(gaussian_pixels)\n",
        "     ])"
      ]
    },
    {
      "cell_type": "code",
      "execution_count": null,
      "metadata": {
        "colab": {
          "base_uri": "https://localhost:8080/"
        },
        "id": "X2OYtsczdAA_",
        "outputId": "004b10b0-e9bd-4086-f73e-ad37ab9f81c4"
      },
      "outputs": [
        {
          "output_type": "stream",
          "name": "stdout",
          "text": [
            "Downloading https://www.cs.toronto.edu/~kriz/cifar-10-python.tar.gz to data/train/cifar-10-python.tar.gz\n"
          ]
        },
        {
          "output_type": "stream",
          "name": "stderr",
          "text": [
            "100%|██████████| 170498071/170498071 [00:04<00:00, 37338633.16it/s]\n"
          ]
        },
        {
          "output_type": "stream",
          "name": "stdout",
          "text": [
            "Extracting data/train/cifar-10-python.tar.gz to data/train/\n",
            "Downloading https://www.cs.toronto.edu/~kriz/cifar-10-python.tar.gz to data/val/cifar-10-python.tar.gz\n"
          ]
        },
        {
          "output_type": "stream",
          "name": "stderr",
          "text": [
            "100%|██████████| 170498071/170498071 [00:05<00:00, 28571881.70it/s]\n"
          ]
        },
        {
          "output_type": "stream",
          "name": "stdout",
          "text": [
            "Extracting data/val/cifar-10-python.tar.gz to data/val/\n"
          ]
        }
      ],
      "source": [
        "train_dataset = torchvision.datasets.CIFAR10(root = \"data/train/\",train=True, transform= transform,download=True)\n",
        "val_dataset = torchvision.datasets.CIFAR10(root = \"data/val/\",train = False, transform= transform, download=True)"
      ]
    },
    {
      "cell_type": "code",
      "execution_count": null,
      "metadata": {
        "colab": {
          "base_uri": "https://localhost:8080/",
          "height": 49
        },
        "id": "bCRFVf5zdAA_",
        "outputId": "b978afb3-fa0e-4309-a7bb-57fbe4c1dafe"
      },
      "outputs": [
        {
          "output_type": "execute_result",
          "data": {
            "text/plain": [
              "<PIL.Image.Image image mode=RGB size=32x32>"
            ],
            "image/png": "[encoded data removed]"
          },
          "metadata": {},
          "execution_count": 11
        }
      ],
      "source": [
        "train_image_zero, train_target_zero =train_dataset[0]\n",
        "transforms.ToPILImage()(train_image_zero)"
      ]
    },
    {
      "cell_type": "code",
      "execution_count": null,
      "metadata": {
        "colab": {
          "base_uri": "https://localhost:8080/"
        },
        "id": "VIBQmfY7dABA",
        "outputId": "5fb2935f-b8ff-41ba-b58d-0449ac4d3fa7"
      },
      "outputs": [
        {
          "output_type": "execute_result",
          "data": {
            "text/plain": [
              "Dataset CIFAR10\n",
              "    Number of datapoints: 50000\n",
              "    Root location: data/train/\n",
              "    Split: Train\n",
              "    StandardTransform\n",
              "Transform: Compose(\n",
              "               ToTensor()\n",
              "               Normalize(mean=(0.5, 0.5, 0.5), std=(0.5, 0.5, 0.5))\n",
              "           )"
            ]
          },
          "metadata": {},
          "execution_count": 12
        }
      ],
      "source": [
        "train_dataset"
      ]
    },
    {
      "cell_type": "code",
      "execution_count": null,
      "metadata": {
        "colab": {
          "base_uri": "https://localhost:8080/"
        },
        "id": "wVLaZW79dABA",
        "outputId": "10468c93-6ef0-40bb-c9ed-0d0183d1533f"
      },
      "outputs": [
        {
          "output_type": "execute_result",
          "data": {
            "text/plain": [
              "Dataset CIFAR10\n",
              "    Number of datapoints: 10000\n",
              "    Root location: data/val/\n",
              "    Split: Test\n",
              "    StandardTransform\n",
              "Transform: Compose(\n",
              "               ToTensor()\n",
              "               Normalize(mean=(0.5, 0.5, 0.5), std=(0.5, 0.5, 0.5))\n",
              "           )"
            ]
          },
          "metadata": {},
          "execution_count": 13
        }
      ],
      "source": [
        "val_dataset"
      ]
    },
    {
      "cell_type": "markdown",
      "metadata": {
        "id": "eFj7q6PNdABA"
      },
      "source": [
        "# DataLoaders y criterios de optimización"
      ]
    },
    {
      "cell_type": "code",
      "execution_count": null,
      "metadata": {
        "id": "vxW9uS91dABA"
      },
      "outputs": [],
      "source": [
        "trainloader = DataLoader(train_dataset, batch_size=1000,shuffle=True,)\n",
        "valloader = DataLoader(val_dataset,batch_size= 1000,shuffle= False)"
      ]
    },
    {
      "cell_type": "code",
      "execution_count": null,
      "metadata": {
        "id": "BQIy7eXudABA"
      },
      "outputs": [],
      "source": [
        "criterion = nn.CrossEntropyLoss()\n",
        "optimizer = torch.optim.Adam(model.parameters(),lr = 0.0005, weight_decay= 1e-6)"
      ]
    },
    {
      "cell_type": "markdown",
      "metadata": {
        "id": "UYhnl38kdABB"
      },
      "source": [
        "# Entrenamiento"
      ]
    },
    {
      "cell_type": "code",
      "execution_count": null,
      "metadata": {
        "id": "zLLlb6gKdABB"
      },
      "outputs": [],
      "source": [
        "def train_epoch(model, train_loader, criterion, optimizer, cuda):\n",
        "\n",
        "    total = 0\n",
        "    correct = 0\n",
        "    train_loss = 0\n",
        "\n",
        "    model.train()\n",
        "    for i, data in enumerate(train_loader):\n",
        "        if i % 25 == 0:\n",
        "            print(f\"Batch {i}/{len(train_loader)}\")\n",
        "\n",
        "        inputs, labels = data\n",
        "\n",
        "        if cuda:\n",
        "            inputs = inputs.cuda()\n",
        "            labels = labels.cuda()\n",
        "\n",
        "        optimizer.zero_grad()\n",
        "\n",
        "        outputs = model(inputs)\n",
        "        # print(outputs)\n",
        "        loss = criterion(outputs, labels)\n",
        "        loss.backward()\n",
        "        optimizer.step()\n",
        "\n",
        "        _, predicted = torch.max(outputs.data, 1)\n",
        "\n",
        "        total += labels.size(0)\n",
        "        correct += (predicted == labels).sum().item()\n",
        "        train_loss += loss.item()\n",
        "\n",
        "    accuracy = correct/total\n",
        "    train_loss = train_loss / len(train_loader)\n",
        "    return train_loss, accuracy\n",
        "\n",
        "def validate(model, val_loader, criterion, cuda):\n",
        "\n",
        "    correct = 0\n",
        "    val_loss = 0\n",
        "    total = 0\n",
        "\n",
        "    model.eval()\n",
        "    with torch.no_grad():\n",
        "        for data in val_loader:\n",
        "\n",
        "            inputs, labels = data\n",
        "\n",
        "            if cuda:\n",
        "                inputs = inputs.cuda()\n",
        "                labels = labels.cuda()\n",
        "\n",
        "            outputs = model(inputs)\n",
        "\n",
        "            loss = criterion(outputs,labels)\n",
        "\n",
        "            total += labels.size(0)\n",
        "            _, predicted = torch.max(outputs.data, 1)\n",
        "            correct += (predicted == labels).sum().item()\n",
        "            val_loss += loss.item()\n",
        "\n",
        "    val_loss = val_loss / len(val_loader)\n",
        "    accuracy = correct/total\n",
        "    return val_loss, accuracy"
      ]
    },
    {
      "cell_type": "code",
      "execution_count": null,
      "metadata": {
        "id": "mehZZSmhdABB"
      },
      "outputs": [],
      "source": [
        "def training(model,\n",
        "             epochs,\n",
        "             train_loader,\n",
        "             val_loader,\n",
        "             criterion,\n",
        "             optimizer,\n",
        "             each = 50,\n",
        "             state = None,\n",
        "             name = \"\",\n",
        "             cuda = True):\n",
        "\n",
        "    # If trained before\n",
        "    if state == None:\n",
        "        state = {\n",
        "            \"epoch\" : 0,\n",
        "            \"loss\" : [[], []], # [train, val]\n",
        "            \"acc\" : [[], []], # [train, val]\n",
        "            \"params\" : None,\n",
        "            \"bestloss\" : np.inf\n",
        "        }\n",
        "\n",
        "    # If previously trained\n",
        "    else:\n",
        "        state = torch.load(state)\n",
        "        model.load_state_dict(state[\"params\"])\n",
        "\n",
        "    best_loss = state[\"bestloss\"]\n",
        "    state_epochs = state[\"epoch\"]\n",
        "\n",
        "    if cuda:\n",
        "        model = model.cuda()\n",
        "\n",
        "    for epoch in range(state_epochs, state_epochs + epochs):\n",
        "        print(f\"Epoch nro {epoch + 1}/{epochs}\")\n",
        "\n",
        "        # Train\n",
        "        train_loss, train_acc = train_epoch(model, train_loader, criterion, optimizer, cuda)\n",
        "        # Val\n",
        "        val_loss, val_acc = validate(model, val_loader,criterion, cuda)\n",
        "\n",
        "        print(f\"Train loss = {train_loss}, Val loss = {val_loss}\")\n",
        "        print(f\"Train acc = {train_acc}, Val acc = {val_acc}\")\n",
        "        # print(f\"Val acc = {val_acc}\")\n",
        "\n",
        "        if (best_loss > val_loss):\n",
        "            best_loss = val_loss\n",
        "            print(f\"Better params found in epoch = {epoch + 1}, saved params\")\n",
        "            torch.save(model.state_dict(), os.path.join(final_save,f'bestVGGParams{name}.pt'))\n",
        "\n",
        "\n",
        "        # Save periodically for each\n",
        "        if ((epoch + 1)%each == 0):\n",
        "            print(f\"Se ha guardado la época múltiplo de {each}\")\n",
        "            torch.save(model.state_dict(), os.path.join(final_save,f'eachVGGParams_{name}_{epoch + 1}.pt'))\n",
        "\n",
        "        # Update state\n",
        "        state[\"loss\"][0].append(train_loss)\n",
        "        state[\"loss\"][1].append(val_loss)\n",
        "        state[\"acc\"][0].append(train_acc)\n",
        "        state[\"acc\"][1].append(val_acc)\n",
        "        state[\"epoch\"] = epoch + 1\n",
        "        state[\"params\"] = model.state_dict()\n",
        "        state[\"bestloss\"] = best_loss\n",
        "\n",
        "        # Save per epoch just in case\n",
        "        torch.save(state, os.path.join(final_save,f\"VGG{name}_{epoch + 1}.pt\"))\n",
        "    return state[\"loss\"]"
      ]
    },
    {
      "cell_type": "code",
      "source": [
        "# state_dir = os.path.join(final_save,f\"VGG{<name>}_{<LAST>}\")"
      ],
      "metadata": {
        "id": "cjXQ77YaX67U"
      },
      "execution_count": null,
      "outputs": []
    },
    {
      "cell_type": "code",
      "execution_count": null,
      "metadata": {
        "colab": {
          "base_uri": "https://localhost:8080/",
          "height": 1000
        },
        "id": "--KVk1lidABB",
        "outputId": "9c295294-3ed0-43e5-81e2-630a3a48be56"
      },
      "outputs": [
        {
          "output_type": "stream",
          "name": "stdout",
          "text": [
            "Epoch nro 1/100\n",
            "Batch 0/50\n",
            "Batch 25/50\n",
            "Train loss = 2.237581143379211, Val loss = 2.076438069343567\n",
            "Train acc = 0.14266, Val acc = 0.1782\n",
            "Better params found in epoch = 1, saved params\n",
            "Epoch nro 2/100\n",
            "Batch 0/50\n",
            "Batch 25/50\n",
            "Train loss = 1.9697828936576842, Val loss = 1.8483803391456604\n",
            "Train acc = 0.18244, Val acc = 0.1976\n",
            "Better params found in epoch = 2, saved params\n",
            "Epoch nro 3/100\n",
            "Batch 0/50\n",
            "Batch 25/50\n",
            "Train loss = 1.8645171809196472, Val loss = 1.7798794150352477\n",
            "Train acc = 0.21188, Val acc = 0.2707\n",
            "Better params found in epoch = 3, saved params\n",
            "Epoch nro 4/100\n",
            "Batch 0/50\n",
            "Batch 25/50\n",
            "Train loss = 1.7311790704727172, Val loss = 1.5911900281906128\n",
            "Train acc = 0.28158, Val acc = 0.3288\n",
            "Better params found in epoch = 4, saved params\n",
            "Epoch nro 5/100\n",
            "Batch 0/50\n",
            "Batch 25/50\n",
            "Train loss = 1.5722179055213927, Val loss = 1.4727733135223389\n",
            "Train acc = 0.34644, Val acc = 0.3911\n",
            "Better params found in epoch = 5, saved params\n",
            "Epoch nro 6/100\n",
            "Batch 0/50\n",
            "Batch 25/50\n",
            "Train loss = 1.4445241975784302, Val loss = 1.3529249906539917\n",
            "Train acc = 0.41548, Val acc = 0.4529\n",
            "Better params found in epoch = 6, saved params\n",
            "Epoch nro 7/100\n",
            "Batch 0/50\n",
            "Batch 25/50\n",
            "Train loss = 1.2801002383232116, Val loss = 1.180022943019867\n",
            "Train acc = 0.49982, Val acc = 0.5585\n",
            "Better params found in epoch = 7, saved params\n",
            "Epoch nro 8/100\n",
            "Batch 0/50\n",
            "Batch 25/50\n",
            "Train loss = 1.1452161431312562, Val loss = 1.1500359416007995\n",
            "Train acc = 0.57016, Val acc = 0.5731\n",
            "Better params found in epoch = 8, saved params\n",
            "Epoch nro 9/100\n",
            "Batch 0/50\n",
            "Batch 25/50\n",
            "Train loss = 0.9986092782020569, Val loss = 1.0080499827861786\n",
            "Train acc = 0.64196, Val acc = 0.6421\n",
            "Better params found in epoch = 9, saved params\n",
            "Epoch nro 10/100\n",
            "Batch 0/50\n",
            "Batch 25/50\n",
            "Train loss = 0.8593083274364471, Val loss = 0.9341845333576202\n",
            "Train acc = 0.69878, Val acc = 0.6801\n",
            "Better params found in epoch = 10, saved params\n",
            "Se ha guardado la época múltiplo de 10\n",
            "Epoch nro 11/100\n",
            "Batch 0/50\n",
            "Batch 25/50\n",
            "Train loss = 0.744889863729477, Val loss = 0.9950624346733093\n",
            "Train acc = 0.74026, Val acc = 0.6721\n",
            "Epoch nro 12/100\n",
            "Batch 0/50\n",
            "Batch 25/50\n",
            "Train loss = 0.648831398487091, Val loss = 0.894928801059723\n",
            "Train acc = 0.77778, Val acc = 0.7145\n",
            "Better params found in epoch = 12, saved params\n",
            "Epoch nro 13/100\n",
            "Batch 0/50\n",
            "Batch 25/50\n",
            "Train loss = 0.5428171855211258, Val loss = 0.9144144356250763\n",
            "Train acc = 0.81386, Val acc = 0.7307\n",
            "Epoch nro 14/100\n",
            "Batch 0/50\n",
            "Batch 25/50\n",
            "Train loss = 0.5059901243448257, Val loss = 0.9813759446144104\n",
            "Train acc = 0.82904, Val acc = 0.7209\n",
            "Epoch nro 15/100\n",
            "Batch 0/50\n",
            "Batch 25/50\n",
            "Train loss = 0.4084415054321289, Val loss = 1.0322332978248596\n",
            "Train acc = 0.86432, Val acc = 0.7245\n",
            "Epoch nro 16/100\n",
            "Batch 0/50\n",
            "Batch 25/50\n",
            "Train loss = 0.34460875928401946, Val loss = 0.9759118020534515\n",
            "Train acc = 0.8868, Val acc = 0.7364\n",
            "Epoch nro 17/100\n",
            "Batch 0/50\n",
            "Batch 25/50\n",
            "Train loss = 0.3138191318511963, Val loss = 1.1283657193183898\n",
            "Train acc = 0.89984, Val acc = 0.7396\n",
            "Epoch nro 18/100\n",
            "Batch 0/50\n",
            "Batch 25/50\n",
            "Train loss = 0.2519408231973648, Val loss = 1.153777825832367\n",
            "Train acc = 0.91942, Val acc = 0.7365\n",
            "Epoch nro 19/100\n",
            "Batch 0/50\n",
            "Batch 25/50\n",
            "Train loss = 0.22279090583324432, Val loss = 1.1413939476013184\n",
            "Train acc = 0.93078, Val acc = 0.7348\n",
            "Epoch nro 20/100\n",
            "Batch 0/50\n",
            "Batch 25/50\n",
            "Train loss = 0.19012533456087113, Val loss = 1.2949224948883056\n",
            "Train acc = 0.94112, Val acc = 0.7412\n",
            "Se ha guardado la época múltiplo de 10\n",
            "Epoch nro 21/100\n",
            "Batch 0/50\n",
            "Batch 25/50\n",
            "Train loss = 0.18780708491802214, Val loss = 1.2942142009735107\n",
            "Train acc = 0.94442, Val acc = 0.7453\n",
            "Epoch nro 22/100\n",
            "Batch 0/50\n",
            "Batch 25/50\n",
            "Train loss = 0.15407288447022438, Val loss = 1.2765327215194702\n",
            "Train acc = 0.95382, Val acc = 0.742\n",
            "Epoch nro 23/100\n",
            "Batch 0/50\n",
            "Batch 25/50\n",
            "Train loss = 0.13198971301317214, Val loss = 1.436668598651886\n",
            "Train acc = 0.96094, Val acc = 0.7401\n",
            "Epoch nro 24/100\n",
            "Batch 0/50\n",
            "Batch 25/50\n",
            "Train loss = 0.1364387644827366, Val loss = 1.1776079177856444\n",
            "Train acc = 0.95856, Val acc = 0.7473\n",
            "Epoch nro 25/100\n",
            "Batch 0/50\n",
            "Batch 25/50\n",
            "Train loss = 0.11243231236934662, Val loss = 1.4359982132911682\n",
            "Train acc = 0.96558, Val acc = 0.7548\n",
            "Epoch nro 26/100\n",
            "Batch 0/50\n",
            "Batch 25/50\n",
            "Train loss = 0.09506054654717445, Val loss = 1.3540064573287964\n",
            "Train acc = 0.97218, Val acc = 0.7508\n",
            "Epoch nro 27/100\n",
            "Batch 0/50\n",
            "Batch 25/50\n",
            "Train loss = 0.10042188309133053, Val loss = 1.4170844197273254\n",
            "Train acc = 0.9719, Val acc = 0.7569\n",
            "Epoch nro 28/100\n",
            "Batch 0/50\n",
            "Batch 25/50\n",
            "Train loss = 0.0913073069602251, Val loss = 1.4722057700157165\n",
            "Train acc = 0.97408, Val acc = 0.7505\n",
            "Epoch nro 29/100\n",
            "Batch 0/50\n",
            "Batch 25/50\n",
            "Train loss = 0.0858937443047762, Val loss = 1.4392698526382446\n",
            "Train acc = 0.97564, Val acc = 0.7633\n",
            "Epoch nro 30/100\n",
            "Batch 0/50\n",
            "Batch 25/50\n",
            "Train loss = 0.07711874604225159, Val loss = 1.4772607445716859\n",
            "Train acc = 0.97778, Val acc = 0.7604\n",
            "Se ha guardado la época múltiplo de 10\n",
            "Epoch nro 31/100\n",
            "Batch 0/50\n",
            "Batch 25/50\n",
            "Train loss = 0.06032520711421967, Val loss = 1.6575883984565736\n",
            "Train acc = 0.98242, Val acc = 0.7512\n",
            "Epoch nro 32/100\n",
            "Batch 0/50\n",
            "Batch 25/50\n",
            "Train loss = 0.07173270173370838, Val loss = 1.5800365090370179\n",
            "Train acc = 0.97974, Val acc = 0.7576\n",
            "Epoch nro 33/100\n",
            "Batch 0/50\n",
            "Batch 25/50\n",
            "Train loss = 0.053096315525472164, Val loss = 1.6361177206039428\n",
            "Train acc = 0.9844, Val acc = 0.7592\n",
            "Epoch nro 34/100\n",
            "Batch 0/50\n",
            "Batch 25/50\n",
            "Train loss = 0.049333012774586675, Val loss = 1.5695223212242126\n",
            "Train acc = 0.98594, Val acc = 0.7614\n",
            "Epoch nro 35/100\n",
            "Batch 0/50\n",
            "Batch 25/50\n",
            "Train loss = 0.06158574230968952, Val loss = 1.376560425758362\n",
            "Train acc = 0.98292, Val acc = 0.7553\n",
            "Epoch nro 36/100\n",
            "Batch 0/50\n",
            "Batch 25/50\n",
            "Train loss = 0.06286408819258213, Val loss = 1.8341349005699157\n",
            "Train acc = 0.98248, Val acc = 0.7612\n",
            "Epoch nro 37/100\n",
            "Batch 0/50\n",
            "Batch 25/50\n",
            "Train loss = 0.08042255148291588, Val loss = 1.391304075717926\n",
            "Train acc = 0.97732, Val acc = 0.7591\n",
            "Epoch nro 38/100\n",
            "Batch 0/50\n",
            "Batch 25/50\n",
            "Train loss = 0.05417131785303354, Val loss = 1.5222190380096436\n",
            "Train acc = 0.98508, Val acc = 0.7612\n",
            "Epoch nro 39/100\n",
            "Batch 0/50\n",
            "Batch 25/50\n",
            "Train loss = 0.041643566712737085, Val loss = 1.5884589672088623\n",
            "Train acc = 0.98876, Val acc = 0.768\n",
            "Epoch nro 40/100\n",
            "Batch 0/50\n",
            "Batch 25/50\n",
            "Train loss = 0.03538772573694587, Val loss = 1.6593594551086426\n",
            "Train acc = 0.99024, Val acc = 0.7642\n",
            "Se ha guardado la época múltiplo de 10\n",
            "Epoch nro 41/100\n",
            "Batch 0/50\n",
            "Batch 25/50\n",
            "Train loss = 0.0405058223195374, Val loss = 1.800465178489685\n",
            "Train acc = 0.98912, Val acc = 0.7573\n",
            "Epoch nro 42/100\n",
            "Batch 0/50\n",
            "Batch 25/50\n",
            "Train loss = 0.03649738239124417, Val loss = 1.6887885212898255\n",
            "Train acc = 0.98928, Val acc = 0.7605\n",
            "Epoch nro 43/100\n",
            "Batch 0/50\n",
            "Batch 25/50\n",
            "Train loss = 0.035116968918591736, Val loss = 1.7435299634933472\n",
            "Train acc = 0.99058, Val acc = 0.7646\n",
            "Epoch nro 44/100\n",
            "Batch 0/50\n",
            "Batch 25/50\n",
            "Train loss = 0.03230221036821604, Val loss = 1.8839154601097108\n",
            "Train acc = 0.99152, Val acc = 0.7575\n",
            "Epoch nro 45/100\n",
            "Batch 0/50\n",
            "Batch 25/50\n",
            "Train loss = 0.051454334743320944, Val loss = 1.5539430499076843\n",
            "Train acc = 0.98622, Val acc = 0.7606\n",
            "Epoch nro 46/100\n",
            "Batch 0/50\n",
            "Batch 25/50\n",
            "Train loss = 0.03904325753450394, Val loss = 1.9173982620239258\n",
            "Train acc = 0.98916, Val acc = 0.7682\n",
            "Epoch nro 47/100\n",
            "Batch 0/50\n",
            "Batch 25/50\n",
            "Train loss = 0.036153965201228856, Val loss = 1.6952256083488464\n",
            "Train acc = 0.99022, Val acc = 0.7673\n",
            "Epoch nro 48/100\n",
            "Batch 0/50\n",
            "Batch 25/50\n",
            "Train loss = 0.03477082774043083, Val loss = 1.9061223030090333\n",
            "Train acc = 0.99086, Val acc = 0.7527\n",
            "Epoch nro 49/100\n",
            "Batch 0/50\n",
            "Batch 25/50\n",
            "Train loss = 0.030887792948633433, Val loss = 1.7631422638893128\n",
            "Train acc = 0.99166, Val acc = 0.7621\n",
            "Epoch nro 50/100\n",
            "Batch 0/50\n",
            "Batch 25/50\n",
            "Train loss = 0.05788327593356371, Val loss = 1.648623764514923\n",
            "Train acc = 0.98492, Val acc = 0.7459\n",
            "Se ha guardado la época múltiplo de 10\n",
            "Epoch nro 51/100\n",
            "Batch 0/50\n"
          ]
        },
        {
          "output_type": "error",
          "ename": "KeyboardInterrupt",
          "evalue": "ignored",
          "traceback": [
            "\u001b[0;31m---------------------------------------------------------------------------\u001b[0m",
            "\u001b[0;31mKeyboardInterrupt\u001b[0m                         Traceback (most recent call last)",
            "\u001b[0;32m<ipython-input-18-d01131ae44eb>\u001b[0m in \u001b[0;36m<cell line: 1>\u001b[0;34m()\u001b[0m\n\u001b[0;32m----> 1\u001b[0;31m train_state = training(model = model,\n\u001b[0m\u001b[1;32m      2\u001b[0m                      \u001b[0mepochs\u001b[0m \u001b[0;34m=\u001b[0m \u001b[0;36m100\u001b[0m\u001b[0;34m,\u001b[0m\u001b[0;34m\u001b[0m\u001b[0;34m\u001b[0m\u001b[0m\n\u001b[1;32m      3\u001b[0m                      \u001b[0mtrain_loader\u001b[0m \u001b[0;34m=\u001b[0m \u001b[0mtrainloader\u001b[0m\u001b[0;34m,\u001b[0m\u001b[0;34m\u001b[0m\u001b[0;34m\u001b[0m\u001b[0m\n\u001b[1;32m      4\u001b[0m                      \u001b[0mval_loader\u001b[0m \u001b[0;34m=\u001b[0m \u001b[0mvalloader\u001b[0m\u001b[0;34m,\u001b[0m\u001b[0;34m\u001b[0m\u001b[0;34m\u001b[0m\u001b[0m\n\u001b[1;32m      5\u001b[0m                      \u001b[0mcriterion\u001b[0m \u001b[0;34m=\u001b[0m \u001b[0mcriterion\u001b[0m\u001b[0;34m,\u001b[0m\u001b[0;34m\u001b[0m\u001b[0;34m\u001b[0m\u001b[0m\n",
            "\u001b[0;32m<ipython-input-17-c335c681dc72>\u001b[0m in \u001b[0;36mtraining\u001b[0;34m(model, epochs, train_loader, val_loader, criterion, optimizer, each, state, name, cuda)\u001b[0m\n\u001b[1;32m     35\u001b[0m \u001b[0;34m\u001b[0m\u001b[0m\n\u001b[1;32m     36\u001b[0m         \u001b[0;31m# Train\u001b[0m\u001b[0;34m\u001b[0m\u001b[0;34m\u001b[0m\u001b[0m\n\u001b[0;32m---> 37\u001b[0;31m         \u001b[0mtrain_loss\u001b[0m\u001b[0;34m,\u001b[0m \u001b[0mtrain_acc\u001b[0m \u001b[0;34m=\u001b[0m \u001b[0mtrain_epoch\u001b[0m\u001b[0;34m(\u001b[0m\u001b[0mmodel\u001b[0m\u001b[0;34m,\u001b[0m \u001b[0mtrain_loader\u001b[0m\u001b[0;34m,\u001b[0m \u001b[0mcriterion\u001b[0m\u001b[0;34m,\u001b[0m \u001b[0moptimizer\u001b[0m\u001b[0;34m,\u001b[0m \u001b[0mcuda\u001b[0m\u001b[0;34m)\u001b[0m\u001b[0;34m\u001b[0m\u001b[0;34m\u001b[0m\u001b[0m\n\u001b[0m\u001b[1;32m     38\u001b[0m         \u001b[0;31m# Val\u001b[0m\u001b[0;34m\u001b[0m\u001b[0;34m\u001b[0m\u001b[0m\n\u001b[1;32m     39\u001b[0m         \u001b[0mval_loss\u001b[0m\u001b[0;34m,\u001b[0m \u001b[0mval_acc\u001b[0m \u001b[0;34m=\u001b[0m \u001b[0mvalidate\u001b[0m\u001b[0;34m(\u001b[0m\u001b[0mmodel\u001b[0m\u001b[0;34m,\u001b[0m \u001b[0mval_loader\u001b[0m\u001b[0;34m,\u001b[0m\u001b[0mcriterion\u001b[0m\u001b[0;34m,\u001b[0m \u001b[0mcuda\u001b[0m\u001b[0;34m)\u001b[0m\u001b[0;34m\u001b[0m\u001b[0;34m\u001b[0m\u001b[0m\n",
            "\u001b[0;32m<ipython-input-16-0ee3c981602e>\u001b[0m in \u001b[0;36mtrain_epoch\u001b[0;34m(model, train_loader, criterion, optimizer, cuda)\u001b[0m\n\u001b[1;32m     27\u001b[0m \u001b[0;34m\u001b[0m\u001b[0m\n\u001b[1;32m     28\u001b[0m         \u001b[0mtotal\u001b[0m \u001b[0;34m+=\u001b[0m \u001b[0mlabels\u001b[0m\u001b[0;34m.\u001b[0m\u001b[0msize\u001b[0m\u001b[0;34m(\u001b[0m\u001b[0;36m0\u001b[0m\u001b[0;34m)\u001b[0m\u001b[0;34m\u001b[0m\u001b[0;34m\u001b[0m\u001b[0m\n\u001b[0;32m---> 29\u001b[0;31m         \u001b[0mcorrect\u001b[0m \u001b[0;34m+=\u001b[0m \u001b[0;34m(\u001b[0m\u001b[0mpredicted\u001b[0m \u001b[0;34m==\u001b[0m \u001b[0mlabels\u001b[0m\u001b[0;34m)\u001b[0m\u001b[0;34m.\u001b[0m\u001b[0msum\u001b[0m\u001b[0;34m(\u001b[0m\u001b[0;34m)\u001b[0m\u001b[0;34m.\u001b[0m\u001b[0mitem\u001b[0m\u001b[0;34m(\u001b[0m\u001b[0;34m)\u001b[0m\u001b[0;34m\u001b[0m\u001b[0;34m\u001b[0m\u001b[0m\n\u001b[0m\u001b[1;32m     30\u001b[0m         \u001b[0mtrain_loss\u001b[0m \u001b[0;34m+=\u001b[0m \u001b[0mloss\u001b[0m\u001b[0;34m.\u001b[0m\u001b[0mitem\u001b[0m\u001b[0;34m(\u001b[0m\u001b[0;34m)\u001b[0m\u001b[0;34m\u001b[0m\u001b[0;34m\u001b[0m\u001b[0m\n\u001b[1;32m     31\u001b[0m \u001b[0;34m\u001b[0m\u001b[0m\n",
            "\u001b[0;31mKeyboardInterrupt\u001b[0m: "
          ]
        }
      ],
      "source": [
        "train_state = training(model = model,\n",
        "                     epochs = 100,\n",
        "                     train_loader = trainloader,\n",
        "                     val_loader = valloader,\n",
        "                     criterion = criterion,\n",
        "                     optimizer = optimizer,\n",
        "                     each = 10,\n",
        "                     state = None, #If trained state_dir\n",
        "                     name = \"Clean\",\n",
        "                     cuda = True,)"
      ]
    }
  ],
  "metadata": {
    "kernelspec": {
      "display_name": "Python 3",
      "name": "python3"
    },
    "language_info": {
      "codemirror_mode": {
        "name": "ipython",
        "version": 3
      },
      "file_extension": ".py",
      "mimetype": "text/x-python",
      "name": "python",
      "nbconvert_exporter": "python",
      "pygments_lexer": "ipython3",
      "version": "3.11.4"
    },
    "colab": {
      "provenance": [],
      "gpuType": "T4"
    },
    "accelerator": "GPU"
  },
  "nbformat": 4,
  "nbformat_minor": 0
}