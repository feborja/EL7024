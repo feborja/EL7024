{
  "cells": [
    {
      "cell_type": "markdown",
      "metadata": {
        "id": "tIpxwbcpdAA6"
      },
      "source": [
        "# Librerias"
      ]
    },
    {
      "cell_type": "markdown",
      "metadata": {},
      "source": [
        "**Para replicar los gráficos solo hace falta importar las librerías y bajar hasta el final en donde se encuetra la sección de plots**\n"
      ]
    },
    {
      "cell_type": "code",
      "execution_count": 1,
      "metadata": {
        "id": "8PiIyxuKdAA8"
      },
      "outputs": [],
      "source": [
        "import torch\n",
        "from torch import nn\n",
        "from torch.utils.data import DataLoader\n",
        "import torchvision\n",
        "from torchvision import transforms\n",
        "\n",
        "import matplotlib.pyplot as plt\n",
        "import numpy as np\n",
        "import os\n",
        "#\n",
        "from PIL import Image"
      ]
    },
    {
      "cell_type": "code",
      "execution_count": 2,
      "metadata": {
        "colab": {
          "base_uri": "https://localhost:8080/"
        },
        "id": "bv4dyfXafotX",
        "outputId": "af14f2f8-f006-4eb3-cb2f-6ed07b740f56"
      },
      "outputs": [
        {
          "name": "stdout",
          "output_type": "stream",
          "text": [
            "Mounted at /content/gdrive\n"
          ]
        }
      ],
      "source": [
        "from google.colab import drive\n",
        "drive.mount('/content/gdrive')"
      ]
    },
    {
      "cell_type": "code",
      "execution_count": 3,
      "metadata": {
        "id": "kpXEtPHhVeLD"
      },
      "outputs": [],
      "source": [
        "# SAVE_PATH = \"\" #Local\n",
        "SAVE_PATH = \"/content/gdrive/MyDrive/VGG\""
      ]
    },
    {
      "cell_type": "markdown",
      "metadata": {
        "id": "CSWUWq4kdAA9"
      },
      "source": [
        "# Modelo"
      ]
    },
    {
      "cell_type": "code",
      "execution_count": 4,
      "metadata": {
        "id": "2hbFfXzXdAA9"
      },
      "outputs": [],
      "source": [
        "class EncoderVGG16(nn.Module):\n",
        "    def __init__(self,\n",
        "                 n_layers = 5,\n",
        "                 h_dims = [512,256,128,10]):\n",
        "\n",
        "        super(EncoderVGG16,self).__init__()\n",
        "        self.n_layers = n_layers\n",
        "        self.h_dims = h_dims\n",
        "        self.layers = [5,10,17,24,31]\n",
        "        self.full_vgg16 = torchvision.models.vgg16()\n",
        "        self.vgg = self.full_vgg16.features[:self.layers[self.n_layers-1]]\n",
        "\n",
        "        self.classifier = self.full_vgg16.classifier\n",
        "\n",
        "\n",
        "        self.classifier[0] = nn.Linear(self.h_dims[0], self.h_dims[1])\n",
        "        self.classifier[3] = nn.Linear(self.h_dims[1], self.h_dims[2])\n",
        "        self.classifier[6] = nn.Linear(self.h_dims[2], self.h_dims[3])\n",
        "\n",
        "\n",
        "    def encode(self,x, layer = 5):\n",
        "        return self.vgg[:self.layers[layer-1]](x)\n",
        "\n",
        "    def forward(self,x):\n",
        "        latent = self.encode(x)\n",
        "        latent = torch.flatten(latent,start_dim = 1)\n",
        "        output = self.classifier(latent)\n",
        "\n",
        "        return output"
      ]
    },
    {
      "cell_type": "code",
      "execution_count": 5,
      "metadata": {
        "id": "KKHJMvqXdAA-"
      },
      "outputs": [],
      "source": [
        "model = EncoderVGG16()\n",
        "# model.vgg, model.classifier"
      ]
    },
    {
      "cell_type": "code",
      "execution_count": null,
      "metadata": {
        "colab": {
          "base_uri": "https://localhost:8080/"
        },
        "id": "ojHV9pK0y06x",
        "outputId": "c7c7e177-eff0-4617-f524-8592ec829746"
      },
      "outputs": [
        {
          "data": {
            "text/plain": [
              "<All keys matched successfully>"
            ]
          },
          "execution_count": 27,
          "metadata": {},
          "output_type": "execute_result"
        }
      ],
      "source": [
        "# model.load_state_dict(torch.load(\"/content/gdrive/MyDrive/VGG/clean_params/bestVGGParamsClean.pt\"))"
      ]
    },
    {
      "cell_type": "markdown",
      "metadata": {
        "id": "043fLq42dAA-"
      },
      "source": [
        "# Dataset"
      ]
    },
    {
      "cell_type": "code",
      "execution_count": 6,
      "metadata": {
        "colab": {
          "base_uri": "https://localhost:8080/"
        },
        "id": "OVMGfi5adAA_",
        "outputId": "0b7546c1-a81f-464a-a4a1-ff4ace4ab537"
      },
      "outputs": [
        {
          "name": "stdout",
          "output_type": "stream",
          "text": [
            "Data directory created :D\n",
            "Data train directory created :D\n",
            "Data val directory created :D\n"
          ]
        }
      ],
      "source": [
        "if not os.path.exists(\"data\"):\n",
        "    os.makedirs(\"data\")\n",
        "    print(\"Data directory created :D\")\n",
        "\n",
        "if not os.path.exists(\"data/train\"):\n",
        "    os.makedirs(\"data/train\")\n",
        "    print(\"Data train directory created :D\")\n",
        "\n",
        "if not os.path.exists(\"data/val\"):\n",
        "    os.makedirs(\"data/val\")\n",
        "    print(\"Data val directory created :D\")\n"
      ]
    },
    {
      "cell_type": "code",
      "execution_count": 7,
      "metadata": {
        "colab": {
          "base_uri": "https://localhost:8080/"
        },
        "id": "iPBZ-0MjVv4o",
        "outputId": "57e01e28-443c-401c-fa0d-169ce845d203"
      },
      "outputs": [
        {
          "name": "stdout",
          "output_type": "stream",
          "text": [
            "Data directory created :D\n"
          ]
        }
      ],
      "source": [
        "train_type = \"linear_params\"\n",
        "final_save = os.path.join(SAVE_PATH,train_type)\n",
        "if not os.path.exists(final_save):\n",
        "    os.makedirs(final_save)\n",
        "    print(\"Data directory created :D\")\n"
      ]
    },
    {
      "cell_type": "code",
      "execution_count": 11,
      "metadata": {
        "id": "0d9qEGk0dAA_"
      },
      "outputs": [],
      "source": [
        "from img_corrupts import *"
      ]
    },
    {
      "cell_type": "code",
      "execution_count": 8,
      "metadata": {
        "id": "hUA4WbP0dAA_"
      },
      "outputs": [],
      "source": [
        "transform = transforms.Compose([\n",
        "     transforms.ToTensor(),\n",
        "    #  transforms.Lambda(pixel_permute),\n",
        "    #  transforms.Normalize(mean=[0.49139968, 0.48215827 ,0.44653124],std=[0.24703233, 0.24348505, 0.26158768]),\n",
        "     ])\n",
        "tensor = transforms.ToTensor()"
      ]
    },
    {
      "cell_type": "code",
      "execution_count": 9,
      "metadata": {
        "colab": {
          "base_uri": "https://localhost:8080/"
        },
        "id": "X2OYtsczdAA_",
        "outputId": "1fb8fbde-68bb-4104-b2bd-89d8566c8655"
      },
      "outputs": [
        {
          "name": "stdout",
          "output_type": "stream",
          "text": [
            "Downloading https://www.cs.toronto.edu/~kriz/cifar-10-python.tar.gz to data/train/cifar-10-python.tar.gz\n"
          ]
        },
        {
          "name": "stderr",
          "output_type": "stream",
          "text": [
            "100%|██████████| 170498071/170498071 [00:02<00:00, 63993783.65it/s]\n"
          ]
        },
        {
          "name": "stdout",
          "output_type": "stream",
          "text": [
            "Extracting data/train/cifar-10-python.tar.gz to data/train/\n",
            "Downloading https://www.cs.toronto.edu/~kriz/cifar-10-python.tar.gz to data/val/cifar-10-python.tar.gz\n"
          ]
        },
        {
          "name": "stderr",
          "output_type": "stream",
          "text": [
            "100%|██████████| 170498071/170498071 [00:04<00:00, 41194886.73it/s]\n"
          ]
        },
        {
          "name": "stdout",
          "output_type": "stream",
          "text": [
            "Extracting data/val/cifar-10-python.tar.gz to data/val/\n"
          ]
        }
      ],
      "source": [
        "# train_dataset = torchvision.datasets.CIFAR10(root = \"data/train/\",train=True, transform= None, download=True)\n",
        "# val_dataset = torchvision.datasets.CIFAR10(root = \"data/val/\",train = False, transform= None, download=True)\n",
        "train_dataset = torchvision.datasets.CIFAR10(root = \"data/train/\",train=True, transform= transform,download=True)\n",
        "val_dataset = torchvision.datasets.CIFAR10(root = \"data/val/\",train = False, transform= tensor, download=True)"
      ]
    },
    {
      "cell_type": "code",
      "execution_count": 13,
      "metadata": {
        "id": "6edTRYTmwNd9"
      },
      "outputs": [],
      "source": [
        "# random_labels(train_dataset, 0.4)\n",
        "torch.manual_seed(0)\n",
        "lineal_imgs(train_dataset, 0.6)"
      ]
    },
    {
      "cell_type": "code",
      "execution_count": null,
      "metadata": {
        "id": "bCRFVf5zdAA_"
      },
      "outputs": [],
      "source": [
        "train_image_zero, train_target_zero =train_dataset[0]\n",
        "# transforms.ToPILImage()(train_image_zero)"
      ]
    },
    {
      "cell_type": "code",
      "execution_count": null,
      "metadata": {
        "colab": {
          "base_uri": "https://localhost:8080/"
        },
        "id": "fD7DUTrHwnlK",
        "outputId": "c42e498c-7d29-4fe2-d6c4-cbef0cf8f443"
      },
      "outputs": [
        {
          "data": {
            "text/plain": [
              "4"
            ]
          },
          "execution_count": 42,
          "metadata": {},
          "output_type": "execute_result"
        }
      ],
      "source": [
        "train_target_zero"
      ]
    },
    {
      "cell_type": "code",
      "execution_count": null,
      "metadata": {
        "colab": {
          "base_uri": "https://localhost:8080/",
          "height": 406
        },
        "id": "Torga1bP2Z8Z",
        "outputId": "29c0d0f8-1b80-4550-a07c-c907bdcd2ec9"
      },
      "outputs": [
        {
          "data": {
            "image/png": "[encoded data removed]",
            "text/plain": [
              "<Figure size 640x480 with 1 Axes>"
            ]
          },
          "metadata": {},
          "output_type": "display_data"
        }
      ],
      "source": [
        "# plt.imshow(np.transpose(train_image_zero, (0, 1, 2)))\n",
        "# plt.axis(\"off\")\n",
        "# plt.show()"
      ]
    },
    {
      "cell_type": "code",
      "execution_count": 11,
      "metadata": {
        "colab": {
          "base_uri": "https://localhost:8080/"
        },
        "id": "VIBQmfY7dABA",
        "outputId": "a4978d39-db79-4bb0-ce5c-d7fe0537c8d8"
      },
      "outputs": [
        {
          "data": {
            "text/plain": [
              "Dataset CIFAR10\n",
              "    Number of datapoints: 50000\n",
              "    Root location: data/train/\n",
              "    Split: Train\n",
              "    StandardTransform\n",
              "Transform: Compose(\n",
              "               ToTensor()\n",
              "               Lambda()\n",
              "           )"
            ]
          },
          "execution_count": 11,
          "metadata": {},
          "output_type": "execute_result"
        }
      ],
      "source": [
        "train_dataset"
      ]
    },
    {
      "cell_type": "code",
      "execution_count": 12,
      "metadata": {
        "colab": {
          "base_uri": "https://localhost:8080/"
        },
        "id": "wVLaZW79dABA",
        "outputId": "38ce10ae-84ec-4d63-b702-23da52469ccb"
      },
      "outputs": [
        {
          "data": {
            "text/plain": [
              "Dataset CIFAR10\n",
              "    Number of datapoints: 10000\n",
              "    Root location: data/val/\n",
              "    Split: Test\n",
              "    StandardTransform\n",
              "Transform: ToTensor()"
            ]
          },
          "execution_count": 12,
          "metadata": {},
          "output_type": "execute_result"
        }
      ],
      "source": [
        "val_dataset"
      ]
    },
    {
      "cell_type": "markdown",
      "metadata": {
        "id": "eFj7q6PNdABA"
      },
      "source": [
        "# DataLoaders y criterios de optimización"
      ]
    },
    {
      "cell_type": "code",
      "execution_count": 14,
      "metadata": {
        "id": "vxW9uS91dABA"
      },
      "outputs": [],
      "source": [
        "trainloader = DataLoader(train_dataset, batch_size=1000,shuffle=False,)\n",
        "valloader = DataLoader(val_dataset,batch_size= 1000,shuffle= False)"
      ]
    },
    {
      "cell_type": "code",
      "execution_count": null,
      "metadata": {
        "id": "rwJWD57aa8iy"
      },
      "outputs": [],
      "source": [
        "def get_mean_std(trainLoader):\n",
        "    imgs = None\n",
        "    for batch in trainLoader:\n",
        "        image_batch = batch[0]\n",
        "        if imgs is None:\n",
        "            imgs = image_batch.cpu()\n",
        "        else:\n",
        "            imgs = torch.cat([imgs, image_batch.cpu()], dim=0)\n",
        "    imgs = imgs.numpy()\n",
        "\n",
        "    # calculate mean over each channel (r,g,b)\n",
        "    mean_r = imgs[:,0,:,:].mean()\n",
        "    mean_g = imgs[:,1,:,:].mean()\n",
        "    mean_b = imgs[:,2,:,:].mean()\n",
        "    print(mean_r,mean_g,mean_b)\n",
        "\n",
        "    # calculate std over each channel (r,g,b)\n",
        "    std_r = imgs[:,0,:,:].std()\n",
        "    std_g = imgs[:,1,:,:].std()\n",
        "    std_b = imgs[:,2,:,:].std()\n",
        "    print(std_r,std_g,std_b)"
      ]
    },
    {
      "cell_type": "code",
      "execution_count": null,
      "metadata": {
        "colab": {
          "base_uri": "https://localhost:8080/"
        },
        "id": "fZt3Q9STa9W5",
        "outputId": "65cc7c09-7834-4e63-9d53-aac289b2e655"
      },
      "outputs": [
        {
          "name": "stdout",
          "output_type": "stream",
          "text": [
            "0.49139965 0.48215905 0.44653094\n",
            "0.24703224 0.24348511 0.26158786\n"
          ]
        }
      ],
      "source": [
        "# get_mean_std(trainloader)"
      ]
    },
    {
      "cell_type": "code",
      "execution_count": 15,
      "metadata": {
        "id": "BQIy7eXudABA"
      },
      "outputs": [],
      "source": [
        "criterion = nn.CrossEntropyLoss()\n",
        "optimizer = torch.optim.Adam(model.parameters(),lr = 0.0005, weight_decay= 1e-6)"
      ]
    },
    {
      "cell_type": "markdown",
      "metadata": {
        "id": "UYhnl38kdABB"
      },
      "source": [
        "# Entrenamiento"
      ]
    },
    {
      "cell_type": "code",
      "execution_count": 16,
      "metadata": {
        "id": "zLLlb6gKdABB"
      },
      "outputs": [],
      "source": [
        "def train_epoch(model, train_loader, criterion, optimizer, cuda):\n",
        "\n",
        "    total = 0\n",
        "    correct = 0\n",
        "    train_loss = 0\n",
        "\n",
        "    model.train()\n",
        "    for i, data in enumerate(train_loader):\n",
        "        if i % 25 == 0:\n",
        "            print(f\"Batch {i}/{len(train_loader)}\")\n",
        "\n",
        "        inputs, labels = data\n",
        "\n",
        "        if cuda:\n",
        "            inputs = inputs.cuda()\n",
        "            labels = labels.cuda()\n",
        "\n",
        "        optimizer.zero_grad()\n",
        "\n",
        "        outputs = model(inputs)\n",
        "        # print(outputs)\n",
        "        loss = criterion(outputs, labels)\n",
        "        loss.backward()\n",
        "        optimizer.step()\n",
        "\n",
        "        _, predicted = torch.max(outputs.data, 1)\n",
        "\n",
        "        total += labels.size(0)\n",
        "        correct += (predicted == labels).sum().item()\n",
        "        train_loss += loss.item()\n",
        "\n",
        "    accuracy = correct/total\n",
        "    train_loss = train_loss / len(train_loader)\n",
        "    return train_loss, accuracy\n",
        "\n",
        "def validate(model, val_loader, criterion, cuda):\n",
        "\n",
        "    correct = 0\n",
        "    val_loss = 0\n",
        "    total = 0\n",
        "\n",
        "    model.eval()\n",
        "    with torch.no_grad():\n",
        "        for data in val_loader:\n",
        "\n",
        "            inputs, labels = data\n",
        "\n",
        "            if cuda:\n",
        "                inputs = inputs.cuda()\n",
        "                labels = labels.cuda()\n",
        "\n",
        "            outputs = model(inputs)\n",
        "\n",
        "            loss = criterion(outputs,labels)\n",
        "\n",
        "            total += labels.size(0)\n",
        "            _, predicted = torch.max(outputs.data, 1)\n",
        "            correct += (predicted == labels).sum().item()\n",
        "            val_loss += loss.item()\n",
        "\n",
        "    val_loss = val_loss / len(val_loader)\n",
        "    accuracy = correct/total\n",
        "    return val_loss, accuracy"
      ]
    },
    {
      "cell_type": "code",
      "execution_count": 17,
      "metadata": {
        "id": "mehZZSmhdABB"
      },
      "outputs": [],
      "source": [
        "def training(model,\n",
        "             epochs,\n",
        "             train_loader,\n",
        "             val_loader,\n",
        "             criterion,\n",
        "             optimizer,\n",
        "             each = 50,\n",
        "             state = None,\n",
        "             name = \"\",\n",
        "             cuda = True):\n",
        "\n",
        "    # If trained before\n",
        "    if state == None:\n",
        "        state = {\n",
        "            \"epoch\" : 0,\n",
        "            \"loss\" : [[], []], # [train, val]\n",
        "            \"acc\" : [[], []], # [train, val]\n",
        "            \"params\" : None,\n",
        "            \"bestloss\" : np.inf\n",
        "        }\n",
        "\n",
        "    # If previously trained\n",
        "    else:\n",
        "        state = torch.load(state)\n",
        "        model.load_state_dict(state[\"params\"])\n",
        "\n",
        "    best_loss = state[\"bestloss\"]\n",
        "    state_epochs = state[\"epoch\"]\n",
        "\n",
        "    if cuda:\n",
        "        model = model.cuda()\n",
        "\n",
        "    for epoch in range(state_epochs, state_epochs + epochs):\n",
        "        print(f\"Epoch nro {epoch + 1}/{epochs}\")\n",
        "\n",
        "        # Train\n",
        "        # torch.manual_seed(0)\n",
        "        train_loss, train_acc = train_epoch(model, train_loader, criterion, optimizer, cuda)\n",
        "        # Val\n",
        "        val_loss, val_acc = validate(model, val_loader,criterion, cuda)\n",
        "\n",
        "        print(f\"Train loss = {train_loss}, Val loss = {val_loss}\")\n",
        "        print(f\"Train acc = {train_acc}, Val acc = {val_acc}\")\n",
        "        # print(f\"Val acc = {val_acc}\")\n",
        "\n",
        "        if (best_loss > val_loss):\n",
        "            best_loss = val_loss\n",
        "            print(f\"Better params found in epoch = {epoch + 1}, saved params\")\n",
        "            torch.save(model.state_dict(), os.path.join(final_save,f'bestVGGParams{name}.pt'))\n",
        "\n",
        "\n",
        "        # Save periodically for each\n",
        "        if ((epoch + 1)%each == 0):\n",
        "            print(f\"Se ha guardado la época múltiplo de {each}\")\n",
        "            torch.save(model.state_dict(), os.path.join(final_save,f'eachVGGParams_{name}_{epoch + 1}.pt'))\n",
        "\n",
        "        # Update state\n",
        "        state[\"loss\"][0].append(train_loss)\n",
        "        state[\"loss\"][1].append(val_loss)\n",
        "        state[\"acc\"][0].append(train_acc)\n",
        "        state[\"acc\"][1].append(val_acc)\n",
        "        state[\"epoch\"] = epoch + 1\n",
        "        state[\"params\"] = model.state_dict()\n",
        "        state[\"bestloss\"] = best_loss\n",
        "\n",
        "        # Save per epoch just in case\n",
        "        torch.save(state, os.path.join(final_save,f\"VGG{name}_state.pt\"))\n",
        "    return state[\"loss\"]"
      ]
    },
    {
      "cell_type": "code",
      "execution_count": 18,
      "metadata": {
        "id": "cjXQ77YaX67U"
      },
      "outputs": [],
      "source": [
        "# state_dir = \"/content/gdrive/MyDrive/VGG/gauss04_params/VGGGauss04_state.pt\"\n",
        "# state_dir = \"/content/gdrive/MyDrive/VGG/SEEDgauss04_params/VGGsGauss04_state.pt\"\n",
        "# state_dir = \"/content/gdrive/MyDrive/VGG/rand04_params/VGGRand04_state.pt\"\n",
        "# state_dir = \"/content/gdrive/MyDrive/VGG/fixedperm_params/VGGFPixelPerm_state.pt\"\n",
        "# state_dir = \"/content/gdrive/MyDrive/VGG/linear_params/VGGLinear_state.pt\""
      ]
    },
    {
      "cell_type": "code",
      "execution_count": 18,
      "metadata": {
        "colab": {
          "base_uri": "https://localhost:8080/"
        },
        "id": "--KVk1lidABB",
        "outputId": "e1b9cd59-ca9e-4f04-96d6-7e81c7593f12"
      },
      "outputs": [
        {
          "name": "stdout",
          "output_type": "stream",
          "text": [
            "Epoch nro 1/100\n",
            "Batch 0/50\n",
            "Batch 25/50\n",
            "Train loss = 2.3074776887893678, Val loss = 2.302678632736206\n",
            "Train acc = 0.10682, Val acc = 0.1004\n",
            "Better params found in epoch = 1, saved params\n",
            "Epoch nro 2/100\n",
            "Batch 0/50\n",
            "Batch 25/50\n",
            "Train loss = 2.236557273864746, Val loss = 2.077780079841614\n",
            "Train acc = 0.13748, Val acc = 0.1842\n",
            "Better params found in epoch = 2, saved params\n",
            "Epoch nro 3/100\n",
            "Batch 0/50\n",
            "Batch 25/50\n",
            "Train loss = 2.0574984169006347, Val loss = 1.9210899949073792\n",
            "Train acc = 0.16912, Val acc = 0.1943\n",
            "Better params found in epoch = 3, saved params\n",
            "Epoch nro 4/100\n",
            "Batch 0/50\n",
            "Batch 25/50\n",
            "Train loss = 1.9909296536445618, Val loss = 1.8631421208381653\n",
            "Train acc = 0.17662, Val acc = 0.1985\n",
            "Better params found in epoch = 4, saved params\n",
            "Epoch nro 5/100\n",
            "Batch 0/50\n",
            "Batch 25/50\n",
            "Train loss = 1.9177993154525756, Val loss = 1.7780025959014893\n",
            "Train acc = 0.22004, Val acc = 0.287\n",
            "Better params found in epoch = 5, saved params\n",
            "Epoch nro 6/100\n",
            "Batch 0/50\n",
            "Batch 25/50\n",
            "Train loss = 1.837946617603302, Val loss = 1.666835868358612\n",
            "Train acc = 0.2695, Val acc = 0.3164\n",
            "Better params found in epoch = 6, saved params\n",
            "Epoch nro 7/100\n",
            "Batch 0/50\n",
            "Batch 25/50\n",
            "Train loss = 1.785761115550995, Val loss = 1.605686366558075\n",
            "Train acc = 0.29108, Val acc = 0.338\n",
            "Better params found in epoch = 7, saved params\n",
            "Epoch nro 8/100\n",
            "Batch 0/50\n",
            "Batch 25/50\n",
            "Train loss = 1.7071061754226684, Val loss = 1.5640634775161744\n",
            "Train acc = 0.32578, Val acc = 0.3583\n",
            "Better params found in epoch = 8, saved params\n",
            "Epoch nro 9/100\n",
            "Batch 0/50\n",
            "Batch 25/50\n",
            "Train loss = 1.6338207626342773, Val loss = 1.4456366300582886\n",
            "Train acc = 0.36706, Val acc = 0.4218\n",
            "Better params found in epoch = 9, saved params\n",
            "Epoch nro 10/100\n",
            "Batch 0/50\n",
            "Batch 25/50\n",
            "Train loss = 1.5852017426490783, Val loss = 1.3578185439109802\n",
            "Train acc = 0.39232, Val acc = 0.4718\n",
            "Better params found in epoch = 10, saved params\n",
            "Se ha guardado la época múltiplo de 10\n",
            "Epoch nro 11/100\n",
            "Batch 0/50\n",
            "Batch 25/50\n",
            "Train loss = 1.5037014818191528, Val loss = 1.322326910495758\n",
            "Train acc = 0.43198, Val acc = 0.4958\n",
            "Better params found in epoch = 11, saved params\n",
            "Epoch nro 12/100\n",
            "Batch 0/50\n",
            "Batch 25/50\n",
            "Train loss = 1.4232179713249207, Val loss = 1.211301040649414\n",
            "Train acc = 0.47552, Val acc = 0.553\n",
            "Better params found in epoch = 12, saved params\n",
            "Epoch nro 13/100\n",
            "Batch 0/50\n",
            "Batch 25/50\n",
            "Train loss = 1.309433686733246, Val loss = 1.1539135813713073\n",
            "Train acc = 0.5253, Val acc = 0.5887\n",
            "Better params found in epoch = 13, saved params\n",
            "Epoch nro 14/100\n",
            "Batch 0/50\n",
            "Batch 25/50\n",
            "Train loss = 1.2656608629226684, Val loss = 1.1806260585784911\n",
            "Train acc = 0.54954, Val acc = 0.5885\n",
            "Epoch nro 15/100\n",
            "Batch 0/50\n",
            "Batch 25/50\n",
            "Train loss = 1.2138631439208984, Val loss = 1.1220476746559143\n",
            "Train acc = 0.57054, Val acc = 0.6156\n",
            "Better params found in epoch = 15, saved params\n",
            "Epoch nro 16/100\n",
            "Batch 0/50\n",
            "Batch 25/50\n",
            "Train loss = 1.138965346813202, Val loss = 1.1337349534034729\n",
            "Train acc = 0.59812, Val acc = 0.6178\n",
            "Epoch nro 17/100\n",
            "Batch 0/50\n",
            "Batch 25/50\n",
            "Train loss = 1.0915686392784119, Val loss = 1.144841241836548\n",
            "Train acc = 0.61686, Val acc = 0.63\n",
            "Epoch nro 18/100\n",
            "Batch 0/50\n",
            "Batch 25/50\n",
            "Train loss = 1.0609569191932677, Val loss = 1.1234994530677795\n",
            "Train acc = 0.62958, Val acc = 0.6412\n",
            "Epoch nro 19/100\n",
            "Batch 0/50\n",
            "Batch 25/50\n",
            "Train loss = 0.9830093848705291, Val loss = 1.1553209185600282\n",
            "Train acc = 0.6598, Val acc = 0.6506\n",
            "Epoch nro 20/100\n",
            "Batch 0/50\n",
            "Batch 25/50\n",
            "Train loss = 0.9301056575775146, Val loss = 1.1241087913513184\n",
            "Train acc = 0.68062, Val acc = 0.6584\n",
            "Se ha guardado la época múltiplo de 10\n",
            "Epoch nro 21/100\n",
            "Batch 0/50\n",
            "Batch 25/50\n",
            "Train loss = 0.8834695208072663, Val loss = 1.1470956563949586\n",
            "Train acc = 0.69922, Val acc = 0.6504\n",
            "Epoch nro 22/100\n",
            "Batch 0/50\n",
            "Batch 25/50\n",
            "Train loss = 0.8213615131378174, Val loss = 1.1750556349754333\n",
            "Train acc = 0.71844, Val acc = 0.6697\n",
            "Epoch nro 23/100\n",
            "Batch 0/50\n",
            "Batch 25/50\n",
            "Train loss = 0.7897405648231506, Val loss = 1.3176763772964477\n",
            "Train acc = 0.73034, Val acc = 0.6687\n",
            "Epoch nro 24/100\n",
            "Batch 0/50\n",
            "Batch 25/50\n",
            "Train loss = 0.7424255585670472, Val loss = 1.4480380892753602\n",
            "Train acc = 0.74588, Val acc = 0.6692\n",
            "Epoch nro 25/100\n",
            "Batch 0/50\n",
            "Batch 25/50\n",
            "Train loss = 0.6970385396480561, Val loss = 1.2541173458099366\n",
            "Train acc = 0.76136, Val acc = 0.6735\n",
            "Epoch nro 26/100\n",
            "Batch 0/50\n",
            "Batch 25/50\n",
            "Train loss = 0.6447480952739716, Val loss = 1.2431201815605164\n",
            "Train acc = 0.7797, Val acc = 0.6794\n",
            "Epoch nro 27/100\n",
            "Batch 0/50\n",
            "Batch 25/50\n",
            "Train loss = 0.6458443200588226, Val loss = 1.3083890080451965\n",
            "Train acc = 0.78106, Val acc = 0.6813\n",
            "Epoch nro 28/100\n",
            "Batch 0/50\n",
            "Batch 25/50\n",
            "Train loss = 0.6195465862751007, Val loss = 1.2052088022232055\n",
            "Train acc = 0.79046, Val acc = 0.6642\n",
            "Epoch nro 29/100\n",
            "Batch 0/50\n",
            "Batch 25/50\n",
            "Train loss = 0.5766559332609177, Val loss = 1.2416265964508058\n",
            "Train acc = 0.80876, Val acc = 0.6737\n",
            "Epoch nro 30/100\n",
            "Batch 0/50\n",
            "Batch 25/50\n",
            "Train loss = 0.5315893149375915, Val loss = 1.267468476295471\n",
            "Train acc = 0.82204, Val acc = 0.6719\n",
            "Se ha guardado la época múltiplo de 10\n",
            "Epoch nro 31/100\n",
            "Batch 0/50\n",
            "Batch 25/50\n",
            "Train loss = 0.4982249468564987, Val loss = 1.3322765946388244\n",
            "Train acc = 0.83144, Val acc = 0.6721\n",
            "Epoch nro 32/100\n",
            "Batch 0/50\n",
            "Batch 25/50\n",
            "Train loss = 0.4557950097322464, Val loss = 1.4099776864051818\n",
            "Train acc = 0.85024, Val acc = 0.6641\n",
            "Epoch nro 33/100\n",
            "Batch 0/50\n",
            "Batch 25/50\n",
            "Train loss = 0.4367951196432114, Val loss = 1.4763468146324157\n",
            "Train acc = 0.85516, Val acc = 0.6698\n",
            "Epoch nro 34/100\n",
            "Batch 0/50\n",
            "Batch 25/50\n",
            "Train loss = 0.395013085603714, Val loss = 1.8053144454956054\n",
            "Train acc = 0.87192, Val acc = 0.6728\n",
            "Epoch nro 35/100\n",
            "Batch 0/50\n",
            "Batch 25/50\n",
            "Train loss = 0.3452723190188408, Val loss = 1.6907830834388733\n",
            "Train acc = 0.88886, Val acc = 0.6784\n",
            "Epoch nro 36/100\n",
            "Batch 0/50\n",
            "Batch 25/50\n",
            "Train loss = 0.34354000866413115, Val loss = 1.527970826625824\n",
            "Train acc = 0.8891, Val acc = 0.6821\n",
            "Epoch nro 37/100\n",
            "Batch 0/50\n",
            "Batch 25/50\n",
            "Train loss = 0.3624757060408592, Val loss = 1.6190502285957336\n",
            "Train acc = 0.88538, Val acc = 0.676\n",
            "Epoch nro 38/100\n",
            "Batch 0/50\n",
            "Batch 25/50\n",
            "Train loss = 0.32248657792806623, Val loss = 1.67425479888916\n",
            "Train acc = 0.8988, Val acc = 0.6884\n",
            "Epoch nro 39/100\n",
            "Batch 0/50\n",
            "Batch 25/50\n",
            "Train loss = 0.2823545378446579, Val loss = 1.687763237953186\n",
            "Train acc = 0.90974, Val acc = 0.6944\n",
            "Epoch nro 40/100\n",
            "Batch 0/50\n",
            "Batch 25/50\n",
            "Train loss = 0.2709474343061447, Val loss = 1.6943049907684327\n",
            "Train acc = 0.91652, Val acc = 0.7003\n",
            "Se ha guardado la época múltiplo de 10\n",
            "Epoch nro 41/100\n",
            "Batch 0/50\n",
            "Batch 25/50\n",
            "Train loss = 0.26268974840641024, Val loss = 1.7999393582344054\n",
            "Train acc = 0.91902, Val acc = 0.6891\n",
            "Epoch nro 42/100\n",
            "Batch 0/50\n",
            "Batch 25/50\n",
            "Train loss = 0.2504942584037781, Val loss = 1.5977233529090882\n",
            "Train acc = 0.9233, Val acc = 0.697\n",
            "Epoch nro 43/100\n",
            "Batch 0/50\n",
            "Batch 25/50\n",
            "Train loss = 0.22996268212795257, Val loss = 1.7196600437164307\n",
            "Train acc = 0.92792, Val acc = 0.6796\n",
            "Epoch nro 44/100\n",
            "Batch 0/50\n",
            "Batch 25/50\n",
            "Train loss = 0.20629334673285485, Val loss = 1.726358461380005\n",
            "Train acc = 0.93662, Val acc = 0.6901\n",
            "Epoch nro 45/100\n",
            "Batch 0/50\n",
            "Batch 25/50\n",
            "Train loss = 0.17435326635837556, Val loss = 2.039440965652466\n",
            "Train acc = 0.947, Val acc = 0.6734\n",
            "Epoch nro 46/100\n",
            "Batch 0/50\n",
            "Batch 25/50\n",
            "Train loss = 0.1532292814552784, Val loss = 1.9067135810852052\n",
            "Train acc = 0.9552, Val acc = 0.6997\n",
            "Epoch nro 47/100\n",
            "Batch 0/50\n",
            "Batch 25/50\n",
            "Train loss = 0.10667713314294815, Val loss = 2.1542564630508423\n",
            "Train acc = 0.96854, Val acc = 0.7008\n",
            "Epoch nro 48/100\n",
            "Batch 0/50\n",
            "Batch 25/50\n",
            "Train loss = 0.10100089758634567, Val loss = 2.2595237255096436\n",
            "Train acc = 0.9698, Val acc = 0.6939\n",
            "Epoch nro 49/100\n",
            "Batch 0/50\n",
            "Batch 25/50\n",
            "Train loss = 0.09763008952140809, Val loss = 2.332703638076782\n",
            "Train acc = 0.97188, Val acc = 0.6798\n",
            "Epoch nro 50/100\n",
            "Batch 0/50\n",
            "Batch 25/50\n",
            "Train loss = 0.08810243964195251, Val loss = 2.1732754468917848\n",
            "Train acc = 0.97422, Val acc = 0.6863\n",
            "Se ha guardado la época múltiplo de 10\n",
            "Epoch nro 51/100\n",
            "Batch 0/50\n",
            "Batch 25/50\n",
            "Train loss = 0.08409021243453026, Val loss = 2.2810788631439207\n",
            "Train acc = 0.97612, Val acc = 0.6997\n",
            "Epoch nro 52/100\n",
            "Batch 0/50\n",
            "Batch 25/50\n",
            "Train loss = 0.08090719323605298, Val loss = 2.263312482833862\n",
            "Train acc = 0.97776, Val acc = 0.704\n",
            "Epoch nro 53/100\n",
            "Batch 0/50\n",
            "Batch 25/50\n",
            "Train loss = 0.0716813938692212, Val loss = 2.199037504196167\n",
            "Train acc = 0.9799, Val acc = 0.6865\n",
            "Epoch nro 54/100\n",
            "Batch 0/50\n",
            "Batch 25/50\n",
            "Train loss = 0.06775191191583872, Val loss = 2.4010791540145875\n",
            "Train acc = 0.9807, Val acc = 0.6856\n",
            "Epoch nro 55/100\n",
            "Batch 0/50\n",
            "Batch 25/50\n",
            "Train loss = 0.06274418756365777, Val loss = 2.4163080930709837\n",
            "Train acc = 0.98106, Val acc = 0.6845\n",
            "Epoch nro 56/100\n",
            "Batch 0/50\n",
            "Batch 25/50\n",
            "Train loss = 0.06796497024595738, Val loss = 2.3653084993362428\n",
            "Train acc = 0.98044, Val acc = 0.7\n",
            "Epoch nro 57/100\n",
            "Batch 0/50\n",
            "Batch 25/50\n",
            "Train loss = 0.07020795248448848, Val loss = 2.500763201713562\n",
            "Train acc = 0.98044, Val acc = 0.6915\n",
            "Epoch nro 58/100\n",
            "Batch 0/50\n",
            "Batch 25/50\n",
            "Train loss = 0.06712774261832237, Val loss = 2.4887977123260496\n",
            "Train acc = 0.98156, Val acc = 0.6943\n",
            "Epoch nro 59/100\n",
            "Batch 0/50\n",
            "Batch 25/50\n",
            "Train loss = 0.0673272368311882, Val loss = 2.3210145473480224\n",
            "Train acc = 0.98186, Val acc = 0.6903\n",
            "Epoch nro 60/100\n",
            "Batch 0/50\n",
            "Batch 25/50\n",
            "Train loss = 0.06178597748279571, Val loss = 2.379718470573425\n",
            "Train acc = 0.98232, Val acc = 0.6909\n",
            "Se ha guardado la época múltiplo de 10\n",
            "Epoch nro 61/100\n",
            "Batch 0/50\n",
            "Batch 25/50\n",
            "Train loss = 0.062049354426562786, Val loss = 2.6084245443344116\n",
            "Train acc = 0.98318, Val acc = 0.6934\n",
            "Epoch nro 62/100\n",
            "Batch 0/50\n",
            "Batch 25/50\n",
            "Train loss = 0.06331482380628586, Val loss = 2.7174060106277467\n",
            "Train acc = 0.98256, Val acc = 0.6896\n",
            "Epoch nro 63/100\n",
            "Batch 0/50\n",
            "Batch 25/50\n",
            "Train loss = 0.0660872458666563, Val loss = 2.499600720405579\n",
            "Train acc = 0.98106, Val acc = 0.6873\n",
            "Epoch nro 64/100\n",
            "Batch 0/50\n",
            "Batch 25/50\n",
            "Train loss = 0.07253942806273699, Val loss = 2.424126958847046\n",
            "Train acc = 0.9801, Val acc = 0.6954\n",
            "Epoch nro 65/100\n",
            "Batch 0/50\n",
            "Batch 25/50\n",
            "Train loss = 0.0717547220736742, Val loss = 2.2924331188201905\n",
            "Train acc = 0.98058, Val acc = 0.696\n",
            "Epoch nro 66/100\n",
            "Batch 0/50\n",
            "Batch 25/50\n",
            "Train loss = 0.04153015166521072, Val loss = 2.6939260482788088\n",
            "Train acc = 0.98802, Val acc = 0.6992\n",
            "Epoch nro 67/100\n",
            "Batch 0/50\n",
            "Batch 25/50\n",
            "Train loss = 0.04394893694669008, Val loss = 2.65593798160553\n",
            "Train acc = 0.9879, Val acc = 0.6985\n",
            "Epoch nro 68/100\n",
            "Batch 0/50\n",
            "Batch 25/50\n",
            "Train loss = 0.04677296061068773, Val loss = 2.4951035261154173\n",
            "Train acc = 0.9873, Val acc = 0.7003\n",
            "Epoch nro 69/100\n",
            "Batch 0/50\n",
            "Batch 25/50\n",
            "Train loss = 0.03856961317360401, Val loss = 2.627925157546997\n",
            "Train acc = 0.99008, Val acc = 0.7035\n",
            "Epoch nro 70/100\n",
            "Batch 0/50\n",
            "Batch 25/50\n",
            "Train loss = 0.03969621879979968, Val loss = 2.4794780015945435\n",
            "Train acc = 0.98906, Val acc = 0.7101\n",
            "Se ha guardado la época múltiplo de 10\n",
            "Epoch nro 71/100\n",
            "Batch 0/50\n",
            "Batch 25/50\n",
            "Train loss = 0.030307216411456464, Val loss = 2.645786166191101\n",
            "Train acc = 0.9917, Val acc = 0.7029\n",
            "Epoch nro 72/100\n",
            "Batch 0/50\n",
            "Batch 25/50\n",
            "Train loss = 0.02712905693799257, Val loss = 2.779119277000427\n",
            "Train acc = 0.9923, Val acc = 0.6957\n",
            "Epoch nro 73/100\n",
            "Batch 0/50\n",
            "Batch 25/50\n",
            "Train loss = 0.031327317859977485, Val loss = 2.5577807903289793\n",
            "Train acc = 0.99138, Val acc = 0.7046\n",
            "Epoch nro 74/100\n",
            "Batch 0/50\n",
            "Batch 25/50\n",
            "Train loss = 0.027336889561265707, Val loss = 2.5955811500549317\n",
            "Train acc = 0.99282, Val acc = 0.7024\n",
            "Epoch nro 75/100\n",
            "Batch 0/50\n",
            "Batch 25/50\n",
            "Train loss = 0.025264590568840502, Val loss = 2.8771289587020874\n",
            "Train acc = 0.99334, Val acc = 0.7076\n",
            "Epoch nro 76/100\n",
            "Batch 0/50\n",
            "Batch 25/50\n",
            "Train loss = 0.026688497811555863, Val loss = 2.845141339302063\n",
            "Train acc = 0.9929, Val acc = 0.7053\n",
            "Epoch nro 77/100\n",
            "Batch 0/50\n",
            "Batch 25/50\n",
            "Train loss = 0.023880851352587343, Val loss = 2.989360880851746\n",
            "Train acc = 0.9932, Val acc = 0.7101\n",
            "Epoch nro 78/100\n",
            "Batch 0/50\n",
            "Batch 25/50\n",
            "Train loss = 0.030299074277281762, Val loss = 2.8208814382553102\n",
            "Train acc = 0.99182, Val acc = 0.7005\n",
            "Epoch nro 79/100\n",
            "Batch 0/50\n",
            "Batch 25/50\n",
            "Train loss = 0.027275998219847677, Val loss = 2.7890374183654787\n",
            "Train acc = 0.99268, Val acc = 0.7035\n",
            "Epoch nro 80/100\n",
            "Batch 0/50\n",
            "Batch 25/50\n",
            "Train loss = 0.02409215472638607, Val loss = 2.71724910736084\n",
            "Train acc = 0.994, Val acc = 0.698\n",
            "Se ha guardado la época múltiplo de 10\n",
            "Epoch nro 81/100\n",
            "Batch 0/50\n",
            "Batch 25/50\n",
            "Train loss = 0.01945584756322205, Val loss = 3.0424784421920776\n",
            "Train acc = 0.99486, Val acc = 0.6924\n",
            "Epoch nro 82/100\n",
            "Batch 0/50\n",
            "Batch 25/50\n",
            "Train loss = 0.02880708328448236, Val loss = 2.9889654159545898\n",
            "Train acc = 0.9929, Val acc = 0.7079\n",
            "Epoch nro 83/100\n",
            "Batch 0/50\n",
            "Batch 25/50\n",
            "Train loss = 0.023138844072818757, Val loss = 2.890357160568237\n",
            "Train acc = 0.99378, Val acc = 0.7079\n",
            "Epoch nro 84/100\n",
            "Batch 0/50\n",
            "Batch 25/50\n",
            "Train loss = 0.02986579328775406, Val loss = 2.535413694381714\n",
            "Train acc = 0.99258, Val acc = 0.6993\n",
            "Epoch nro 85/100\n",
            "Batch 0/50\n",
            "Batch 25/50\n",
            "Train loss = 0.0287683585844934, Val loss = 2.630217981338501\n",
            "Train acc = 0.99248, Val acc = 0.6983\n",
            "Epoch nro 86/100\n",
            "Batch 0/50\n",
            "Batch 25/50\n",
            "Train loss = 0.03130957929417491, Val loss = 2.9525884628295898\n",
            "Train acc = 0.99156, Val acc = 0.7013\n",
            "Epoch nro 87/100\n",
            "Batch 0/50\n",
            "Batch 25/50\n",
            "Train loss = 0.031420297529548405, Val loss = 2.8884979248046876\n",
            "Train acc = 0.99198, Val acc = 0.7011\n",
            "Epoch nro 88/100\n",
            "Batch 0/50\n",
            "Batch 25/50\n",
            "Train loss = 0.02998839782550931, Val loss = 2.7068684577941893\n",
            "Train acc = 0.99218, Val acc = 0.7133\n",
            "Epoch nro 89/100\n",
            "Batch 0/50\n",
            "Batch 25/50\n",
            "Train loss = 0.029615299124270678, Val loss = 2.897662711143494\n",
            "Train acc = 0.99178, Val acc = 0.7068\n",
            "Epoch nro 90/100\n",
            "Batch 0/50\n",
            "Batch 25/50\n",
            "Train loss = 0.028182193655520677, Val loss = 2.8173566579818727\n",
            "Train acc = 0.99272, Val acc = 0.707\n",
            "Se ha guardado la época múltiplo de 10\n",
            "Epoch nro 91/100\n",
            "Batch 0/50\n",
            "Batch 25/50\n",
            "Train loss = 0.034757064431905745, Val loss = 2.565510082244873\n",
            "Train acc = 0.99092, Val acc = 0.7046\n",
            "Epoch nro 92/100\n",
            "Batch 0/50\n",
            "Batch 25/50\n",
            "Train loss = 0.03966220512986183, Val loss = 2.579595613479614\n",
            "Train acc = 0.99028, Val acc = 0.6989\n",
            "Epoch nro 93/100\n",
            "Batch 0/50\n",
            "Batch 25/50\n",
            "Train loss = 0.037353026550263166, Val loss = 2.5967231035232543\n",
            "Train acc = 0.99016, Val acc = 0.715\n",
            "Epoch nro 94/100\n",
            "Batch 0/50\n",
            "Batch 25/50\n",
            "Train loss = 0.02878906423225999, Val loss = 2.6859124660491944\n",
            "Train acc = 0.99242, Val acc = 0.7099\n",
            "Epoch nro 95/100\n",
            "Batch 0/50\n",
            "Batch 25/50\n",
            "Train loss = 0.03138210685923695, Val loss = 2.4071959495544433\n",
            "Train acc = 0.99184, Val acc = 0.7075\n",
            "Epoch nro 96/100\n",
            "Batch 0/50\n",
            "Batch 25/50\n",
            "Train loss = 0.02105691342614591, Val loss = 3.129642653465271\n",
            "Train acc = 0.99444, Val acc = 0.7081\n",
            "Epoch nro 97/100\n",
            "Batch 0/50\n",
            "Batch 25/50\n",
            "Train loss = 0.0291730197891593, Val loss = 2.721829342842102\n",
            "Train acc = 0.99196, Val acc = 0.7114\n",
            "Epoch nro 98/100\n",
            "Batch 0/50\n",
            "Batch 25/50\n",
            "Train loss = 0.02804742129519582, Val loss = 2.782180118560791\n",
            "Train acc = 0.99232, Val acc = 0.7078\n",
            "Epoch nro 99/100\n",
            "Batch 0/50\n",
            "Batch 25/50\n",
            "Train loss = 0.025477423695847393, Val loss = 2.9054178476333616\n",
            "Train acc = 0.99336, Val acc = 0.7074\n",
            "Epoch nro 100/100\n",
            "Batch 0/50\n",
            "Batch 25/50\n",
            "Train loss = 0.035828051790595054, Val loss = 2.4568519830703734\n",
            "Train acc = 0.99072, Val acc = 0.699\n",
            "Se ha guardado la época múltiplo de 10\n"
          ]
        }
      ],
      "source": [
        "train_state = training(model = model,\n",
        "                     epochs = 100,\n",
        "                     train_loader = trainloader,\n",
        "                     val_loader = valloader,\n",
        "                     criterion = criterion,\n",
        "                     optimizer = optimizer,\n",
        "                     each = 10,\n",
        "                     state = None,#None, #If trained state_dir\n",
        "                     name = \"Linear\",\n",
        "                     cuda = True,)"
      ]
    },
    {
      "cell_type": "markdown",
      "metadata": {},
      "source": [
        "# Plots"
      ]
    },
    {
      "cell_type": "markdown",
      "metadata": {},
      "source": [
        "**Para replicar comentar la lista de direcciones a drive y descomentar la de abajo añadiendo la dirección de los parámetros del drive**"
      ]
    },
    {
      "cell_type": "code",
      "execution_count": 3,
      "metadata": {
        "colab": {
          "base_uri": "https://localhost:8080/",
          "height": 656
        },
        "id": "ipprIx83j-11",
        "outputId": "40ce8232-b52d-4dbd-c389-bb8099724d54"
      },
      "outputs": [
        {
          "data": {
            "text/plain": [
              "[]"
            ]
          },
          "execution_count": 3,
          "metadata": {},
          "output_type": "execute_result"
        },
        {
          "data": {
            "image/png": "[encoded data removed]",
            "text/plain": [
              "<Figure size 800x300 with 2 Axes>"
            ]
          },
          "metadata": {},
          "output_type": "display_data"
        },
        {
          "data": {
            "image/png": "[encoded data removed]",
            "text/plain": [
              "<Figure size 800x300 with 2 Axes>"
            ]
          },
          "metadata": {},
          "output_type": "display_data"
        }
      ],
      "source": [
        "state_dirs = [\"/content/gdrive/MyDrive/VGG/clean_params/VGGClean_state.pt\",\n",
        "              \"/content/gdrive/MyDrive/VGG/rand04_params/VGGRand04_state.pt\",\n",
        "              # \"/content/gdrive/MyDrive/VGG/gauss04_params/VGGGauss04_state.pt\",\n",
        "              \"/content/gdrive/MyDrive/VGG/SEEDgauss04_params/VGGsGauss04_state.pt\",\n",
        "              \"/content/gdrive/MyDrive/VGG/fixedperm_params/VGGFPixelPerm_state.pt\",\n",
        "              \"/content/gdrive/MyDrive/VGG/linear_params/VGGLinear_state.pt\",\n",
        "              ]\n",
        "\n",
        "# state_dirs = [\".\\\\VGGClean_state.pt\",\n",
        "#               \".\\\\VGGRand04_state.pt\",\n",
        "#               # \".\\\\VGGGauss04_state.pt\",\n",
        "#               \".\\\\VGGsGauss04_state.pt\",\n",
        "#               \".\\\\VGGFPixelPerm_state.pt\",\n",
        "#               \".\\\\VGGLinear_state.pt\",\n",
        "#               ]\n",
        "\n",
        "n_curves = len(state_dirs)\n",
        "\n",
        "states = []\n",
        "for i in range(n_curves):\n",
        "    states.append(torch.load(state_dirs[i]))\n",
        "\n",
        "labels =[\"Clean\",\n",
        "         \"Random label\",\n",
        "         \"Gaussian Pixels\",\n",
        "        #  \"Fixed Gaussian Pixels\",\n",
        "         \"Pixel Permute\",\n",
        "         \"Linear combination\"]\n",
        "\n",
        "fig, (train_loss,train_acc) = plt.subplots(ncols = 2, figsize = (8,3), layout = \"constrained\")\n",
        "fig.suptitle(\"Training results (train)\")\n",
        "\n",
        "for i, state in enumerate(states):\n",
        "    n_epochs = np.arange(1,len(state[\"loss\"][0]) + 1,1)\n",
        "    train_loss.plot(n_epochs , state[\"loss\"][0], label = labels[i])\n",
        "    train_acc.plot(n_epochs , state[\"acc\"][0], label = labels[i])\n",
        "\n",
        "train_loss.set_xlabel(\"Epochs\")\n",
        "train_loss.set_ylabel(\"Loss\")\n",
        "train_loss.set_title(\"Loss evolution\")\n",
        "\n",
        "train_acc.set_xlabel(\"Epochs\")\n",
        "train_acc.set_ylabel(\"Acc\")\n",
        "train_acc.set_title(\"Accuracy evolution\")\n",
        "\n",
        "plt.legend(fontsize = \"x-small\")\n",
        "plt.savefig(\"img_train.pdf\")\n",
        "plt.plot()\n",
        "\n",
        "fig, (val_loss,val_acc) = plt.subplots(ncols = 2, figsize = (8,3), layout = \"constrained\")\n",
        "fig.suptitle(\"Training results (validation)\")\n",
        "\n",
        "for i, state in enumerate(states):\n",
        "    n_epochs = np.arange(1,len(state[\"loss\"][0]) + 1 ,1)\n",
        "    val_loss.plot(n_epochs , state[\"loss\"][1], label = labels[i])\n",
        "    val_acc.plot(n_epochs , state[\"acc\"][1], label = labels[i])\n",
        "\n",
        "val_loss.set_xlabel(\"Epochs\")\n",
        "val_loss.set_ylabel(\"Loss\")\n",
        "val_loss.set_title(\"Loss evolution\")\n",
        "\n",
        "val_acc.set_xlabel(\"Epochs\")\n",
        "val_acc.set_ylabel(\"Acc\")\n",
        "val_acc.set_title(\"Accuracy evolution\")\n",
        "\n",
        "plt.legend(fontsize = \"x-small\")\n",
        "plt.savefig(\"img_val.pdf\")\n",
        "plt.plot()\n",
        "\n"
      ]
    },
    {
      "cell_type": "code",
      "execution_count": 7,
      "metadata": {
        "colab": {
          "base_uri": "https://localhost:8080/"
        },
        "id": "vQT9f1l00-1O",
        "outputId": "28f66e65-6dfe-4d29-e965-c9acef555bd4"
      },
      "outputs": [
        {
          "name": "stdout",
          "output_type": "stream",
          "text": [
            "Clean\n",
            "Train acc 99.446\n",
            "Val acc 76.94\n",
            "Random label\n",
            "Train acc 98.942\n",
            "Val acc 47.19\n",
            "Gaussian Pixels\n",
            "Train acc 83.738\n",
            "Val acc 69.11\n",
            "Pixel Permute\n",
            "Train acc 99.048\n",
            "Val acc 66.34\n",
            "Linear combination\n",
            "Train acc 99.072\n",
            "Val acc 69.89999999999999\n"
          ]
        }
      ],
      "source": [
        "for i, state in enumerate(states):\n",
        "    print(labels[i])\n",
        "    # pos = np.argmin(state[\"loss\"][1])\n",
        "    t = state[\"acc\"][0][-1] * 100\n",
        "    v = state[\"acc\"][1][-1]* 100\n",
        "    print(f\"Train acc {t}\")\n",
        "    print(f\"Val acc {v}\")\n",
        "\n"
      ]
    }
  ],
  "metadata": {
    "accelerator": "GPU",
    "colab": {
      "gpuType": "T4",
      "provenance": []
    },
    "kernelspec": {
      "display_name": "Python 3",
      "name": "python3"
    },
    "language_info": {
      "codemirror_mode": {
        "name": "ipython",
        "version": 3
      },
      "file_extension": ".py",
      "mimetype": "text/x-python",
      "name": "python",
      "nbconvert_exporter": "python",
      "pygments_lexer": "ipython3",
      "version": "3.10.11"
    }
  },
  "nbformat": 4,
  "nbformat_minor": 0
}
