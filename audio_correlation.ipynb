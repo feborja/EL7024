{
 "cells": [
  {
   "cell_type": "code",
   "execution_count": 5,
   "metadata": {},
   "outputs": [],
   "source": [
    "# Misc\n",
    "import os\n",
    "import time\n",
    "# import umap\n",
    "import numpy as np\n",
    "import pandas as pd\n",
    "from sklearn.decomposition import PCA\n",
    "# from pathlib import Path\n",
    "import matplotlib.pyplot as plt\n",
    "from sklearn.model_selection import train_test_split\n",
    "from sklearn.feature_selection import mutual_info_regression as mutual_inf\n",
    "# Locals\n",
    "# import audio.audio_corrupts as corrupt\n",
    "import audio.audio_model as audiotrain\n",
    "import audio.audio_data as dataudio\n",
    "# Torch\n",
    "import torch\n",
    "# import torchaudio\n",
    "# from torch import nn\n",
    "# from torch.utils.data import DataLoader"
   ]
  },
  {
   "cell_type": "markdown",
   "metadata": {},
   "source": [
    "get a batch"
   ]
  },
  {
   "cell_type": "code",
   "execution_count": 6,
   "metadata": {},
   "outputs": [
    {
     "name": "stdout",
     "output_type": "stream",
     "text": [
      "                     relative_path  classID   corrupt\n",
      "0     \\audio\\fold5\\17578-5-0-2.wav        5  0.646628\n",
      "1  \\audio\\fold1\\193698-2-0-114.wav        2  0.479139\n",
      "2     \\audio\\fold6\\66623-4-0-2.wav        4  0.367986\n",
      "3      \\audio\\fold1\\9031-3-2-0.wav        3  0.048076\n",
      "4    \\audio\\fold7\\168846-5-1-4.wav        5  0.095380\n"
     ]
    }
   ],
   "source": [
    "DATA = \"C:\\\\audio_dataset\\\\UrbanSound8K\"\n",
    "np.random.seed(0)\n",
    "file = os.path.join(DATA, \"metadata\", \"UrbanSound8K.csv\")\n",
    "df = pd.read_csv(file)\n",
    "df['relative_path'] = '\\\\audio' + '\\\\fold' + df['fold'].astype(str) + '\\\\' + df['slice_file_name'].astype(str)\n",
    "df['corrupt'] = np.random.rand(len(df))\n",
    "df = df[['relative_path', 'classID', 'corrupt']]\n",
    "train, val = train_test_split(df, test_size=0.2,random_state=420)\n",
    "train, val = train.reset_index(drop = True), val.reset_index(drop = True) \n",
    "\n",
    "print(val.head())\n",
    "train_ds = dataudio.SoundDS(train, DATA, transform = True)\n",
    "val_ds = dataudio.SoundDS(val, DATA, transform = False)\n",
    "\n",
    "train_dl = torch.utils.data.DataLoader(train_ds, batch_size=250, shuffle=True)\n",
    "val_dl = torch.utils.data.DataLoader(val_ds, batch_size=250, shuffle=False)"
   ]
  },
  {
   "cell_type": "code",
   "execution_count": 7,
   "metadata": {},
   "outputs": [],
   "source": [
    "for i, batch in enumerate(val_dl):\n",
    "    data = batch\n",
    "    break"
   ]
  },
  {
   "cell_type": "code",
   "execution_count": 8,
   "metadata": {},
   "outputs": [
    {
     "data": {
      "text/plain": [
       "torch.Size([250, 22016])"
      ]
     },
     "execution_count": 8,
     "metadata": {},
     "output_type": "execute_result"
    }
   ],
   "source": [
    "data[0].view(data[0].size(0), -1).size()"
   ]
  },
  {
   "cell_type": "markdown",
   "metadata": {},
   "source": [
    "model"
   ]
  },
  {
   "cell_type": "code",
   "execution_count": 9,
   "metadata": {},
   "outputs": [],
   "source": [
    "def geti2l(x, layer):\n",
    "    layer = layer.t()\n",
    "    values = np.zeros(n, len(x)) #len(x[0])\n",
    "    n = len(layer)\n",
    "    for i in range(n):\n",
    "        values[i] = mutual_inf(x, layer[i])\n",
    "    return values"
   ]
  },
  {
   "cell_type": "code",
   "execution_count": 30,
   "metadata": {},
   "outputs": [
    {
     "name": "stdout",
     "output_type": "stream",
     "text": [
      "Encoding: 0.04901123046875 s\n",
      "l2o: 0.8561685085296631 s\n",
      "Encoding: 0.03200721740722656 s\n",
      "l2o: 0.8324978351593018 s\n",
      "Encoding: 0.03200554847717285 s\n",
      "l2o: 0.8263163566589355 s\n",
      "Encoding: 0.04600954055786133 s\n",
      "l2o: 0.8114087581634521 s\n",
      "Encoding: 0.0390162467956543 s\n",
      "l2o: 0.8498849868774414 s\n",
      "[array([4.55390234]), array([4.40440001]), array([2.4108069]), array([1.78881836]), array([1.64408302])]\n",
      "i2l: 137.68247532844543 s\n"
     ]
    }
   ],
   "source": [
    "from concurrent.futures import ThreadPoolExecutor\n",
    "iters = [1, 20, 50, 70, 100]\n",
    "model = audiotrain.AudioModel()\n",
    "# models = [model, model, model]\n",
    "outs = []\n",
    "l2o = []\n",
    "for i in range(len(iters)):  \n",
    "    state = torch.load(f'test\\\\clean\\\\clean_{iters[i]}.pt')\n",
    "    model.load_state_dict(state[\"params\"])\n",
    "    x, y = data\n",
    "    # print(y.size())\n",
    "    start_time = time.time()\n",
    "    out = model.encode(x, 2).detach()\n",
    "    outs.append(out)\n",
    "    print(\"Encoding: %s s\" % (time.time() - start_time))\n",
    "    # print(x.size())\n",
    "    # print(out.t().size())\n",
    "    start_time = time.time()\n",
    "    layer2out = np.array(mutual_inf(out, y))\n",
    "    # print(layer2out.shape)\n",
    "    l2o.append(np.sum(layer2out))\n",
    "    print(\"l2o: %s s\" % (time.time() - start_time))\n",
    "# print(layer2out)\n",
    "pca = PCA(n_components=100)\n",
    "awa = np.array(pca.fit_transform(out))\n",
    "\n",
    "params_list = [[x, x, x, x, x], [outs[0], outs[1], outs[2], outs[3], outs[4]]]\n",
    "num_threads = 5\n",
    "start_time = time.time()\n",
    "with ThreadPoolExecutor(max_workers=num_threads) as executor:\n",
    "    i2l = list(executor.map(geti2l, params_list[0], params_list[1]))\n",
    "print(i2l)\n",
    "# in2layer = geti2l(x, out)\n",
    "print(\"i2l: %s s\" % (time.time() - start_time))\n",
    "# print(in2layer)\n"
   ]
  },
  {
   "cell_type": "code",
   "execution_count": 32,
   "metadata": {},
   "outputs": [
    {
     "data": {
      "text/plain": [
       "<matplotlib.colorbar.Colorbar at 0x210a115ef90>"
      ]
     },
     "execution_count": 32,
     "metadata": {},
     "output_type": "execute_result"
    },
    {
     "data": {
      "image/png": "[encoded data removed]",
      "text/plain": [
       "<Figure size 432x288 with 2 Axes>"
      ]
     },
     "metadata": {
      "needs_background": "light"
     },
     "output_type": "display_data"
    }
   ],
   "source": [
    "plt.scatter(x = i2l, y = l2o, c= [1, 2, 3, 4, 5])\n",
    "plt.plot(i2l, l2o, '-o', alpha = 0.1)\n",
    "plt.xlabel(\"i2l\")\n",
    "plt.ylabel(\"l2o\")\n",
    "plt.colorbar()"
   ]
  },
  {
   "cell_type": "code",
   "execution_count": null,
   "metadata": {},
   "outputs": [
    {
     "data": {
      "text/plain": [
       "array([0.94153622, 1.05294606, 0.97443943, ..., 0.44916444, 0.47710718,\n",
       "       0.4499111 ])"
      ]
     },
     "execution_count": 72,
     "metadata": {},
     "output_type": "execute_result"
    }
   ],
   "source": [
    "mutual_inf(x, awa[0])"
   ]
  },
  {
   "cell_type": "code",
   "execution_count": null,
   "metadata": {},
   "outputs": [
    {
     "name": "stdout",
     "output_type": "stream",
     "text": [
      "[[-2.2977848   3.7250195 ]\n",
      " [ 7.862205    6.166037  ]\n",
      " [ 0.30327573  7.2500834 ]\n",
      " [ 4.8211136   7.2082467 ]\n",
      " [ 8.741609    5.583044  ]\n",
      " [-2.3850393   3.3241477 ]\n",
      " [11.355143    3.2084603 ]\n",
      " [-2.1905677   4.677459  ]\n",
      " [ 2.2915103   8.498811  ]\n",
      " [ 2.0085936   8.866209  ]\n",
      " [ 5.686702    6.430809  ]\n",
      " [ 2.435308    9.338016  ]\n",
      " [ 8.348877    5.002508  ]\n",
      " [-1.3561319   4.3268456 ]\n",
      " [-3.2223773   4.9250236 ]\n",
      " [-2.3155515   4.595391  ]\n",
      " [10.7807255   2.7273734 ]\n",
      " [-0.7338241   4.5357656 ]\n",
      " [-0.02644105  6.8101993 ]\n",
      " [ 8.398214    4.64194   ]\n",
      " [ 8.538699    3.5911515 ]\n",
      " [-1.5854307   4.1935735 ]\n",
      " [-3.077206    4.585286  ]\n",
      " [-2.5547693   4.218985  ]\n",
      " [ 7.945829    6.574765  ]\n",
      " [-3.1725953   4.8285074 ]\n",
      " [ 5.748373    6.1688514 ]\n",
      " [ 7.0371504   4.566001  ]\n",
      " [ 6.6124983   6.7116947 ]\n",
      " [ 1.5131507   8.705071  ]\n",
      " [ 2.5083823   9.400297  ]\n",
      " [ 7.266891    4.4394274 ]\n",
      " [-2.3077698   4.228129  ]\n",
      " [ 7.9597178   6.334383  ]\n",
      " [-2.6820557   3.0706723 ]\n",
      " [ 5.6627235   5.297073  ]\n",
      " [ 2.420691    8.487398  ]\n",
      " [-2.6014166   3.940353  ]\n",
      " [-2.363958    4.1231365 ]\n",
      " [14.25504    -0.32697493]\n",
      " [ 5.7450304   6.1389947 ]\n",
      " [ 5.462407    5.8287773 ]\n",
      " [-2.2281456   4.238958  ]\n",
      " [ 1.6845961   8.823512  ]\n",
      " [11.549195    3.105454  ]\n",
      " [ 6.9161124   4.3171215 ]\n",
      " [ 8.340578    4.8212233 ]\n",
      " [-0.91441184  5.0532637 ]\n",
      " [ 5.5009027   6.6648955 ]\n",
      " [ 8.638826    3.641993  ]\n",
      " [10.997812    2.903988  ]\n",
      " [ 2.2762685   8.637097  ]\n",
      " [ 2.6933725   7.923775  ]\n",
      " [-0.7069613   4.7530985 ]\n",
      " [ 5.212147    6.9965363 ]\n",
      " [-0.6752713   4.5647206 ]\n",
      " [ 8.494174    3.527911  ]\n",
      " [ 8.429314    4.8423896 ]\n",
      " [-0.77538675  5.579288  ]\n",
      " [ 4.349834    7.4978495 ]\n",
      " [-2.223319    3.639739  ]\n",
      " [-0.12978686  6.628525  ]\n",
      " [ 1.998609    8.246888  ]\n",
      " [ 7.347009    4.2902465 ]\n",
      " [ 6.049063    5.833032  ]\n",
      " [ 2.4096024   8.629525  ]\n",
      " [ 0.6306105   7.862606  ]\n",
      " [ 8.150481    6.0174475 ]\n",
      " [-0.28701326  6.0358057 ]\n",
      " [ 7.4156027   4.1304007 ]\n",
      " [ 0.72107404  7.963579  ]\n",
      " [ 6.8235826   6.709586  ]\n",
      " [ 8.669634    3.6950922 ]\n",
      " [ 7.7094126   6.269704  ]\n",
      " [ 0.4440448   7.4746294 ]\n",
      " [-0.04769057  6.742881  ]\n",
      " [10.62489     2.7168367 ]\n",
      " [-0.8517196   5.964427  ]\n",
      " [-3.0621274   4.5522923 ]\n",
      " [-1.1650628   4.4864736 ]\n",
      " [-2.464093    4.454583  ]\n",
      " [ 7.2040524   4.2600503 ]\n",
      " [ 8.147678    4.413926  ]\n",
      " [ 2.2598128   9.056064  ]\n",
      " [-1.4546882   4.3445163 ]\n",
      " [-0.25254038  6.3873343 ]\n",
      " [ 3.5277596   8.225617  ]\n",
      " [-0.5830008   5.1848226 ]\n",
      " [10.674448    2.8012757 ]\n",
      " [-2.6344032   3.1250412 ]\n",
      " [ 4.19756     7.6062803 ]\n",
      " [ 2.1593354   7.954422  ]\n",
      " [-3.060582    4.759363  ]\n",
      " [ 8.961681    3.9965072 ]\n",
      " [-1.0096269   3.6234765 ]\n",
      " [-3.078862    4.603041  ]\n",
      " [-0.88878846  5.5438867 ]\n",
      " [ 5.4552794   5.622039  ]\n",
      " [ 5.503975    6.126447  ]\n",
      " [ 1.1904228   8.34887   ]\n",
      " [ 0.46409902  7.186598  ]\n",
      " [ 0.7006393   7.9649873 ]\n",
      " [-0.38649538  6.27193   ]\n",
      " [ 6.5958514   4.995497  ]\n",
      " [ 5.9991345   6.81652   ]\n",
      " [14.233304   -0.3053544 ]\n",
      " [ 5.860602    6.7568617 ]\n",
      " [ 7.347277    4.4185996 ]\n",
      " [ 5.791558    5.0797915 ]\n",
      " [-0.8850889   6.0156226 ]\n",
      " [ 7.3466268   4.3591204 ]\n",
      " [-1.7858671   4.1810107 ]\n",
      " [ 4.9555764   6.8346176 ]\n",
      " [-2.6193547   4.2550297 ]\n",
      " [-1.766362    4.1175103 ]\n",
      " [ 0.7949871   7.8201118 ]\n",
      " [ 2.1882844   8.684392  ]\n",
      " [ 1.6504543   7.865577  ]\n",
      " [ 5.4493876   6.304211  ]\n",
      " [ 5.380362    6.8391814 ]\n",
      " [ 0.60741395  7.823645  ]\n",
      " [ 2.9977446   8.799451  ]\n",
      " [14.246745   -0.318842  ]\n",
      " [ 8.384575    4.430376  ]\n",
      " [ 4.0428333   7.727955  ]\n",
      " [ 6.9250417   4.664295  ]\n",
      " [ 7.9223094   6.460047  ]\n",
      " [ 7.6005197   6.815568  ]\n",
      " [ 5.7625527   6.6583314 ]\n",
      " [ 8.767136    5.5506887 ]\n",
      " [ 2.824886    8.750345  ]\n",
      " [ 5.7700086   5.7759786 ]\n",
      " [ 6.7267156   4.8532834 ]\n",
      " [ 5.2694025   6.014821  ]\n",
      " [ 7.711244    6.263916  ]\n",
      " [10.769328    3.369921  ]\n",
      " [ 7.3540745   6.1278825 ]\n",
      " [ 8.605884    4.74893   ]\n",
      " [ 8.466895    4.4928074 ]\n",
      " [ 8.094011    6.065386  ]\n",
      " [ 4.7834983   7.1264515 ]\n",
      " [-1.1348122   4.5638266 ]\n",
      " [-3.2538626   5.114735  ]\n",
      " [ 6.1540775   6.020626  ]\n",
      " [-3.058848    4.583219  ]\n",
      " [11.73348     2.780641  ]\n",
      " [-0.88455737  5.6642914 ]\n",
      " [-2.1668231   3.5924957 ]\n",
      " [ 7.182552    6.956368  ]\n",
      " [-0.25686863  6.3876677 ]\n",
      " [11.199533    2.660018  ]\n",
      " [ 1.2627819   7.8032093 ]\n",
      " [-2.1885517   4.6402082 ]\n",
      " [ 8.6654      3.6155217 ]\n",
      " [ 1.8266827   8.055965  ]\n",
      " [ 9.186716    3.705228  ]\n",
      " [-2.6431453   3.1212409 ]\n",
      " [-0.8350533   5.950288  ]\n",
      " [-2.2834513   4.03338   ]\n",
      " [ 7.736947    6.516357  ]\n",
      " [10.626892    3.587359  ]\n",
      " [ 9.023365    3.5960298 ]\n",
      " [10.712953    2.8748817 ]\n",
      " [ 2.923738    8.810144  ]\n",
      " [14.24062    -0.3136909 ]\n",
      " [11.186282    2.8011029 ]\n",
      " [-0.6702375   4.580608  ]\n",
      " [ 7.1379447   4.4218006 ]\n",
      " [ 7.6404057   4.303291  ]\n",
      " [-3.031149    4.7528634 ]\n",
      " [11.68996     2.7219436 ]\n",
      " [-1.047204    4.656015  ]\n",
      " [ 8.087189    4.272716  ]\n",
      " [ 2.4877827   8.28877   ]\n",
      " [11.66067     2.7156687 ]\n",
      " [ 5.883445    5.6261435 ]\n",
      " [ 7.6969      6.150751  ]\n",
      " [11.283531    3.1395864 ]\n",
      " [-2.626118    4.127895  ]\n",
      " [ 7.571273    6.6057296 ]\n",
      " [-2.6711643   4.1490965 ]\n",
      " [ 8.250297    6.160676  ]\n",
      " [ 5.3910317   6.940096  ]\n",
      " [-0.90245926  5.398501  ]\n",
      " [ 6.879341    4.7113805 ]\n",
      " [-0.71423554  4.5139008 ]\n",
      " [ 1.4279078   8.608146  ]\n",
      " [ 0.91367924  8.3074875 ]\n",
      " [ 0.5827559   7.7974744 ]\n",
      " [ 2.9385571   8.492373  ]\n",
      " [-1.0236918   3.6531706 ]\n",
      " [10.946509    2.7342303 ]\n",
      " [ 5.4307313   5.851468  ]\n",
      " [ 5.8783407   6.596023  ]\n",
      " [ 7.2964225   4.296783  ]\n",
      " [ 5.835918    6.7090344 ]\n",
      " [-0.6979324   4.674861  ]\n",
      " [11.464748    3.0898464 ]\n",
      " [ 7.2512193   6.021188  ]\n",
      " [ 2.549825    9.464359  ]\n",
      " [ 0.7320053   7.901936  ]\n",
      " [ 8.725349    3.703655  ]\n",
      " [ 8.453554    4.630504  ]\n",
      " [ 8.646933    5.5451756 ]\n",
      " [-2.564932    3.3229485 ]\n",
      " [ 8.135247    3.7013679 ]\n",
      " [ 2.369392    9.264785  ]\n",
      " [-2.633483    3.4659815 ]\n",
      " [ 5.4364576   5.8413525 ]\n",
      " [ 7.7325344   6.555042  ]\n",
      " [ 7.36552     4.0877757 ]\n",
      " [ 0.1550576   6.991208  ]\n",
      " [ 8.144063    5.858092  ]\n",
      " [ 8.417554    4.5472746 ]\n",
      " [10.780122    3.2301524 ]\n",
      " [-3.174196    4.5320787 ]\n",
      " [ 2.7489057   8.509579  ]\n",
      " [ 5.5911465   5.6194625 ]\n",
      " [ 5.6767797   5.461937  ]\n",
      " [-0.27119124  6.3210506 ]\n",
      " [ 5.7737727   5.4984837 ]\n",
      " [-0.6256958   5.623556  ]\n",
      " [ 8.110802    6.476331  ]\n",
      " [ 2.4653282   8.875241  ]\n",
      " [ 6.1509547   6.022709  ]\n",
      " [-0.4555641   5.7707453 ]\n",
      " [ 0.6553448   7.88068   ]\n",
      " [ 7.94503     6.668868  ]\n",
      " [11.620248    2.690207  ]\n",
      " [ 2.0875082   8.9587345 ]\n",
      " [ 5.9062376   4.9618096 ]\n",
      " [ 5.499324    5.4021497 ]\n",
      " [-1.5792459   4.5643053 ]\n",
      " [ 3.3756492   8.315903  ]\n",
      " [ 1.0922667   8.3505125 ]\n",
      " [ 5.8841114   5.561885  ]\n",
      " [ 1.8847603   7.9490266 ]\n",
      " [ 2.3790429   8.003778  ]\n",
      " [10.767824    2.9055243 ]\n",
      " [-0.76727     5.3027296 ]\n",
      " [ 5.6373663   6.8808784 ]\n",
      " [10.653263    2.7226298 ]\n",
      " [11.556623    3.0973933 ]\n",
      " [-1.0477784   3.6156754 ]\n",
      " [10.47621     2.659434  ]\n",
      " [ 2.5855908   8.756005  ]\n",
      " [11.677465    2.6826859 ]\n",
      " [ 5.596835    6.2335587 ]\n",
      " [-1.1147385   4.7686357 ]\n",
      " [ 2.6387918   8.662775  ]]\n"
     ]
    }
   ],
   "source": [
    "embedding = reducer.fit_transform(awa)\n",
    "print(embedding)"
   ]
  }
 ],
 "metadata": {
  "kernelspec": {
   "display_name": "neuron",
   "language": "python",
   "name": "python3"
  },
  "language_info": {
   "codemirror_mode": {
    "name": "ipython",
    "version": 3
   },
   "file_extension": ".py",
   "mimetype": "text/x-python",
   "name": "python",
   "nbconvert_exporter": "python",
   "pygments_lexer": "ipython3",
   "version": "3.11.4"
  }
 },
 "nbformat": 4,
 "nbformat_minor": 2
}
